{
  "cells": [
    {
      "cell_type": "markdown",
      "metadata": {
        "id": "view-in-github",
        "colab_type": "text"
      },
      "source": [
        "<a href=\"https://colab.research.google.com/github/mishraShraddha/my_projects/blob/main/sentiment_analysis_of_financial_news_project.ipynb\" target=\"_parent\"><img src=\"https://colab.research.google.com/assets/colab-badge.svg\" alt=\"Open In Colab\"/></a>"
      ]
    },
    {
      "cell_type": "markdown",
      "metadata": {
        "id": "lC6R4QaV0Ci0"
      },
      "source": [
        "# Sentiment Analysis of Financial News Using NLTK"
      ]
    },
    {
      "cell_type": "markdown",
      "metadata": {
        "id": "Iq7zwt8VJh1Z"
      },
      "source": [
        "We have to predict the sentiment of fiancial news using nltk"
      ]
    },
    {
      "cell_type": "markdown",
      "metadata": {
        "id": "Y6-xhkpm0MqU"
      },
      "source": [
        "#About Dataset\n",
        "\n",
        "This dataset contains 3 csv file\n",
        "\n",
        "cnbc headline   (3080, 3)\n",
        "\n",
        "gaurdian headline   (17800, 2)\n",
        "\n",
        "reuters headline   (32770, 3)\n"
      ]
    },
    {
      "cell_type": "markdown",
      "metadata": {
        "id": "sZRF0xat134_"
      },
      "source": [
        "# Columns Provided in the Dataset\n",
        "\n",
        "cnbc headline\n",
        "1. time\n",
        "2. headlines\n",
        "3. Description\n",
        "\n",
        "gaurdian headline\n",
        "1. time\n",
        "2. headline\n",
        "\n",
        "reuters headline\n",
        "1. time\n",
        "2. headline\n",
        "3. description\n"
      ]
    },
    {
      "cell_type": "markdown",
      "metadata": {
        "id": "5Q1HBH6RfLoZ"
      },
      "source": [
        "# What is NLTK ?\n",
        "\n",
        "The Natural Language Toolkit (NLTK) is a platform used for building Python programs that work with human language data for applying in statistical natural language processing (NLP).\n",
        "\n",
        "It contains text processing libraries for tokenization, parsing, classification, stemming, tagging and semantic reasoning.\n",
        "\n",
        "\n",
        "\n",
        "\n",
        "\n",
        "# What is sentiment analysis ?\n",
        "\n",
        "Sentiment analysis is the process of detecting positive or negative sentiment in text. It’s often used by businesses to detect sentiment in social data, gauge brand reputation, and understand customers.\n",
        "\n",
        "\n",
        "\n"
      ]
    },
    {
      "cell_type": "code",
      "execution_count": 127,
      "metadata": {
        "colab": {
          "base_uri": "https://localhost:8080/"
        },
        "id": "pE3JktaFgX_s",
        "outputId": "89208745-0df8-4f3a-c761-5e7d563c5c33"
      },
      "outputs": [
        {
          "output_type": "stream",
          "name": "stderr",
          "text": [
            "[nltk_data] Downloading package stopwords to /root/nltk_data...\n",
            "[nltk_data]   Package stopwords is already up-to-date!\n"
          ]
        }
      ],
      "source": [
        "# Import all the required libraries \n",
        "\n",
        "import numpy as np\n",
        "import pandas as pd\n",
        "import nltk\n",
        "import re\n",
        "from nltk.stem import PorterStemmer, WordNetLemmatizer\n",
        "from nltk.tokenize import word_tokenize\n",
        "import matplotlib.pyplot as plt\n",
        "import seaborn as sns\n",
        "%matplotlib inline\n",
        "\n",
        "#import stopwords and text processing libraries\n",
        "nltk.download('stopwords')\n",
        "from nltk.corpus import stopwords\n",
        "stopwords = stopwords.words('english')\n",
        "\n",
        "\n",
        "\n"
      ]
    },
    {
      "cell_type": "code",
      "execution_count": 128,
      "metadata": {
        "id": "B1qtW2W7gX67"
      },
      "outputs": [],
      "source": [
        "#import machine learning libraries\n",
        "\n",
        "import sklearn\n",
        "\n"
      ]
    },
    {
      "cell_type": "markdown",
      "metadata": {
        "id": "ijgTOXVu4QvL"
      },
      "source": [
        "# Basic EDA on cnbc_headlines dataset"
      ]
    },
    {
      "cell_type": "code",
      "execution_count": 129,
      "metadata": {
        "id": "EkHTI2fsgX1x"
      },
      "outputs": [],
      "source": [
        "# Read csv file of cnbc headlines using pandas\n",
        "cnbc=pd.read_csv('cnbc_headlines.csv')"
      ]
    },
    {
      "cell_type": "code",
      "execution_count": 130,
      "metadata": {
        "colab": {
          "base_uri": "https://localhost:8080/",
          "height": 363
        },
        "id": "Pel3IRW1gX0_",
        "outputId": "119c3695-b82d-4758-9f2b-0eaf72c61839"
      },
      "outputs": [
        {
          "output_type": "execute_result",
          "data": {
            "text/plain": [
              "                                           Headlines  \\\n",
              "0  Jim Cramer: A better way to invest in the Covi...   \n",
              "1     Cramer's lightning round: I would own Teradyne   \n",
              "2                                                NaN   \n",
              "3  Cramer's week ahead: Big week for earnings, ev...   \n",
              "4  IQ Capital CEO Keith Bliss says tech and healt...   \n",
              "5  Wall Street delivered the 'kind of pullback I'...   \n",
              "6  Cramer's lightning round: I would just stay lo...   \n",
              "7  Acorns CEO: Parents can turn $5 into five figu...   \n",
              "8  Dividend cuts may mean rethinking your retirem...   \n",
              "9                                                NaN   \n",
              "\n",
              "                             Time  \\\n",
              "0   7:51  PM ET Fri, 17 July 2020   \n",
              "1   7:33  PM ET Fri, 17 July 2020   \n",
              "2                             NaN   \n",
              "3   7:25  PM ET Fri, 17 July 2020   \n",
              "4   4:24  PM ET Fri, 17 July 2020   \n",
              "5   7:36  PM ET Thu, 16 July 2020   \n",
              "6   7:23  PM ET Thu, 16 July 2020   \n",
              "7   8:03  PM ET Thu, 16 July 2020   \n",
              "8   8:54  AM ET Thu, 16 July 2020   \n",
              "9                             NaN   \n",
              "\n",
              "                                         Description  \n",
              "0  \"Mad Money\" host Jim Cramer recommended buying...  \n",
              "1  \"Mad Money\" host Jim Cramer rings the lightnin...  \n",
              "2                                                NaN  \n",
              "3  \"We'll pay more for the earnings of the non-Co...  \n",
              "4  Keith Bliss, IQ Capital CEO, joins \"Closing Be...  \n",
              "5  \"Look for the stocks of high-quality companies...  \n",
              "6  \"Mad Money\" host Jim Cramer rings the lightnin...  \n",
              "7  Investing $5 per day can compound to $70,000 b...  \n",
              "8  Hundreds of companies have cut or suspended th...  \n",
              "9                                                NaN  "
            ],
            "text/html": [
              "\n",
              "  <div id=\"df-0a050ebe-dfc4-4daa-9fb9-01bb7ed3c023\">\n",
              "    <div class=\"colab-df-container\">\n",
              "      <div>\n",
              "<style scoped>\n",
              "    .dataframe tbody tr th:only-of-type {\n",
              "        vertical-align: middle;\n",
              "    }\n",
              "\n",
              "    .dataframe tbody tr th {\n",
              "        vertical-align: top;\n",
              "    }\n",
              "\n",
              "    .dataframe thead th {\n",
              "        text-align: right;\n",
              "    }\n",
              "</style>\n",
              "<table border=\"1\" class=\"dataframe\">\n",
              "  <thead>\n",
              "    <tr style=\"text-align: right;\">\n",
              "      <th></th>\n",
              "      <th>Headlines</th>\n",
              "      <th>Time</th>\n",
              "      <th>Description</th>\n",
              "    </tr>\n",
              "  </thead>\n",
              "  <tbody>\n",
              "    <tr>\n",
              "      <th>0</th>\n",
              "      <td>Jim Cramer: A better way to invest in the Covi...</td>\n",
              "      <td>7:51  PM ET Fri, 17 July 2020</td>\n",
              "      <td>\"Mad Money\" host Jim Cramer recommended buying...</td>\n",
              "    </tr>\n",
              "    <tr>\n",
              "      <th>1</th>\n",
              "      <td>Cramer's lightning round: I would own Teradyne</td>\n",
              "      <td>7:33  PM ET Fri, 17 July 2020</td>\n",
              "      <td>\"Mad Money\" host Jim Cramer rings the lightnin...</td>\n",
              "    </tr>\n",
              "    <tr>\n",
              "      <th>2</th>\n",
              "      <td>NaN</td>\n",
              "      <td>NaN</td>\n",
              "      <td>NaN</td>\n",
              "    </tr>\n",
              "    <tr>\n",
              "      <th>3</th>\n",
              "      <td>Cramer's week ahead: Big week for earnings, ev...</td>\n",
              "      <td>7:25  PM ET Fri, 17 July 2020</td>\n",
              "      <td>\"We'll pay more for the earnings of the non-Co...</td>\n",
              "    </tr>\n",
              "    <tr>\n",
              "      <th>4</th>\n",
              "      <td>IQ Capital CEO Keith Bliss says tech and healt...</td>\n",
              "      <td>4:24  PM ET Fri, 17 July 2020</td>\n",
              "      <td>Keith Bliss, IQ Capital CEO, joins \"Closing Be...</td>\n",
              "    </tr>\n",
              "    <tr>\n",
              "      <th>5</th>\n",
              "      <td>Wall Street delivered the 'kind of pullback I'...</td>\n",
              "      <td>7:36  PM ET Thu, 16 July 2020</td>\n",
              "      <td>\"Look for the stocks of high-quality companies...</td>\n",
              "    </tr>\n",
              "    <tr>\n",
              "      <th>6</th>\n",
              "      <td>Cramer's lightning round: I would just stay lo...</td>\n",
              "      <td>7:23  PM ET Thu, 16 July 2020</td>\n",
              "      <td>\"Mad Money\" host Jim Cramer rings the lightnin...</td>\n",
              "    </tr>\n",
              "    <tr>\n",
              "      <th>7</th>\n",
              "      <td>Acorns CEO: Parents can turn $5 into five figu...</td>\n",
              "      <td>8:03  PM ET Thu, 16 July 2020</td>\n",
              "      <td>Investing $5 per day can compound to $70,000 b...</td>\n",
              "    </tr>\n",
              "    <tr>\n",
              "      <th>8</th>\n",
              "      <td>Dividend cuts may mean rethinking your retirem...</td>\n",
              "      <td>8:54  AM ET Thu, 16 July 2020</td>\n",
              "      <td>Hundreds of companies have cut or suspended th...</td>\n",
              "    </tr>\n",
              "    <tr>\n",
              "      <th>9</th>\n",
              "      <td>NaN</td>\n",
              "      <td>NaN</td>\n",
              "      <td>NaN</td>\n",
              "    </tr>\n",
              "  </tbody>\n",
              "</table>\n",
              "</div>\n",
              "      <button class=\"colab-df-convert\" onclick=\"convertToInteractive('df-0a050ebe-dfc4-4daa-9fb9-01bb7ed3c023')\"\n",
              "              title=\"Convert this dataframe to an interactive table.\"\n",
              "              style=\"display:none;\">\n",
              "        \n",
              "  <svg xmlns=\"http://www.w3.org/2000/svg\" height=\"24px\"viewBox=\"0 0 24 24\"\n",
              "       width=\"24px\">\n",
              "    <path d=\"M0 0h24v24H0V0z\" fill=\"none\"/>\n",
              "    <path d=\"M18.56 5.44l.94 2.06.94-2.06 2.06-.94-2.06-.94-.94-2.06-.94 2.06-2.06.94zm-11 1L8.5 8.5l.94-2.06 2.06-.94-2.06-.94L8.5 2.5l-.94 2.06-2.06.94zm10 10l.94 2.06.94-2.06 2.06-.94-2.06-.94-.94-2.06-.94 2.06-2.06.94z\"/><path d=\"M17.41 7.96l-1.37-1.37c-.4-.4-.92-.59-1.43-.59-.52 0-1.04.2-1.43.59L10.3 9.45l-7.72 7.72c-.78.78-.78 2.05 0 2.83L4 21.41c.39.39.9.59 1.41.59.51 0 1.02-.2 1.41-.59l7.78-7.78 2.81-2.81c.8-.78.8-2.07 0-2.86zM5.41 20L4 18.59l7.72-7.72 1.47 1.35L5.41 20z\"/>\n",
              "  </svg>\n",
              "      </button>\n",
              "      \n",
              "  <style>\n",
              "    .colab-df-container {\n",
              "      display:flex;\n",
              "      flex-wrap:wrap;\n",
              "      gap: 12px;\n",
              "    }\n",
              "\n",
              "    .colab-df-convert {\n",
              "      background-color: #E8F0FE;\n",
              "      border: none;\n",
              "      border-radius: 50%;\n",
              "      cursor: pointer;\n",
              "      display: none;\n",
              "      fill: #1967D2;\n",
              "      height: 32px;\n",
              "      padding: 0 0 0 0;\n",
              "      width: 32px;\n",
              "    }\n",
              "\n",
              "    .colab-df-convert:hover {\n",
              "      background-color: #E2EBFA;\n",
              "      box-shadow: 0px 1px 2px rgba(60, 64, 67, 0.3), 0px 1px 3px 1px rgba(60, 64, 67, 0.15);\n",
              "      fill: #174EA6;\n",
              "    }\n",
              "\n",
              "    [theme=dark] .colab-df-convert {\n",
              "      background-color: #3B4455;\n",
              "      fill: #D2E3FC;\n",
              "    }\n",
              "\n",
              "    [theme=dark] .colab-df-convert:hover {\n",
              "      background-color: #434B5C;\n",
              "      box-shadow: 0px 1px 3px 1px rgba(0, 0, 0, 0.15);\n",
              "      filter: drop-shadow(0px 1px 2px rgba(0, 0, 0, 0.3));\n",
              "      fill: #FFFFFF;\n",
              "    }\n",
              "  </style>\n",
              "\n",
              "      <script>\n",
              "        const buttonEl =\n",
              "          document.querySelector('#df-0a050ebe-dfc4-4daa-9fb9-01bb7ed3c023 button.colab-df-convert');\n",
              "        buttonEl.style.display =\n",
              "          google.colab.kernel.accessAllowed ? 'block' : 'none';\n",
              "\n",
              "        async function convertToInteractive(key) {\n",
              "          const element = document.querySelector('#df-0a050ebe-dfc4-4daa-9fb9-01bb7ed3c023');\n",
              "          const dataTable =\n",
              "            await google.colab.kernel.invokeFunction('convertToInteractive',\n",
              "                                                     [key], {});\n",
              "          if (!dataTable) return;\n",
              "\n",
              "          const docLinkHtml = 'Like what you see? Visit the ' +\n",
              "            '<a target=\"_blank\" href=https://colab.research.google.com/notebooks/data_table.ipynb>data table notebook</a>'\n",
              "            + ' to learn more about interactive tables.';\n",
              "          element.innerHTML = '';\n",
              "          dataTable['output_type'] = 'display_data';\n",
              "          await google.colab.output.renderOutput(dataTable, element);\n",
              "          const docLink = document.createElement('div');\n",
              "          docLink.innerHTML = docLinkHtml;\n",
              "          element.appendChild(docLink);\n",
              "        }\n",
              "      </script>\n",
              "    </div>\n",
              "  </div>\n",
              "  "
            ]
          },
          "metadata": {},
          "execution_count": 130
        }
      ],
      "source": [
        "cnbc.head(10)"
      ]
    },
    {
      "cell_type": "code",
      "execution_count": 131,
      "metadata": {
        "colab": {
          "base_uri": "https://localhost:8080/"
        },
        "id": "7MY607w2gXxS",
        "outputId": "84de94d5-a066-4490-affe-91d4166d8641"
      },
      "outputs": [
        {
          "output_type": "execute_result",
          "data": {
            "text/plain": [
              "(3080, 3)"
            ]
          },
          "metadata": {},
          "execution_count": 131
        }
      ],
      "source": [
        "# check the shape of cnbc headline dataset\n",
        "cnbc.shape"
      ]
    },
    {
      "cell_type": "code",
      "execution_count": 132,
      "metadata": {
        "colab": {
          "base_uri": "https://localhost:8080/"
        },
        "id": "fGyvfk-ZgXwN",
        "outputId": "7866fded-3159-4e6f-c956-f02243d3f339"
      },
      "outputs": [
        {
          "output_type": "execute_result",
          "data": {
            "text/plain": [
              "Index(['Headlines', 'Time', 'Description'], dtype='object')"
            ]
          },
          "metadata": {},
          "execution_count": 132
        }
      ],
      "source": [
        "# Check all the columns in the cnbc headline dataset\n",
        "cnbc.columns"
      ]
    },
    {
      "cell_type": "code",
      "execution_count": 133,
      "metadata": {
        "colab": {
          "base_uri": "https://localhost:8080/"
        },
        "id": "kFiwMd7BgXr4",
        "outputId": "89d7a914-a353-4635-df31-fb67771bfdc2"
      },
      "outputs": [
        {
          "output_type": "stream",
          "name": "stdout",
          "text": [
            "<class 'pandas.core.frame.DataFrame'>\n",
            "RangeIndex: 3080 entries, 0 to 3079\n",
            "Data columns (total 3 columns):\n",
            " #   Column       Non-Null Count  Dtype \n",
            "---  ------       --------------  ----- \n",
            " 0   Headlines    2800 non-null   object\n",
            " 1   Time         2800 non-null   object\n",
            " 2   Description  2800 non-null   object\n",
            "dtypes: object(3)\n",
            "memory usage: 72.3+ KB\n"
          ]
        }
      ],
      "source": [
        "# Check which columns are having categorical, numerical or boolean values\n",
        "cnbc.info()"
      ]
    },
    {
      "cell_type": "code",
      "execution_count": 134,
      "metadata": {
        "colab": {
          "base_uri": "https://localhost:8080/"
        },
        "id": "oST2tsU9gXrE",
        "outputId": "0543c5f9-f9ac-4d69-8782-5ce4612be5b5"
      },
      "outputs": [
        {
          "output_type": "execute_result",
          "data": {
            "text/plain": [
              "Headlines      280\n",
              "Time           280\n",
              "Description    280\n",
              "dtype: int64"
            ]
          },
          "metadata": {},
          "execution_count": 134
        }
      ],
      "source": [
        "# Check for missing values in all the columnns of cnbc headline dataset\n",
        "cnbc.isnull().sum()"
      ]
    },
    {
      "cell_type": "markdown",
      "metadata": {
        "id": "YRLZs_Jg8T3r"
      },
      "source": [
        "There is 280 missing values in headlines, description and time"
      ]
    },
    {
      "cell_type": "code",
      "execution_count": 135,
      "metadata": {
        "id": "PdlYoGUfgXnE"
      },
      "outputs": [],
      "source": [
        " # drop nan values in cnbc headline dataset\n",
        "cnbc.dropna(inplace=True)"
      ]
    },
    {
      "cell_type": "code",
      "execution_count": 136,
      "metadata": {
        "id": "cD2J5VmmgXid"
      },
      "outputs": [],
      "source": [
        "# drop the duplicate rows in the dataset keep the first one\n",
        "cnbc.drop_duplicates(keep='first',inplace=True)"
      ]
    },
    {
      "cell_type": "code",
      "execution_count": 137,
      "metadata": {
        "colab": {
          "base_uri": "https://localhost:8080/"
        },
        "id": "WD5tcCcagXhU",
        "outputId": "15e65cd9-8d6a-4120-9efd-8ca44165cad7"
      },
      "outputs": [
        {
          "output_type": "execute_result",
          "data": {
            "text/plain": [
              "(2800, 3)"
            ]
          },
          "metadata": {},
          "execution_count": 137
        }
      ],
      "source": [
        "# check the shape of cnbc headline dataset\n",
        "cnbc.shape"
      ]
    },
    {
      "cell_type": "markdown",
      "metadata": {
        "id": "JZFVAsUf53Vv"
      },
      "source": [
        "# Basic EDA on Gaurdian headlines dataset"
      ]
    },
    {
      "cell_type": "code",
      "execution_count": 138,
      "metadata": {
        "id": "st0vypi5gXTz"
      },
      "outputs": [],
      "source": [
        "# Read csv file of gaurdian headlines using pandas\n",
        "guardian=pd.read_csv('guardian_headlines.csv')"
      ]
    },
    {
      "cell_type": "code",
      "execution_count": 139,
      "metadata": {
        "colab": {
          "base_uri": "https://localhost:8080/",
          "height": 206
        },
        "id": "O15tPmH1gXS5",
        "outputId": "ad0d7c3f-6539-4e3a-f3bd-d7bcc4f39095"
      },
      "outputs": [
        {
          "output_type": "execute_result",
          "data": {
            "text/plain": [
              "        Time                                          Headlines\n",
              "0  18-Jul-20   Johnson is asking Santa for a Christmas recovery\n",
              "1  18-Jul-20  ‘I now fear the worst’: four grim tales of wor...\n",
              "2  18-Jul-20  Five key areas Sunak must tackle to serve up e...\n",
              "3  18-Jul-20  Covid-19 leaves firms ‘fatally ill-prepared’ f...\n",
              "4  18-Jul-20  The Week in Patriarchy  \\n\\n\\n  Bacardi's 'lad..."
            ],
            "text/html": [
              "\n",
              "  <div id=\"df-a609435c-4af4-4ccc-8efa-d1d0033f61f8\">\n",
              "    <div class=\"colab-df-container\">\n",
              "      <div>\n",
              "<style scoped>\n",
              "    .dataframe tbody tr th:only-of-type {\n",
              "        vertical-align: middle;\n",
              "    }\n",
              "\n",
              "    .dataframe tbody tr th {\n",
              "        vertical-align: top;\n",
              "    }\n",
              "\n",
              "    .dataframe thead th {\n",
              "        text-align: right;\n",
              "    }\n",
              "</style>\n",
              "<table border=\"1\" class=\"dataframe\">\n",
              "  <thead>\n",
              "    <tr style=\"text-align: right;\">\n",
              "      <th></th>\n",
              "      <th>Time</th>\n",
              "      <th>Headlines</th>\n",
              "    </tr>\n",
              "  </thead>\n",
              "  <tbody>\n",
              "    <tr>\n",
              "      <th>0</th>\n",
              "      <td>18-Jul-20</td>\n",
              "      <td>Johnson is asking Santa for a Christmas recovery</td>\n",
              "    </tr>\n",
              "    <tr>\n",
              "      <th>1</th>\n",
              "      <td>18-Jul-20</td>\n",
              "      <td>‘I now fear the worst’: four grim tales of wor...</td>\n",
              "    </tr>\n",
              "    <tr>\n",
              "      <th>2</th>\n",
              "      <td>18-Jul-20</td>\n",
              "      <td>Five key areas Sunak must tackle to serve up e...</td>\n",
              "    </tr>\n",
              "    <tr>\n",
              "      <th>3</th>\n",
              "      <td>18-Jul-20</td>\n",
              "      <td>Covid-19 leaves firms ‘fatally ill-prepared’ f...</td>\n",
              "    </tr>\n",
              "    <tr>\n",
              "      <th>4</th>\n",
              "      <td>18-Jul-20</td>\n",
              "      <td>The Week in Patriarchy  \\n\\n\\n  Bacardi's 'lad...</td>\n",
              "    </tr>\n",
              "  </tbody>\n",
              "</table>\n",
              "</div>\n",
              "      <button class=\"colab-df-convert\" onclick=\"convertToInteractive('df-a609435c-4af4-4ccc-8efa-d1d0033f61f8')\"\n",
              "              title=\"Convert this dataframe to an interactive table.\"\n",
              "              style=\"display:none;\">\n",
              "        \n",
              "  <svg xmlns=\"http://www.w3.org/2000/svg\" height=\"24px\"viewBox=\"0 0 24 24\"\n",
              "       width=\"24px\">\n",
              "    <path d=\"M0 0h24v24H0V0z\" fill=\"none\"/>\n",
              "    <path d=\"M18.56 5.44l.94 2.06.94-2.06 2.06-.94-2.06-.94-.94-2.06-.94 2.06-2.06.94zm-11 1L8.5 8.5l.94-2.06 2.06-.94-2.06-.94L8.5 2.5l-.94 2.06-2.06.94zm10 10l.94 2.06.94-2.06 2.06-.94-2.06-.94-.94-2.06-.94 2.06-2.06.94z\"/><path d=\"M17.41 7.96l-1.37-1.37c-.4-.4-.92-.59-1.43-.59-.52 0-1.04.2-1.43.59L10.3 9.45l-7.72 7.72c-.78.78-.78 2.05 0 2.83L4 21.41c.39.39.9.59 1.41.59.51 0 1.02-.2 1.41-.59l7.78-7.78 2.81-2.81c.8-.78.8-2.07 0-2.86zM5.41 20L4 18.59l7.72-7.72 1.47 1.35L5.41 20z\"/>\n",
              "  </svg>\n",
              "      </button>\n",
              "      \n",
              "  <style>\n",
              "    .colab-df-container {\n",
              "      display:flex;\n",
              "      flex-wrap:wrap;\n",
              "      gap: 12px;\n",
              "    }\n",
              "\n",
              "    .colab-df-convert {\n",
              "      background-color: #E8F0FE;\n",
              "      border: none;\n",
              "      border-radius: 50%;\n",
              "      cursor: pointer;\n",
              "      display: none;\n",
              "      fill: #1967D2;\n",
              "      height: 32px;\n",
              "      padding: 0 0 0 0;\n",
              "      width: 32px;\n",
              "    }\n",
              "\n",
              "    .colab-df-convert:hover {\n",
              "      background-color: #E2EBFA;\n",
              "      box-shadow: 0px 1px 2px rgba(60, 64, 67, 0.3), 0px 1px 3px 1px rgba(60, 64, 67, 0.15);\n",
              "      fill: #174EA6;\n",
              "    }\n",
              "\n",
              "    [theme=dark] .colab-df-convert {\n",
              "      background-color: #3B4455;\n",
              "      fill: #D2E3FC;\n",
              "    }\n",
              "\n",
              "    [theme=dark] .colab-df-convert:hover {\n",
              "      background-color: #434B5C;\n",
              "      box-shadow: 0px 1px 3px 1px rgba(0, 0, 0, 0.15);\n",
              "      filter: drop-shadow(0px 1px 2px rgba(0, 0, 0, 0.3));\n",
              "      fill: #FFFFFF;\n",
              "    }\n",
              "  </style>\n",
              "\n",
              "      <script>\n",
              "        const buttonEl =\n",
              "          document.querySelector('#df-a609435c-4af4-4ccc-8efa-d1d0033f61f8 button.colab-df-convert');\n",
              "        buttonEl.style.display =\n",
              "          google.colab.kernel.accessAllowed ? 'block' : 'none';\n",
              "\n",
              "        async function convertToInteractive(key) {\n",
              "          const element = document.querySelector('#df-a609435c-4af4-4ccc-8efa-d1d0033f61f8');\n",
              "          const dataTable =\n",
              "            await google.colab.kernel.invokeFunction('convertToInteractive',\n",
              "                                                     [key], {});\n",
              "          if (!dataTable) return;\n",
              "\n",
              "          const docLinkHtml = 'Like what you see? Visit the ' +\n",
              "            '<a target=\"_blank\" href=https://colab.research.google.com/notebooks/data_table.ipynb>data table notebook</a>'\n",
              "            + ' to learn more about interactive tables.';\n",
              "          element.innerHTML = '';\n",
              "          dataTable['output_type'] = 'display_data';\n",
              "          await google.colab.output.renderOutput(dataTable, element);\n",
              "          const docLink = document.createElement('div');\n",
              "          docLink.innerHTML = docLinkHtml;\n",
              "          element.appendChild(docLink);\n",
              "        }\n",
              "      </script>\n",
              "    </div>\n",
              "  </div>\n",
              "  "
            ]
          },
          "metadata": {},
          "execution_count": 139
        }
      ],
      "source": [
        "guardian.head(5)"
      ]
    },
    {
      "cell_type": "code",
      "execution_count": 140,
      "metadata": {
        "colab": {
          "base_uri": "https://localhost:8080/"
        },
        "id": "09OSuHhRgXNf",
        "outputId": "9948fbc6-55d5-4b31-b346-73d2ffda9202"
      },
      "outputs": [
        {
          "output_type": "execute_result",
          "data": {
            "text/plain": [
              "(17800, 2)"
            ]
          },
          "metadata": {},
          "execution_count": 140
        }
      ],
      "source": [
        "#check the shape of gaurdian headline dataset\n",
        "guardian.shape"
      ]
    },
    {
      "cell_type": "code",
      "execution_count": 141,
      "metadata": {
        "colab": {
          "base_uri": "https://localhost:8080/"
        },
        "id": "7gKFN26whZnD",
        "outputId": "dc9657e5-d19a-4501-8c03-2053c561a777"
      },
      "outputs": [
        {
          "output_type": "execute_result",
          "data": {
            "text/plain": [
              "Index(['Time', 'Headlines'], dtype='object')"
            ]
          },
          "metadata": {},
          "execution_count": 141
        }
      ],
      "source": [
        "#check columns of gaurdian headline\n",
        "guardian.columns"
      ]
    },
    {
      "cell_type": "code",
      "execution_count": 142,
      "metadata": {
        "colab": {
          "base_uri": "https://localhost:8080/"
        },
        "id": "5fplFio3hZmG",
        "outputId": "34fd7c97-4056-48f5-bca6-9f9364d602be"
      },
      "outputs": [
        {
          "output_type": "stream",
          "name": "stdout",
          "text": [
            "<class 'pandas.core.frame.DataFrame'>\n",
            "RangeIndex: 17800 entries, 0 to 17799\n",
            "Data columns (total 2 columns):\n",
            " #   Column     Non-Null Count  Dtype \n",
            "---  ------     --------------  ----- \n",
            " 0   Time       17800 non-null  object\n",
            " 1   Headlines  17800 non-null  object\n",
            "dtypes: object(2)\n",
            "memory usage: 278.2+ KB\n"
          ]
        }
      ],
      "source": [
        "# Check which columns are having categorical, numerical or boolean values\n",
        "guardian.info()"
      ]
    },
    {
      "cell_type": "code",
      "execution_count": 143,
      "metadata": {
        "colab": {
          "base_uri": "https://localhost:8080/"
        },
        "id": "qaWAwEazhZh8",
        "outputId": "b03eecf6-9988-4dd7-c184-30078838fe77"
      },
      "outputs": [
        {
          "output_type": "execute_result",
          "data": {
            "text/plain": [
              "Time         0\n",
              "Headlines    0\n",
              "dtype: int64"
            ]
          },
          "metadata": {},
          "execution_count": 143
        }
      ],
      "source": [
        "# check null values in gaurdian headlines dataset\n",
        "guardian.isnull().sum()"
      ]
    },
    {
      "cell_type": "code",
      "execution_count": 144,
      "metadata": {
        "id": "NBtOooYChZg9"
      },
      "outputs": [],
      "source": [
        "# drop duplicate rows in headlines and keep the first one\n",
        "guardian.drop_duplicates(keep='first',inplace=True)"
      ]
    },
    {
      "cell_type": "code",
      "source": [
        "guardian.shape"
      ],
      "metadata": {
        "colab": {
          "base_uri": "https://localhost:8080/"
        },
        "id": "XPvJNFsJDkYK",
        "outputId": "b48b3c28-0aef-4524-dfc7-55ce25d25b56"
      },
      "execution_count": 145,
      "outputs": [
        {
          "output_type": "execute_result",
          "data": {
            "text/plain": [
              "(17800, 2)"
            ]
          },
          "metadata": {},
          "execution_count": 145
        }
      ]
    },
    {
      "cell_type": "markdown",
      "metadata": {
        "id": "3iwjVwnv6-v3"
      },
      "source": [
        "# Basic EDA on reuters headlines"
      ]
    },
    {
      "cell_type": "code",
      "execution_count": 146,
      "metadata": {
        "id": "asNDch3WhZXh"
      },
      "outputs": [],
      "source": [
        "# Read csv file of reuters headlines using using pandas\n",
        "reuters=pd.read_csv('reuters_headlines.csv')"
      ]
    },
    {
      "cell_type": "code",
      "execution_count": 147,
      "metadata": {
        "colab": {
          "base_uri": "https://localhost:8080/",
          "height": 206
        },
        "id": "n-FuGab8hZS0",
        "outputId": "6dbfda5e-f5e8-403d-ba96-656694fe53c8"
      },
      "outputs": [
        {
          "output_type": "execute_result",
          "data": {
            "text/plain": [
              "                                           Headlines         Time  \\\n",
              "0  TikTok considers London and other locations fo...  Jul 18 2020   \n",
              "1  Disney cuts ad spending on Facebook amid growi...  Jul 18 2020   \n",
              "2  Trail of missing Wirecard executive leads to B...  Jul 18 2020   \n",
              "3  Twitter says attackers downloaded data from up...  Jul 18 2020   \n",
              "4  U.S. Republicans seek liability protections as...  Jul 17 2020   \n",
              "\n",
              "                                         Description  \n",
              "0  TikTok has been in discussions with the UK gov...  \n",
              "1  Walt Disney  has become the latest company to ...  \n",
              "2  Former Wirecard  chief operating officer Jan M...  \n",
              "3  Twitter Inc said on Saturday that hackers were...  \n",
              "4  A battle in the U.S. Congress over a new coron...  "
            ],
            "text/html": [
              "\n",
              "  <div id=\"df-6b0c2b3f-1fe4-4d5f-95a0-3e6b8732b182\">\n",
              "    <div class=\"colab-df-container\">\n",
              "      <div>\n",
              "<style scoped>\n",
              "    .dataframe tbody tr th:only-of-type {\n",
              "        vertical-align: middle;\n",
              "    }\n",
              "\n",
              "    .dataframe tbody tr th {\n",
              "        vertical-align: top;\n",
              "    }\n",
              "\n",
              "    .dataframe thead th {\n",
              "        text-align: right;\n",
              "    }\n",
              "</style>\n",
              "<table border=\"1\" class=\"dataframe\">\n",
              "  <thead>\n",
              "    <tr style=\"text-align: right;\">\n",
              "      <th></th>\n",
              "      <th>Headlines</th>\n",
              "      <th>Time</th>\n",
              "      <th>Description</th>\n",
              "    </tr>\n",
              "  </thead>\n",
              "  <tbody>\n",
              "    <tr>\n",
              "      <th>0</th>\n",
              "      <td>TikTok considers London and other locations fo...</td>\n",
              "      <td>Jul 18 2020</td>\n",
              "      <td>TikTok has been in discussions with the UK gov...</td>\n",
              "    </tr>\n",
              "    <tr>\n",
              "      <th>1</th>\n",
              "      <td>Disney cuts ad spending on Facebook amid growi...</td>\n",
              "      <td>Jul 18 2020</td>\n",
              "      <td>Walt Disney  has become the latest company to ...</td>\n",
              "    </tr>\n",
              "    <tr>\n",
              "      <th>2</th>\n",
              "      <td>Trail of missing Wirecard executive leads to B...</td>\n",
              "      <td>Jul 18 2020</td>\n",
              "      <td>Former Wirecard  chief operating officer Jan M...</td>\n",
              "    </tr>\n",
              "    <tr>\n",
              "      <th>3</th>\n",
              "      <td>Twitter says attackers downloaded data from up...</td>\n",
              "      <td>Jul 18 2020</td>\n",
              "      <td>Twitter Inc said on Saturday that hackers were...</td>\n",
              "    </tr>\n",
              "    <tr>\n",
              "      <th>4</th>\n",
              "      <td>U.S. Republicans seek liability protections as...</td>\n",
              "      <td>Jul 17 2020</td>\n",
              "      <td>A battle in the U.S. Congress over a new coron...</td>\n",
              "    </tr>\n",
              "  </tbody>\n",
              "</table>\n",
              "</div>\n",
              "      <button class=\"colab-df-convert\" onclick=\"convertToInteractive('df-6b0c2b3f-1fe4-4d5f-95a0-3e6b8732b182')\"\n",
              "              title=\"Convert this dataframe to an interactive table.\"\n",
              "              style=\"display:none;\">\n",
              "        \n",
              "  <svg xmlns=\"http://www.w3.org/2000/svg\" height=\"24px\"viewBox=\"0 0 24 24\"\n",
              "       width=\"24px\">\n",
              "    <path d=\"M0 0h24v24H0V0z\" fill=\"none\"/>\n",
              "    <path d=\"M18.56 5.44l.94 2.06.94-2.06 2.06-.94-2.06-.94-.94-2.06-.94 2.06-2.06.94zm-11 1L8.5 8.5l.94-2.06 2.06-.94-2.06-.94L8.5 2.5l-.94 2.06-2.06.94zm10 10l.94 2.06.94-2.06 2.06-.94-2.06-.94-.94-2.06-.94 2.06-2.06.94z\"/><path d=\"M17.41 7.96l-1.37-1.37c-.4-.4-.92-.59-1.43-.59-.52 0-1.04.2-1.43.59L10.3 9.45l-7.72 7.72c-.78.78-.78 2.05 0 2.83L4 21.41c.39.39.9.59 1.41.59.51 0 1.02-.2 1.41-.59l7.78-7.78 2.81-2.81c.8-.78.8-2.07 0-2.86zM5.41 20L4 18.59l7.72-7.72 1.47 1.35L5.41 20z\"/>\n",
              "  </svg>\n",
              "      </button>\n",
              "      \n",
              "  <style>\n",
              "    .colab-df-container {\n",
              "      display:flex;\n",
              "      flex-wrap:wrap;\n",
              "      gap: 12px;\n",
              "    }\n",
              "\n",
              "    .colab-df-convert {\n",
              "      background-color: #E8F0FE;\n",
              "      border: none;\n",
              "      border-radius: 50%;\n",
              "      cursor: pointer;\n",
              "      display: none;\n",
              "      fill: #1967D2;\n",
              "      height: 32px;\n",
              "      padding: 0 0 0 0;\n",
              "      width: 32px;\n",
              "    }\n",
              "\n",
              "    .colab-df-convert:hover {\n",
              "      background-color: #E2EBFA;\n",
              "      box-shadow: 0px 1px 2px rgba(60, 64, 67, 0.3), 0px 1px 3px 1px rgba(60, 64, 67, 0.15);\n",
              "      fill: #174EA6;\n",
              "    }\n",
              "\n",
              "    [theme=dark] .colab-df-convert {\n",
              "      background-color: #3B4455;\n",
              "      fill: #D2E3FC;\n",
              "    }\n",
              "\n",
              "    [theme=dark] .colab-df-convert:hover {\n",
              "      background-color: #434B5C;\n",
              "      box-shadow: 0px 1px 3px 1px rgba(0, 0, 0, 0.15);\n",
              "      filter: drop-shadow(0px 1px 2px rgba(0, 0, 0, 0.3));\n",
              "      fill: #FFFFFF;\n",
              "    }\n",
              "  </style>\n",
              "\n",
              "      <script>\n",
              "        const buttonEl =\n",
              "          document.querySelector('#df-6b0c2b3f-1fe4-4d5f-95a0-3e6b8732b182 button.colab-df-convert');\n",
              "        buttonEl.style.display =\n",
              "          google.colab.kernel.accessAllowed ? 'block' : 'none';\n",
              "\n",
              "        async function convertToInteractive(key) {\n",
              "          const element = document.querySelector('#df-6b0c2b3f-1fe4-4d5f-95a0-3e6b8732b182');\n",
              "          const dataTable =\n",
              "            await google.colab.kernel.invokeFunction('convertToInteractive',\n",
              "                                                     [key], {});\n",
              "          if (!dataTable) return;\n",
              "\n",
              "          const docLinkHtml = 'Like what you see? Visit the ' +\n",
              "            '<a target=\"_blank\" href=https://colab.research.google.com/notebooks/data_table.ipynb>data table notebook</a>'\n",
              "            + ' to learn more about interactive tables.';\n",
              "          element.innerHTML = '';\n",
              "          dataTable['output_type'] = 'display_data';\n",
              "          await google.colab.output.renderOutput(dataTable, element);\n",
              "          const docLink = document.createElement('div');\n",
              "          docLink.innerHTML = docLinkHtml;\n",
              "          element.appendChild(docLink);\n",
              "        }\n",
              "      </script>\n",
              "    </div>\n",
              "  </div>\n",
              "  "
            ]
          },
          "metadata": {},
          "execution_count": 147
        }
      ],
      "source": [
        "reuters.head(5)"
      ]
    },
    {
      "cell_type": "code",
      "execution_count": 148,
      "metadata": {
        "colab": {
          "base_uri": "https://localhost:8080/"
        },
        "id": "aRIhdEPyhZR3",
        "outputId": "2cdec580-4ba7-4174-d05d-fc07e5442ed5"
      },
      "outputs": [
        {
          "output_type": "execute_result",
          "data": {
            "text/plain": [
              "(32770, 3)"
            ]
          },
          "metadata": {},
          "execution_count": 148
        }
      ],
      "source": [
        "#check the shape of reuters headlines dataset\n",
        "reuters.shape"
      ]
    },
    {
      "cell_type": "code",
      "execution_count": 149,
      "metadata": {
        "colab": {
          "base_uri": "https://localhost:8080/"
        },
        "id": "zn6OnjCwhZN8",
        "outputId": "99b96c32-722a-40d1-a732-e121663834eb"
      },
      "outputs": [
        {
          "output_type": "execute_result",
          "data": {
            "text/plain": [
              "Index(['Headlines', 'Time', 'Description'], dtype='object')"
            ]
          },
          "metadata": {},
          "execution_count": 149
        }
      ],
      "source": [
        "#check the columns of reuters headline dataset\n",
        "reuters.columns"
      ]
    },
    {
      "cell_type": "code",
      "execution_count": 150,
      "metadata": {
        "colab": {
          "base_uri": "https://localhost:8080/"
        },
        "id": "go-UtVDjhZM1",
        "outputId": "79c1fdc3-3254-4c76-cc2f-ba5a431cade4"
      },
      "outputs": [
        {
          "output_type": "stream",
          "name": "stdout",
          "text": [
            "<class 'pandas.core.frame.DataFrame'>\n",
            "RangeIndex: 32770 entries, 0 to 32769\n",
            "Data columns (total 3 columns):\n",
            " #   Column       Non-Null Count  Dtype \n",
            "---  ------       --------------  ----- \n",
            " 0   Headlines    32770 non-null  object\n",
            " 1   Time         32770 non-null  object\n",
            " 2   Description  32770 non-null  object\n",
            "dtypes: object(3)\n",
            "memory usage: 768.2+ KB\n"
          ]
        }
      ],
      "source": [
        "# Check which columns are having categorical, numerical or boolean values\n",
        "reuters.info()"
      ]
    },
    {
      "cell_type": "code",
      "execution_count": 151,
      "metadata": {
        "colab": {
          "base_uri": "https://localhost:8080/"
        },
        "id": "7d7HOHV7hZJM",
        "outputId": "f2cbe15d-7463-4377-cf62-d1868c587df7"
      },
      "outputs": [
        {
          "output_type": "execute_result",
          "data": {
            "text/plain": [
              "Headlines      0\n",
              "Time           0\n",
              "Description    0\n",
              "dtype: int64"
            ]
          },
          "metadata": {},
          "execution_count": 151
        }
      ],
      "source": [
        "# Check for missing values in all the columnns of reuters headlines dataset\n",
        "reuters.isnull().sum()"
      ]
    },
    {
      "cell_type": "code",
      "execution_count": 152,
      "metadata": {
        "colab": {
          "base_uri": "https://localhost:8080/"
        },
        "id": "Zvbdb747hZHz",
        "outputId": "4f3b7cb2-4b42-4ed3-c87f-68ccf03f9598"
      },
      "outputs": [
        {
          "output_type": "execute_result",
          "data": {
            "text/plain": [
              "(32715, 3)"
            ]
          },
          "metadata": {},
          "execution_count": 152
        }
      ],
      "source": [
        "#drop the duplicate rows in reuters headlines dataset and keep the first one\n",
        "reuters.drop_duplicates(keep='first',inplace=True)\n",
        "reuters.shape"
      ]
    },
    {
      "cell_type": "markdown",
      "metadata": {
        "id": "2uvArOVne6jB"
      },
      "source": [
        "#Making some functions that we will need  ahead"
      ]
    },
    {
      "cell_type": "markdown",
      "metadata": {
        "id": "94zINn2npv1V"
      },
      "source": [
        "Preprocessing "
      ]
    },
    {
      "cell_type": "markdown",
      "metadata": {
        "id": "nV7crjnBpyX9"
      },
      "source": [
        "1. **Lowercase** - It is necessary to convert the text to lower case as it is case sensitive.\n",
        "\n",
        "2. **remove punctuations** -  The punctuations present in the text do not add value to the data. The punctuation, when attached to any word, will create a problem in differentiating with other words. so we have to get rid of them.\n",
        "\n",
        "3. **remove stopwords** -  Stopwords include: I, he, she, and, but, was were, being, have, etc, which do not add meaning to the data. So these words must be removed which helps to reduce the features from our data. These are removed after tokenizing the text.\n",
        "\n",
        "4. **stemming** -  A technique that takes the word to its root form. It just removes suffixes from the words. The stemmed word might not be part of the dictionary, i.e it will not necessarily give meaning.\n",
        "\n",
        "5. **lemmatizing** -  Takes the word to its root form called Lemma. It helps to bring words to their dictionary form. It is applied to nouns by default. It is more accurate as it uses more informed analysis to create groups of words with similar meanings based on the context, so it is complex and takes more time. This is used where we need to retain the contextual information."
      ]
    },
    {
      "cell_type": "code",
      "execution_count": 153,
      "metadata": {
        "id": "djtZVA_IhY9b"
      },
      "outputs": [],
      "source": [
        "# create a function for preprocessing \n",
        "def preprocessing(data):\n",
        "  #convert all to lowercase\n",
        "  data=data.lower()\n",
        "\n",
        "  #remove puntuations\n",
        "  data=re.sub(r'[^\\w\\s]','',data,flags=re.MULTILINE)\n",
        "\n",
        "  #remove stopword\n",
        "  tokens=word_tokenize(data)\n",
        "  word_tokens=[w for w in tokens if w not in stopwords]\n",
        "\n",
        "  #stemming\n",
        "  stemmer=PorterStemmer()\n",
        "  stem_words=[stemmer.stem(w) for w in word_tokens]\n",
        "\n",
        "\n",
        "  #lemmitizing\n",
        "  lemmer=WordNetLemmatizer()\n",
        "  lem_words=[lemmer.lemmatize(w) for w in stem_words]\n",
        "\n",
        "  return \" \".join(lem_words)\n",
        "  "
      ]
    },
    {
      "cell_type": "markdown",
      "metadata": {
        "id": "pjlDZ7Peu7t1"
      },
      "source": [
        "SENTIMENT ANAYSIS"
      ]
    },
    {
      "cell_type": "markdown",
      "metadata": {
        "id": "h9ZOktEru6MV"
      },
      "source": [
        "https://towardsdatascience.com/sentimental-analysis-using-vader-a3415fef7664"
      ]
    },
    {
      "cell_type": "code",
      "execution_count": 154,
      "metadata": {
        "colab": {
          "base_uri": "https://localhost:8080/"
        },
        "id": "HUxqpmosB6vy",
        "outputId": "0b2dfc2a-d35e-4415-b382-0de32dbb9489"
      },
      "outputs": [
        {
          "output_type": "stream",
          "name": "stderr",
          "text": [
            "[nltk_data] Downloading package vader_lexicon to /root/nltk_data...\n",
            "[nltk_data]   Package vader_lexicon is already up-to-date!\n",
            "[nltk_data] Downloading package punkt to /root/nltk_data...\n",
            "[nltk_data]   Package punkt is already up-to-date!\n",
            "[nltk_data] Downloading package wordnet to /root/nltk_data...\n",
            "[nltk_data]   Package wordnet is already up-to-date!\n",
            "[nltk_data] Downloading package omw-1.4 to /root/nltk_data...\n",
            "[nltk_data]   Package omw-1.4 is already up-to-date!\n"
          ]
        }
      ],
      "source": [
        "# import sentiment intensity analyzer\n",
        "nltk.download('vader_lexicon')\n",
        "nltk.download('punkt')\n",
        "nltk.download('wordnet')\n",
        "nltk.download('omw-1.4')\n",
        "from nltk.sentiment.vader import SentimentIntensityAnalyzer\n",
        "\n",
        "# create sentiment intensity analyzer object\n",
        "\n",
        "SIA=SentimentIntensityAnalyzer()"
      ]
    },
    {
      "cell_type": "code",
      "execution_count": 155,
      "metadata": {
        "id": "GscOEWSjGfa2"
      },
      "outputs": [],
      "source": [
        "#fuction to  decide sentiment as positive, negative and neutral\n",
        "def decider(data):\n",
        "    if data > 0:\n",
        "        return \"Positive\"\n",
        "    elif data < 0:\n",
        "        return \"Negative\"\n",
        "    else:\n",
        "        return \"Neutral\"\n",
        "\n",
        "def sentiment_analysis(df, colm_name):\n",
        "    \n",
        "    # assigning polarity scores for description column\n",
        "    df['polarity_scores'] = df[colm_name].apply(lambda w: SIA.polarity_scores(w))\n",
        "    \n",
        "    # picking only compound score(combined score)\n",
        "    df['compound_score'] = df['polarity_scores'].apply(lambda x: x['compound'])\n",
        "    \n",
        "    # mapping the compound score to positive, negative or neutral\n",
        "    df['ds_score'] = df['compound_score'].apply(decider)\n",
        "    \n",
        "    df.drop(['polarity_scores', 'compound_score'], axis=1, inplace=True)\n",
        "    \n",
        "    return df"
      ]
    },
    {
      "cell_type": "markdown",
      "metadata": {
        "id": "RVa-zf7xfRjc"
      },
      "source": [
        "# Now working with description on datasets"
      ]
    },
    {
      "cell_type": "code",
      "execution_count": 156,
      "metadata": {
        "id": "NFS1pS0Zws6Z"
      },
      "outputs": [],
      "source": [
        "# concatenate cnbc headlines dataset and reuters headline dataset\n",
        "cnbc_reuters=pd.concat([cnbc,reuters],axis=0)"
      ]
    },
    {
      "cell_type": "code",
      "execution_count": 157,
      "metadata": {
        "colab": {
          "base_uri": "https://localhost:8080/"
        },
        "id": "eDgz1y9Cwzfm",
        "outputId": "d2bc52db-9fbb-4b80-f825-ed146c069206"
      },
      "outputs": [
        {
          "output_type": "execute_result",
          "data": {
            "text/plain": [
              "(35515, 3)"
            ]
          },
          "metadata": {},
          "execution_count": 157
        }
      ],
      "source": [
        "#check the shape of this new dataset\n",
        "cnbc_reuters.shape"
      ]
    },
    {
      "cell_type": "code",
      "execution_count": 158,
      "metadata": {
        "id": "u0v43468m4d0"
      },
      "outputs": [],
      "source": [
        "#make a copy of new dataset \n",
        "cnbc_reuters_1=cnbc_reuters.copy()"
      ]
    },
    {
      "cell_type": "code",
      "execution_count": 159,
      "metadata": {
        "colab": {
          "base_uri": "https://localhost:8080/",
          "height": 423
        },
        "id": "KMejFN4HhY44",
        "outputId": "5f2ddd40-317a-4e9c-f6f2-859d10eac644"
      },
      "outputs": [
        {
          "output_type": "execute_result",
          "data": {
            "text/plain": [
              "                                               Headlines  \\\n",
              "0      Jim Cramer: A better way to invest in the Covi...   \n",
              "1         Cramer's lightning round: I would own Teradyne   \n",
              "3      Cramer's week ahead: Big week for earnings, ev...   \n",
              "4      IQ Capital CEO Keith Bliss says tech and healt...   \n",
              "5      Wall Street delivered the 'kind of pullback I'...   \n",
              "...                                                  ...   \n",
              "32765  Malaysia says never hired British data firm at...   \n",
              "32766  Prosecutors search Volkswagen headquarters in ...   \n",
              "32767   McDonald's sets greenhouse gas reduction targets   \n",
              "32768  Pratt & Whitney to deliver spare A320neo engin...   \n",
              "32769  UK will always consider ways to improve data l...   \n",
              "\n",
              "                                 Time  \\\n",
              "0       7:51  PM ET Fri, 17 July 2020   \n",
              "1       7:33  PM ET Fri, 17 July 2020   \n",
              "3       7:25  PM ET Fri, 17 July 2020   \n",
              "4       4:24  PM ET Fri, 17 July 2020   \n",
              "5       7:36  PM ET Thu, 16 July 2020   \n",
              "...                               ...   \n",
              "32765                     Mar 20 2018   \n",
              "32766                     Mar 20 2018   \n",
              "32767                     Mar 20 2018   \n",
              "32768                     Mar 20 2018   \n",
              "32769                     Mar 20 2018   \n",
              "\n",
              "                                             Description  \n",
              "0      mad money host jim cramer recommend buy four c...  \n",
              "1      mad money host jim cramer ring lightn round be...  \n",
              "3      well pay earn noncovid compani lancet publish ...  \n",
              "4      keith bliss iq capit ceo join close bell talk ...  \n",
              "5      look stock highqual compani go lower even thou...  \n",
              "...                                                  ...  \n",
              "32765  malaysian govern rule parti tuesday deni ever ...  \n",
              "32766  german prosecutor said tuesday search volkswag...  \n",
              "32767  mcdonald corp tuesday announc approv scienc ba...  \n",
              "32768  pratt whitney soon begin deliveri spare engin ...  \n",
              "32769  britain consid suggest give bodi charg uphold ...  \n",
              "\n",
              "[35515 rows x 3 columns]"
            ],
            "text/html": [
              "\n",
              "  <div id=\"df-f8a22933-4b28-437e-b813-908cab24d144\">\n",
              "    <div class=\"colab-df-container\">\n",
              "      <div>\n",
              "<style scoped>\n",
              "    .dataframe tbody tr th:only-of-type {\n",
              "        vertical-align: middle;\n",
              "    }\n",
              "\n",
              "    .dataframe tbody tr th {\n",
              "        vertical-align: top;\n",
              "    }\n",
              "\n",
              "    .dataframe thead th {\n",
              "        text-align: right;\n",
              "    }\n",
              "</style>\n",
              "<table border=\"1\" class=\"dataframe\">\n",
              "  <thead>\n",
              "    <tr style=\"text-align: right;\">\n",
              "      <th></th>\n",
              "      <th>Headlines</th>\n",
              "      <th>Time</th>\n",
              "      <th>Description</th>\n",
              "    </tr>\n",
              "  </thead>\n",
              "  <tbody>\n",
              "    <tr>\n",
              "      <th>0</th>\n",
              "      <td>Jim Cramer: A better way to invest in the Covi...</td>\n",
              "      <td>7:51  PM ET Fri, 17 July 2020</td>\n",
              "      <td>mad money host jim cramer recommend buy four c...</td>\n",
              "    </tr>\n",
              "    <tr>\n",
              "      <th>1</th>\n",
              "      <td>Cramer's lightning round: I would own Teradyne</td>\n",
              "      <td>7:33  PM ET Fri, 17 July 2020</td>\n",
              "      <td>mad money host jim cramer ring lightn round be...</td>\n",
              "    </tr>\n",
              "    <tr>\n",
              "      <th>3</th>\n",
              "      <td>Cramer's week ahead: Big week for earnings, ev...</td>\n",
              "      <td>7:25  PM ET Fri, 17 July 2020</td>\n",
              "      <td>well pay earn noncovid compani lancet publish ...</td>\n",
              "    </tr>\n",
              "    <tr>\n",
              "      <th>4</th>\n",
              "      <td>IQ Capital CEO Keith Bliss says tech and healt...</td>\n",
              "      <td>4:24  PM ET Fri, 17 July 2020</td>\n",
              "      <td>keith bliss iq capit ceo join close bell talk ...</td>\n",
              "    </tr>\n",
              "    <tr>\n",
              "      <th>5</th>\n",
              "      <td>Wall Street delivered the 'kind of pullback I'...</td>\n",
              "      <td>7:36  PM ET Thu, 16 July 2020</td>\n",
              "      <td>look stock highqual compani go lower even thou...</td>\n",
              "    </tr>\n",
              "    <tr>\n",
              "      <th>...</th>\n",
              "      <td>...</td>\n",
              "      <td>...</td>\n",
              "      <td>...</td>\n",
              "    </tr>\n",
              "    <tr>\n",
              "      <th>32765</th>\n",
              "      <td>Malaysia says never hired British data firm at...</td>\n",
              "      <td>Mar 20 2018</td>\n",
              "      <td>malaysian govern rule parti tuesday deni ever ...</td>\n",
              "    </tr>\n",
              "    <tr>\n",
              "      <th>32766</th>\n",
              "      <td>Prosecutors search Volkswagen headquarters in ...</td>\n",
              "      <td>Mar 20 2018</td>\n",
              "      <td>german prosecutor said tuesday search volkswag...</td>\n",
              "    </tr>\n",
              "    <tr>\n",
              "      <th>32767</th>\n",
              "      <td>McDonald's sets greenhouse gas reduction targets</td>\n",
              "      <td>Mar 20 2018</td>\n",
              "      <td>mcdonald corp tuesday announc approv scienc ba...</td>\n",
              "    </tr>\n",
              "    <tr>\n",
              "      <th>32768</th>\n",
              "      <td>Pratt &amp; Whitney to deliver spare A320neo engin...</td>\n",
              "      <td>Mar 20 2018</td>\n",
              "      <td>pratt whitney soon begin deliveri spare engin ...</td>\n",
              "    </tr>\n",
              "    <tr>\n",
              "      <th>32769</th>\n",
              "      <td>UK will always consider ways to improve data l...</td>\n",
              "      <td>Mar 20 2018</td>\n",
              "      <td>britain consid suggest give bodi charg uphold ...</td>\n",
              "    </tr>\n",
              "  </tbody>\n",
              "</table>\n",
              "<p>35515 rows × 3 columns</p>\n",
              "</div>\n",
              "      <button class=\"colab-df-convert\" onclick=\"convertToInteractive('df-f8a22933-4b28-437e-b813-908cab24d144')\"\n",
              "              title=\"Convert this dataframe to an interactive table.\"\n",
              "              style=\"display:none;\">\n",
              "        \n",
              "  <svg xmlns=\"http://www.w3.org/2000/svg\" height=\"24px\"viewBox=\"0 0 24 24\"\n",
              "       width=\"24px\">\n",
              "    <path d=\"M0 0h24v24H0V0z\" fill=\"none\"/>\n",
              "    <path d=\"M18.56 5.44l.94 2.06.94-2.06 2.06-.94-2.06-.94-.94-2.06-.94 2.06-2.06.94zm-11 1L8.5 8.5l.94-2.06 2.06-.94-2.06-.94L8.5 2.5l-.94 2.06-2.06.94zm10 10l.94 2.06.94-2.06 2.06-.94-2.06-.94-.94-2.06-.94 2.06-2.06.94z\"/><path d=\"M17.41 7.96l-1.37-1.37c-.4-.4-.92-.59-1.43-.59-.52 0-1.04.2-1.43.59L10.3 9.45l-7.72 7.72c-.78.78-.78 2.05 0 2.83L4 21.41c.39.39.9.59 1.41.59.51 0 1.02-.2 1.41-.59l7.78-7.78 2.81-2.81c.8-.78.8-2.07 0-2.86zM5.41 20L4 18.59l7.72-7.72 1.47 1.35L5.41 20z\"/>\n",
              "  </svg>\n",
              "      </button>\n",
              "      \n",
              "  <style>\n",
              "    .colab-df-container {\n",
              "      display:flex;\n",
              "      flex-wrap:wrap;\n",
              "      gap: 12px;\n",
              "    }\n",
              "\n",
              "    .colab-df-convert {\n",
              "      background-color: #E8F0FE;\n",
              "      border: none;\n",
              "      border-radius: 50%;\n",
              "      cursor: pointer;\n",
              "      display: none;\n",
              "      fill: #1967D2;\n",
              "      height: 32px;\n",
              "      padding: 0 0 0 0;\n",
              "      width: 32px;\n",
              "    }\n",
              "\n",
              "    .colab-df-convert:hover {\n",
              "      background-color: #E2EBFA;\n",
              "      box-shadow: 0px 1px 2px rgba(60, 64, 67, 0.3), 0px 1px 3px 1px rgba(60, 64, 67, 0.15);\n",
              "      fill: #174EA6;\n",
              "    }\n",
              "\n",
              "    [theme=dark] .colab-df-convert {\n",
              "      background-color: #3B4455;\n",
              "      fill: #D2E3FC;\n",
              "    }\n",
              "\n",
              "    [theme=dark] .colab-df-convert:hover {\n",
              "      background-color: #434B5C;\n",
              "      box-shadow: 0px 1px 3px 1px rgba(0, 0, 0, 0.15);\n",
              "      filter: drop-shadow(0px 1px 2px rgba(0, 0, 0, 0.3));\n",
              "      fill: #FFFFFF;\n",
              "    }\n",
              "  </style>\n",
              "\n",
              "      <script>\n",
              "        const buttonEl =\n",
              "          document.querySelector('#df-f8a22933-4b28-437e-b813-908cab24d144 button.colab-df-convert');\n",
              "        buttonEl.style.display =\n",
              "          google.colab.kernel.accessAllowed ? 'block' : 'none';\n",
              "\n",
              "        async function convertToInteractive(key) {\n",
              "          const element = document.querySelector('#df-f8a22933-4b28-437e-b813-908cab24d144');\n",
              "          const dataTable =\n",
              "            await google.colab.kernel.invokeFunction('convertToInteractive',\n",
              "                                                     [key], {});\n",
              "          if (!dataTable) return;\n",
              "\n",
              "          const docLinkHtml = 'Like what you see? Visit the ' +\n",
              "            '<a target=\"_blank\" href=https://colab.research.google.com/notebooks/data_table.ipynb>data table notebook</a>'\n",
              "            + ' to learn more about interactive tables.';\n",
              "          element.innerHTML = '';\n",
              "          dataTable['output_type'] = 'display_data';\n",
              "          await google.colab.output.renderOutput(dataTable, element);\n",
              "          const docLink = document.createElement('div');\n",
              "          docLink.innerHTML = docLinkHtml;\n",
              "          element.appendChild(docLink);\n",
              "        }\n",
              "      </script>\n",
              "    </div>\n",
              "  </div>\n",
              "  "
            ]
          },
          "metadata": {},
          "execution_count": 159
        }
      ],
      "source": [
        "# apply preprocessing to the description of new dataset\n",
        "\n",
        "cnbc_reuters_1['Description']=cnbc_reuters_1['Description'].apply(preprocessing)\n",
        "cnbc_reuters_1"
      ]
    },
    {
      "cell_type": "code",
      "execution_count": 160,
      "metadata": {
        "colab": {
          "base_uri": "https://localhost:8080/",
          "height": 423
        },
        "id": "l97AoQKkhYzb",
        "outputId": "ef1b18b0-ba9d-4add-bde0-29673d618a8d"
      },
      "outputs": [
        {
          "output_type": "execute_result",
          "data": {
            "text/plain": [
              "                                               Headlines  \\\n",
              "0      Jim Cramer: A better way to invest in the Covi...   \n",
              "1         Cramer's lightning round: I would own Teradyne   \n",
              "3      Cramer's week ahead: Big week for earnings, ev...   \n",
              "4      IQ Capital CEO Keith Bliss says tech and healt...   \n",
              "5      Wall Street delivered the 'kind of pullback I'...   \n",
              "...                                                  ...   \n",
              "32765  Malaysia says never hired British data firm at...   \n",
              "32766  Prosecutors search Volkswagen headquarters in ...   \n",
              "32767   McDonald's sets greenhouse gas reduction targets   \n",
              "32768  Pratt & Whitney to deliver spare A320neo engin...   \n",
              "32769  UK will always consider ways to improve data l...   \n",
              "\n",
              "                                 Time  \\\n",
              "0       7:51  PM ET Fri, 17 July 2020   \n",
              "1       7:33  PM ET Fri, 17 July 2020   \n",
              "3       7:25  PM ET Fri, 17 July 2020   \n",
              "4       4:24  PM ET Fri, 17 July 2020   \n",
              "5       7:36  PM ET Thu, 16 July 2020   \n",
              "...                               ...   \n",
              "32765                     Mar 20 2018   \n",
              "32766                     Mar 20 2018   \n",
              "32767                     Mar 20 2018   \n",
              "32768                     Mar 20 2018   \n",
              "32769                     Mar 20 2018   \n",
              "\n",
              "                                             Description  ds_score  \n",
              "0      mad money host jim cramer recommend buy four c...  Positive  \n",
              "1      mad money host jim cramer ring lightn round be...  Negative  \n",
              "3      well pay earn noncovid compani lancet publish ...  Positive  \n",
              "4      keith bliss iq capit ceo join close bell talk ...  Positive  \n",
              "5      look stock highqual compani go lower even thou...  Negative  \n",
              "...                                                  ...       ...  \n",
              "32765  malaysian govern rule parti tuesday deni ever ...   Neutral  \n",
              "32766  german prosecutor said tuesday search volkswag...   Neutral  \n",
              "32767  mcdonald corp tuesday announc approv scienc ba...  Negative  \n",
              "32768  pratt whitney soon begin deliveri spare engin ...  Negative  \n",
              "32769  britain consid suggest give bodi charg uphold ...  Positive  \n",
              "\n",
              "[35515 rows x 4 columns]"
            ],
            "text/html": [
              "\n",
              "  <div id=\"df-43d946e7-234d-4342-b941-0cd513e51205\">\n",
              "    <div class=\"colab-df-container\">\n",
              "      <div>\n",
              "<style scoped>\n",
              "    .dataframe tbody tr th:only-of-type {\n",
              "        vertical-align: middle;\n",
              "    }\n",
              "\n",
              "    .dataframe tbody tr th {\n",
              "        vertical-align: top;\n",
              "    }\n",
              "\n",
              "    .dataframe thead th {\n",
              "        text-align: right;\n",
              "    }\n",
              "</style>\n",
              "<table border=\"1\" class=\"dataframe\">\n",
              "  <thead>\n",
              "    <tr style=\"text-align: right;\">\n",
              "      <th></th>\n",
              "      <th>Headlines</th>\n",
              "      <th>Time</th>\n",
              "      <th>Description</th>\n",
              "      <th>ds_score</th>\n",
              "    </tr>\n",
              "  </thead>\n",
              "  <tbody>\n",
              "    <tr>\n",
              "      <th>0</th>\n",
              "      <td>Jim Cramer: A better way to invest in the Covi...</td>\n",
              "      <td>7:51  PM ET Fri, 17 July 2020</td>\n",
              "      <td>mad money host jim cramer recommend buy four c...</td>\n",
              "      <td>Positive</td>\n",
              "    </tr>\n",
              "    <tr>\n",
              "      <th>1</th>\n",
              "      <td>Cramer's lightning round: I would own Teradyne</td>\n",
              "      <td>7:33  PM ET Fri, 17 July 2020</td>\n",
              "      <td>mad money host jim cramer ring lightn round be...</td>\n",
              "      <td>Negative</td>\n",
              "    </tr>\n",
              "    <tr>\n",
              "      <th>3</th>\n",
              "      <td>Cramer's week ahead: Big week for earnings, ev...</td>\n",
              "      <td>7:25  PM ET Fri, 17 July 2020</td>\n",
              "      <td>well pay earn noncovid compani lancet publish ...</td>\n",
              "      <td>Positive</td>\n",
              "    </tr>\n",
              "    <tr>\n",
              "      <th>4</th>\n",
              "      <td>IQ Capital CEO Keith Bliss says tech and healt...</td>\n",
              "      <td>4:24  PM ET Fri, 17 July 2020</td>\n",
              "      <td>keith bliss iq capit ceo join close bell talk ...</td>\n",
              "      <td>Positive</td>\n",
              "    </tr>\n",
              "    <tr>\n",
              "      <th>5</th>\n",
              "      <td>Wall Street delivered the 'kind of pullback I'...</td>\n",
              "      <td>7:36  PM ET Thu, 16 July 2020</td>\n",
              "      <td>look stock highqual compani go lower even thou...</td>\n",
              "      <td>Negative</td>\n",
              "    </tr>\n",
              "    <tr>\n",
              "      <th>...</th>\n",
              "      <td>...</td>\n",
              "      <td>...</td>\n",
              "      <td>...</td>\n",
              "      <td>...</td>\n",
              "    </tr>\n",
              "    <tr>\n",
              "      <th>32765</th>\n",
              "      <td>Malaysia says never hired British data firm at...</td>\n",
              "      <td>Mar 20 2018</td>\n",
              "      <td>malaysian govern rule parti tuesday deni ever ...</td>\n",
              "      <td>Neutral</td>\n",
              "    </tr>\n",
              "    <tr>\n",
              "      <th>32766</th>\n",
              "      <td>Prosecutors search Volkswagen headquarters in ...</td>\n",
              "      <td>Mar 20 2018</td>\n",
              "      <td>german prosecutor said tuesday search volkswag...</td>\n",
              "      <td>Neutral</td>\n",
              "    </tr>\n",
              "    <tr>\n",
              "      <th>32767</th>\n",
              "      <td>McDonald's sets greenhouse gas reduction targets</td>\n",
              "      <td>Mar 20 2018</td>\n",
              "      <td>mcdonald corp tuesday announc approv scienc ba...</td>\n",
              "      <td>Negative</td>\n",
              "    </tr>\n",
              "    <tr>\n",
              "      <th>32768</th>\n",
              "      <td>Pratt &amp; Whitney to deliver spare A320neo engin...</td>\n",
              "      <td>Mar 20 2018</td>\n",
              "      <td>pratt whitney soon begin deliveri spare engin ...</td>\n",
              "      <td>Negative</td>\n",
              "    </tr>\n",
              "    <tr>\n",
              "      <th>32769</th>\n",
              "      <td>UK will always consider ways to improve data l...</td>\n",
              "      <td>Mar 20 2018</td>\n",
              "      <td>britain consid suggest give bodi charg uphold ...</td>\n",
              "      <td>Positive</td>\n",
              "    </tr>\n",
              "  </tbody>\n",
              "</table>\n",
              "<p>35515 rows × 4 columns</p>\n",
              "</div>\n",
              "      <button class=\"colab-df-convert\" onclick=\"convertToInteractive('df-43d946e7-234d-4342-b941-0cd513e51205')\"\n",
              "              title=\"Convert this dataframe to an interactive table.\"\n",
              "              style=\"display:none;\">\n",
              "        \n",
              "  <svg xmlns=\"http://www.w3.org/2000/svg\" height=\"24px\"viewBox=\"0 0 24 24\"\n",
              "       width=\"24px\">\n",
              "    <path d=\"M0 0h24v24H0V0z\" fill=\"none\"/>\n",
              "    <path d=\"M18.56 5.44l.94 2.06.94-2.06 2.06-.94-2.06-.94-.94-2.06-.94 2.06-2.06.94zm-11 1L8.5 8.5l.94-2.06 2.06-.94-2.06-.94L8.5 2.5l-.94 2.06-2.06.94zm10 10l.94 2.06.94-2.06 2.06-.94-2.06-.94-.94-2.06-.94 2.06-2.06.94z\"/><path d=\"M17.41 7.96l-1.37-1.37c-.4-.4-.92-.59-1.43-.59-.52 0-1.04.2-1.43.59L10.3 9.45l-7.72 7.72c-.78.78-.78 2.05 0 2.83L4 21.41c.39.39.9.59 1.41.59.51 0 1.02-.2 1.41-.59l7.78-7.78 2.81-2.81c.8-.78.8-2.07 0-2.86zM5.41 20L4 18.59l7.72-7.72 1.47 1.35L5.41 20z\"/>\n",
              "  </svg>\n",
              "      </button>\n",
              "      \n",
              "  <style>\n",
              "    .colab-df-container {\n",
              "      display:flex;\n",
              "      flex-wrap:wrap;\n",
              "      gap: 12px;\n",
              "    }\n",
              "\n",
              "    .colab-df-convert {\n",
              "      background-color: #E8F0FE;\n",
              "      border: none;\n",
              "      border-radius: 50%;\n",
              "      cursor: pointer;\n",
              "      display: none;\n",
              "      fill: #1967D2;\n",
              "      height: 32px;\n",
              "      padding: 0 0 0 0;\n",
              "      width: 32px;\n",
              "    }\n",
              "\n",
              "    .colab-df-convert:hover {\n",
              "      background-color: #E2EBFA;\n",
              "      box-shadow: 0px 1px 2px rgba(60, 64, 67, 0.3), 0px 1px 3px 1px rgba(60, 64, 67, 0.15);\n",
              "      fill: #174EA6;\n",
              "    }\n",
              "\n",
              "    [theme=dark] .colab-df-convert {\n",
              "      background-color: #3B4455;\n",
              "      fill: #D2E3FC;\n",
              "    }\n",
              "\n",
              "    [theme=dark] .colab-df-convert:hover {\n",
              "      background-color: #434B5C;\n",
              "      box-shadow: 0px 1px 3px 1px rgba(0, 0, 0, 0.15);\n",
              "      filter: drop-shadow(0px 1px 2px rgba(0, 0, 0, 0.3));\n",
              "      fill: #FFFFFF;\n",
              "    }\n",
              "  </style>\n",
              "\n",
              "      <script>\n",
              "        const buttonEl =\n",
              "          document.querySelector('#df-43d946e7-234d-4342-b941-0cd513e51205 button.colab-df-convert');\n",
              "        buttonEl.style.display =\n",
              "          google.colab.kernel.accessAllowed ? 'block' : 'none';\n",
              "\n",
              "        async function convertToInteractive(key) {\n",
              "          const element = document.querySelector('#df-43d946e7-234d-4342-b941-0cd513e51205');\n",
              "          const dataTable =\n",
              "            await google.colab.kernel.invokeFunction('convertToInteractive',\n",
              "                                                     [key], {});\n",
              "          if (!dataTable) return;\n",
              "\n",
              "          const docLinkHtml = 'Like what you see? Visit the ' +\n",
              "            '<a target=\"_blank\" href=https://colab.research.google.com/notebooks/data_table.ipynb>data table notebook</a>'\n",
              "            + ' to learn more about interactive tables.';\n",
              "          element.innerHTML = '';\n",
              "          dataTable['output_type'] = 'display_data';\n",
              "          await google.colab.output.renderOutput(dataTable, element);\n",
              "          const docLink = document.createElement('div');\n",
              "          docLink.innerHTML = docLinkHtml;\n",
              "          element.appendChild(docLink);\n",
              "        }\n",
              "      </script>\n",
              "    </div>\n",
              "  </div>\n",
              "  "
            ]
          },
          "metadata": {},
          "execution_count": 160
        }
      ],
      "source": [
        "# analyze polarity score of values in description and  add new column of it in dataset\n",
        "df=sentiment_analysis(cnbc_reuters_1,'Description')\n",
        "df"
      ]
    },
    {
      "cell_type": "code",
      "execution_count": 161,
      "metadata": {
        "colab": {
          "base_uri": "https://localhost:8080/",
          "height": 280
        },
        "id": "BMaNV0ayeBoI",
        "outputId": "9acf327f-9c2e-4b89-f2d3-5ea440cb937c"
      },
      "outputs": [
        {
          "output_type": "display_data",
          "data": {
            "text/plain": [
              "<Figure size 432x288 with 1 Axes>"
            ],
            "image/png": "[encoded data removed]"
          },
          "metadata": {
            "needs_background": "light"
          }
        }
      ],
      "source": [
        "# plot a count plot on description score column\n",
        "sns.countplot(x='ds_score',data=df);"
      ]
    },
    {
      "cell_type": "markdown",
      "metadata": {
        "id": "r5q_doOjIQu-"
      },
      "source": [
        "In the description \n",
        "\n",
        "there are approx\n",
        "\n",
        "15000 positive statment\n",
        "\n",
        "12000 negative statment\n",
        "\n",
        "8000 neutral statment"
      ]
    },
    {
      "cell_type": "code",
      "execution_count": 162,
      "metadata": {
        "colab": {
          "base_uri": "https://localhost:8080/",
          "height": 264
        },
        "id": "ptvoU5apeN4N",
        "outputId": "8489d962-94fe-438e-b8a2-bc37626bd9a8"
      },
      "outputs": [
        {
          "output_type": "display_data",
          "data": {
            "text/plain": [
              "<Figure size 432x288 with 1 Axes>"
            ],
            "image/png": "[encoded data removed]"
          },
          "metadata": {}
        }
      ],
      "source": [
        "# pie chart on description score column\n",
        "plt.pie([15000, 12000, 8000], explode=[0.1,0,0], labels=['Positive','Negative','Neutral'], autopct='%.1f', startangle=90)\n",
        "plt.title(\"Different Sentiments in pie chart\")\n",
        "plt.show()"
      ]
    },
    {
      "cell_type": "markdown",
      "metadata": {
        "id": "5o3Z-0KhHm2w"
      },
      "source": [
        "In the dataset \n",
        "\n",
        "description contains\n",
        "\n",
        "42.9% positive statments\n",
        "\n",
        "34.3% negtive statements\n",
        "\n",
        "22.9% neutral statments"
      ]
    },
    {
      "cell_type": "markdown",
      "metadata": {
        "id": "wgt0f3fKfakl"
      },
      "source": [
        "# Modelling on description "
      ]
    },
    {
      "cell_type": "code",
      "execution_count": 163,
      "metadata": {
        "id": "pOd6wPeUhYd2",
        "colab": {
          "base_uri": "https://localhost:8080/"
        },
        "outputId": "bcec708d-d977-4212-ff7b-8720682aef91"
      },
      "outputs": [
        {
          "output_type": "stream",
          "name": "stdout",
          "text": [
            "(31963,) (3552,) (31963,) (3552,)\n"
          ]
        }
      ],
      "source": [
        "# split the dataset  into test and train \n",
        "# 90% train , 10% test and random state 212\n",
        "from sklearn.model_selection import train_test_split\n",
        "\n",
        "x=df['Description']\n",
        "y=df.ds_score\n",
        "\n",
        "x_train,x_test,y_train,y_test=train_test_split(x,y,test_size=0.1,random_state=212)\n",
        "print(x_train.shape,x_test.shape,y_train.shape,y_test.shape)"
      ]
    },
    {
      "cell_type": "markdown",
      "metadata": {
        "id": "hVuDdLFJkFSb"
      },
      "source": [
        "LINEAR SUPPORT VECTOR MACHINE\n"
      ]
    },
    {
      "cell_type": "code",
      "execution_count": 164,
      "metadata": {
        "colab": {
          "base_uri": "https://localhost:8080/"
        },
        "id": "exk6nRwomgAt",
        "outputId": "5d7f299d-3d29-488c-8ef4-6fab7ad9022f"
      },
      "outputs": [
        {
          "output_type": "stream",
          "name": "stdout",
          "text": [
            "MODEL: LINEAR SVM\n",
            "accuarcy :  93.2713963963964 %\n",
            "Confusion matrix:  [[1123   45   71]\n",
            " [  22  762   20]\n",
            " [  50   31 1428]]\n",
            "              precision    recall  f1-score   support\n",
            "\n",
            "    Negative       0.94      0.91      0.92      1239\n",
            "     Neutral       0.91      0.95      0.93       804\n",
            "    Positive       0.94      0.95      0.94      1509\n",
            "\n",
            "    accuracy                           0.93      3552\n",
            "   macro avg       0.93      0.93      0.93      3552\n",
            "weighted avg       0.93      0.93      0.93      3552\n",
            "\n",
            "CPU times: user 1.41 s, sys: 67.6 ms, total: 1.48 s\n",
            "Wall time: 1.48 s\n"
          ]
        }
      ],
      "source": [
        "%%time\n",
        "# pipeline creation\n",
        "# 1. tfidVectorization\n",
        "# 2. linearSVC model\n",
        "\n",
        "\n",
        "from sklearn.feature_extraction.text import TfidfVectorizer\n",
        "from sklearn.svm import LinearSVC\n",
        "from sklearn.pipeline import Pipeline\n",
        "from sklearn.metrics import accuracy_score, precision_score, recall_score, confusion_matrix, classification_report,f1_score\n",
        "\n",
        "\n",
        "# Fit the pipeline to the data\n",
        "lin_svm_ds = Pipeline([('tfidf', TfidfVectorizer()),\n",
        "                      ('lin_svm', LinearSVC())])\n",
        "\n",
        "lin_svm_ds.fit(x_train, y_train)\n",
        "\n",
        "# predict on test dataset\n",
        "pred = lin_svm_ds.predict(x_test)\n",
        "\n",
        "print(\"MODEL: LINEAR SVM\")\n",
        "\n",
        "# print accuracy score\n",
        "print(\"accuarcy : \", accuracy_score(y_test, pred)*100,\"%\")\n",
        "\n",
        "#print confusion matrix\n",
        "print(\"Confusion matrix: \", confusion_matrix(y_test, pred))\n",
        "\n",
        "#print classification report\n",
        "print(classification_report(y_test, pred))"
      ]
    },
    {
      "cell_type": "markdown",
      "metadata": {
        "id": "6Qq4dK32kBpM"
      },
      "source": [
        "LOGISTIC REGRESSION\n"
      ]
    },
    {
      "cell_type": "code",
      "execution_count": 165,
      "metadata": {
        "colab": {
          "base_uri": "https://localhost:8080/"
        },
        "id": "0w0yNn2_mf_s",
        "outputId": "a30bcceb-fee7-4bfe-b795-92ade5451ba9"
      },
      "outputs": [
        {
          "output_type": "stream",
          "name": "stderr",
          "text": [
            "/usr/local/lib/python3.7/dist-packages/sklearn/linear_model/_logistic.py:818: ConvergenceWarning: lbfgs failed to converge (status=1):\n",
            "STOP: TOTAL NO. of ITERATIONS REACHED LIMIT.\n",
            "\n",
            "Increase the number of iterations (max_iter) or scale the data as shown in:\n",
            "    https://scikit-learn.org/stable/modules/preprocessing.html\n",
            "Please also refer to the documentation for alternative solver options:\n",
            "    https://scikit-learn.org/stable/modules/linear_model.html#logistic-regression\n",
            "  extra_warning_msg=_LOGISTIC_SOLVER_CONVERGENCE_MSG,\n"
          ]
        },
        {
          "output_type": "stream",
          "name": "stdout",
          "text": [
            "\n",
            "MODEL: LOGISTIC REGRESSION\n",
            "accuarcy :  89.3581081081081 %\n",
            "Confusion matrix:  [[1054   78  107]\n",
            " [  39  728   37]\n",
            " [  69   48 1392]]\n",
            "              precision    recall  f1-score   support\n",
            "\n",
            "    Negative       0.91      0.85      0.88      1239\n",
            "     Neutral       0.85      0.91      0.88       804\n",
            "    Positive       0.91      0.92      0.91      1509\n",
            "\n",
            "    accuracy                           0.89      3552\n",
            "   macro avg       0.89      0.89      0.89      3552\n",
            "weighted avg       0.89      0.89      0.89      3552\n",
            "\n",
            "CPU times: user 7.95 s, sys: 20 s, total: 28 s\n",
            "Wall time: 14.9 s\n"
          ]
        }
      ],
      "source": [
        "%%time\n",
        "# pipeline creation \n",
        "# 1. CountVectorization\n",
        "# 2. TfidTransformer\n",
        "# 3. Logistic Regression\n",
        "\n",
        "from sklearn.feature_extraction.text import CountVectorizer, TfidfTransformer\n",
        "from sklearn.linear_model import LogisticRegression\n",
        "\n",
        "\n",
        "# Fit the pipeline to the data\n",
        "log_reg_ds = Pipeline([('count_vec', CountVectorizer()),\n",
        "                      ('tfidf', TfidfTransformer()),\n",
        "                      ('log_reg', LogisticRegression())])\n",
        "\n",
        "log_reg_ds.fit(x_train, y_train)\n",
        "\n",
        "# predict on test dataset\n",
        "pred = log_reg_ds.predict(x_test)\n",
        "\n",
        "print(\"\\nMODEL: LOGISTIC REGRESSION\")\n",
        "\n",
        "# print accuracy score\n",
        "print(\"accuarcy : \", accuracy_score(y_test, pred)*100,\"%\")\n",
        "\n",
        "#print confusion matrix\n",
        "print(\"Confusion matrix: \", confusion_matrix(y_test, pred))\n",
        "\n",
        "#print classification report\n",
        "print(classification_report(y_test, pred))\n",
        "\n",
        "\n",
        " "
      ]
    },
    {
      "cell_type": "markdown",
      "metadata": {
        "id": "XbFrK_pXj-HC"
      },
      "source": [
        "MULTINOMIAL NAIVE BAYES\n"
      ]
    },
    {
      "cell_type": "code",
      "execution_count": 166,
      "metadata": {
        "colab": {
          "base_uri": "https://localhost:8080/"
        },
        "id": "ag3ceKiEmfxR",
        "outputId": "6d67446b-749a-4a1c-faac-78bb0cc88ebf"
      },
      "outputs": [
        {
          "output_type": "stream",
          "name": "stdout",
          "text": [
            "MODEL: Multinomial NAIVE BAYES\n",
            "accuarcy :  63.96396396396396 %\n",
            "Confusion matrix:  [[ 808    8  423]\n",
            " [ 150   86  568]\n",
            " [ 128    3 1378]]\n",
            "              precision    recall  f1-score   support\n",
            "\n",
            "    Negative       0.74      0.65      0.70      1239\n",
            "     Neutral       0.89      0.11      0.19       804\n",
            "    Positive       0.58      0.91      0.71      1509\n",
            "\n",
            "    accuracy                           0.64      3552\n",
            "   macro avg       0.74      0.56      0.53      3552\n",
            "weighted avg       0.71      0.64      0.59      3552\n",
            "\n",
            "CPU times: user 976 ms, sys: 31 ms, total: 1.01 s\n",
            "Wall time: 1.01 s\n"
          ]
        }
      ],
      "source": [
        "%%time\n",
        "# pipeline creation \n",
        "# 1. CountVectorizer\n",
        "# 2. TfidTransformer\n",
        "# 3. MultinomialNB\n",
        " \n",
        "from sklearn.naive_bayes import MultinomialNB\n",
        "\n",
        "\n",
        "# Fit the pipeline to the data\n",
        "multi_nb_ds = Pipeline([('count_vec', CountVectorizer()),\n",
        "                      ('tfidf', TfidfTransformer()),\n",
        "                      ('multi_nb', MultinomialNB())])\n",
        "\n",
        "multi_nb_ds.fit(x_train, y_train)\n",
        "\n",
        "# predict on test dataset\n",
        "pred = multi_nb_ds.predict(x_test)\n",
        "\n",
        "print(\"MODEL: Multinomial NAIVE BAYES\")\n",
        "\n",
        "# print accuracy score\n",
        "print(\"accuarcy : \", accuracy_score(y_test, pred)*100,\"%\")\n",
        "\n",
        "#print confusion matrix\n",
        "print(\"Confusion matrix: \", confusion_matrix(y_test, pred))\n",
        "\n",
        "#print classification report\n",
        "print(classification_report(y_test, pred))\n",
        " \n"
      ]
    },
    {
      "cell_type": "markdown",
      "metadata": {
        "id": "-79YSosbj7HP"
      },
      "source": [
        "BERNOULLI NAIVE BAYES\n"
      ]
    },
    {
      "cell_type": "code",
      "execution_count": 167,
      "metadata": {
        "colab": {
          "base_uri": "https://localhost:8080/"
        },
        "id": "N-ftjtoEmfsP",
        "outputId": "d1aa3c07-33d4-4fa7-d66c-0ec9eb9025c3"
      },
      "outputs": [
        {
          "output_type": "stream",
          "name": "stdout",
          "text": [
            "MODEL: BERNOULLIS NAIVE BAYES\n",
            "accuracy:  73.95833333333334 %\n",
            "confusion matrix:  [[ 919   56  264]\n",
            " [ 135  480  189]\n",
            " [ 210   71 1228]]\n",
            "              precision    recall  f1-score   support\n",
            "\n",
            "    Negative       0.73      0.74      0.73      1239\n",
            "     Neutral       0.79      0.60      0.68       804\n",
            "    Positive       0.73      0.81      0.77      1509\n",
            "\n",
            "    accuracy                           0.74      3552\n",
            "   macro avg       0.75      0.72      0.73      3552\n",
            "weighted avg       0.74      0.74      0.74      3552\n",
            "\n",
            "CPU times: user 984 ms, sys: 25 ms, total: 1.01 s\n",
            "Wall time: 1.01 s\n"
          ]
        }
      ],
      "source": [
        "%%time\n",
        "# pipeline creation \n",
        "# 1. CountVectorizer\n",
        "# 2. TfidTransformer\n",
        "# 3. BernoulliNB\n",
        "\n",
        "from sklearn.naive_bayes import BernoulliNB\n",
        "\n",
        "# fit the pipeline to the train data\n",
        "bern_nb_ds=Pipeline([('count_vec',CountVectorizer()),\n",
        "                     ('tfid',TfidfTransformer()),\n",
        "                     ('bern_nb',BernoulliNB())])\n",
        "\n",
        "bern_nb_ds.fit(x_train,y_train)\n",
        "\n",
        "#predict on test dataset\n",
        "pred=bern_nb_ds.predict(x_test)\n",
        "\n",
        "print(\"MODEL: BERNOULLIS NAIVE BAYES\")\n",
        "\n",
        "#print accuracy\n",
        "print(\"accuracy: \",accuracy_score(y_test,pred)*100,\"%\")\n",
        "\n",
        "#print confusion matrix\n",
        "\n",
        "print(\"confusion matrix: \",confusion_matrix(y_test,pred))\n",
        "\n",
        "# print classification report\n",
        "print(classification_report(y_test,pred))\n"
      ]
    },
    {
      "cell_type": "markdown",
      "metadata": {
        "id": "DDcEnl9uj3yl"
      },
      "source": [
        "GRADIENT BOOSTING CLASSIFICATION MODEL\n"
      ]
    },
    {
      "cell_type": "code",
      "execution_count": 168,
      "metadata": {
        "colab": {
          "base_uri": "https://localhost:8080/"
        },
        "id": "vTT-HmujmfrR",
        "outputId": "74729f70-6da2-4ed4-cd49-c35dcafe84bd"
      },
      "outputs": [
        {
          "output_type": "stream",
          "name": "stdout",
          "text": [
            "MODEL: GRADIENT BOOST\n",
            "accuracy:  83.78378378378379 %\n",
            "confusion matrix:  [[ 902  168  169]\n",
            " [  11  784    9]\n",
            " [  69  150 1290]]\n",
            "              precision    recall  f1-score   support\n",
            "\n",
            "    Negative       0.92      0.73      0.81      1239\n",
            "     Neutral       0.71      0.98      0.82       804\n",
            "    Positive       0.88      0.85      0.87      1509\n",
            "\n",
            "    accuracy                           0.84      3552\n",
            "   macro avg       0.84      0.85      0.83      3552\n",
            "weighted avg       0.85      0.84      0.84      3552\n",
            "\n",
            "CPU times: user 1min 19s, sys: 1.99 s, total: 1min 21s\n",
            "Wall time: 1min 20s\n"
          ]
        }
      ],
      "source": [
        "%%time\n",
        "# pipeline creation \n",
        "# 1. CountVectorizer\n",
        "# 2. TfidTransformer\n",
        "# 3. GradientBoostingClassifier\n",
        "\n",
        "from sklearn.ensemble import GradientBoostingClassifier\n",
        "# Fit the pipeline to the data\n",
        "gbc_ds=Pipeline([('count_vec',CountVectorizer()),\n",
        "                 ('tfid',TfidfTransformer()),\n",
        "                 ('gbc',GradientBoostingClassifier())])\n",
        "\n",
        "gbc_ds.fit(x_train,y_train)\n",
        "\n",
        "# predict on test data\n",
        "pred=gbc_ds.predict(x_test)\n",
        "\n",
        "print(\"MODEL: GRADIENT BOOST\")\n",
        "\n",
        "#print accuracy\n",
        "print(\"accuracy: \",accuracy_score(y_test,pred)*100,\"%\")\n",
        "\n",
        "#print confusion matrix\n",
        "print(\"confusion matrix: \",confusion_matrix(y_test,pred))\n",
        "\n",
        "# print classification report\n",
        "print(classification_report(y_test,pred))"
      ]
    },
    {
      "cell_type": "markdown",
      "metadata": {
        "id": "hwMk-HFAjzP-"
      },
      "source": [
        "XGBOOST CLASSIFICATION MODEL\n"
      ]
    },
    {
      "cell_type": "code",
      "execution_count": 169,
      "metadata": {
        "colab": {
          "base_uri": "https://localhost:8080/"
        },
        "id": "1M8E7hmnmfn1",
        "outputId": "c38d4a8b-7aec-48a1-b246-b99d9afbf444"
      },
      "outputs": [
        {
          "output_type": "stream",
          "name": "stdout",
          "text": [
            "MODEL: XGBOOST\n",
            "accuracy:  80.51801801801803 %\n",
            "confusion matrix:  [[ 845  205  189]\n",
            " [  11  784    9]\n",
            " [  67  211 1231]]\n",
            "              precision    recall  f1-score   support\n",
            "\n",
            "           0       0.92      0.68      0.78      1239\n",
            "           1       0.65      0.98      0.78       804\n",
            "           2       0.86      0.82      0.84      1509\n",
            "\n",
            "    accuracy                           0.81      3552\n",
            "   macro avg       0.81      0.82      0.80      3552\n",
            "weighted avg       0.83      0.81      0.81      3552\n",
            "\n",
            "CPU times: user 32.8 s, sys: 74.5 ms, total: 32.9 s\n",
            "Wall time: 32.7 s\n"
          ]
        }
      ],
      "source": [
        "%%time\n",
        "# pipeline creation \n",
        "# 1. CountVectorizer\n",
        "# 2. TfidTransformer\n",
        "# 3. XGBClassifier\n",
        "from xgboost import XGBClassifier\n",
        "from sklearn.preprocessing import LabelEncoder\n",
        "\n",
        "# Fit the pipeline to the data\n",
        "xgb_ds=Pipeline([('count_vec',CountVectorizer()),\n",
        "                 ('tfid',TfidfTransformer()),\n",
        "                 ('xgb',XGBClassifier())])\n",
        "\n",
        "encode=LabelEncoder()\n",
        "enc_train=encode.fit_transform(y_train)\n",
        "enc_test=encode.fit_transform(y_test)\n",
        "\n",
        "xgb_ds.fit(x_train,enc_train)\n",
        "\n",
        "# predict on test data\n",
        "pred=xgb_ds.predict(x_test)\n",
        "\n",
        "print(\"MODEL: XGBOOST\")\n",
        "#print accuracy\n",
        "print(\"accuracy: \",accuracy_score(enc_test,pred)*100,\"%\")\n",
        "\n",
        "#print confusion matrix\n",
        "print(\"confusion matrix: \",confusion_matrix(enc_test,pred))\n",
        "\n",
        "# print classification report\n",
        "print(classification_report(enc_test,pred))"
      ]
    },
    {
      "cell_type": "markdown",
      "metadata": {
        "id": "8RvWy4tSjwDV"
      },
      "source": [
        "DECISION TREE CLASSIFICATION MODEL\n"
      ]
    },
    {
      "cell_type": "code",
      "execution_count": 170,
      "metadata": {
        "colab": {
          "base_uri": "https://localhost:8080/"
        },
        "id": "63xamISqmfmd",
        "outputId": "f2bd724a-698d-40d8-a95d-2c02e978994f"
      },
      "outputs": [
        {
          "output_type": "stream",
          "name": "stdout",
          "text": [
            "MODEL: DECISION TREE\n",
            "accuracy:  87.66891891891892 %\n",
            "confusion matrix:  [[1015   17  207]\n",
            " [  11  781   12]\n",
            " [ 178   13 1318]]\n",
            "              precision    recall  f1-score   support\n",
            "\n",
            "    Negative       0.84      0.82      0.83      1239\n",
            "     Neutral       0.96      0.97      0.97       804\n",
            "    Positive       0.86      0.87      0.87      1509\n",
            "\n",
            "    accuracy                           0.88      3552\n",
            "   macro avg       0.89      0.89      0.89      3552\n",
            "weighted avg       0.88      0.88      0.88      3552\n",
            "\n",
            "CPU times: user 19.8 s, sys: 27.1 ms, total: 19.8 s\n",
            "Wall time: 19.7 s\n"
          ]
        }
      ],
      "source": [
        "%%time\n",
        "# pipeline creation \n",
        "# 1. CountVectorizer\n",
        "# 2. TfidTransformer\n",
        "# 3. Decision tree classifier\n",
        "\n",
        "from sklearn.tree import DecisionTreeClassifier\n",
        "\n",
        "dec_tree_class_ds=Pipeline([('count_vec',CountVectorizer()),\n",
        "                         ('tfid',TfidfTransformer()),\n",
        "                         ('dec_tree_class',DecisionTreeClassifier())])\n",
        "\n",
        "\n",
        "# Fit the pipeline to the data\n",
        "dec_tree_class_ds.fit(x_train,y_train)\n",
        "\n",
        "# predict on test data\n",
        "pred=dec_tree_class_ds.predict(x_test)\n",
        "\n",
        "print(\"MODEL: DECISION TREE\")\n",
        "\n",
        "#print accuracy\n",
        "print(\"accuracy: \",accuracy_score(y_test,pred)*100,\"%\")\n",
        "\n",
        "#print confusion matrix\n",
        "print(\"confusion matrix: \",confusion_matrix(y_test,pred))\n",
        "\n",
        "# print classification report\n",
        "print(classification_report(y_test,pred))"
      ]
    },
    {
      "cell_type": "markdown",
      "metadata": {
        "id": "LenIHULAjsrv"
      },
      "source": [
        "K- NEAREST NEIGHBOUR CLASSIFIER MODEL\n"
      ]
    },
    {
      "cell_type": "code",
      "execution_count": 171,
      "metadata": {
        "colab": {
          "base_uri": "https://localhost:8080/"
        },
        "id": "UtU2_7-MzQ6N",
        "outputId": "62c68167-186d-4645-a61c-d69f708962d6"
      },
      "outputs": [
        {
          "output_type": "stream",
          "name": "stdout",
          "text": [
            "MODEL: K NEAREST NEIGHBOR\n",
            "accuracy:  60.95157657657657 %\n",
            "confusion matrix:  [[ 759   50  430]\n",
            " [ 157  158  489]\n",
            " [ 204   57 1248]]\n",
            "              precision    recall  f1-score   support\n",
            "\n",
            "    Negative       0.68      0.61      0.64      1239\n",
            "     Neutral       0.60      0.20      0.30       804\n",
            "    Positive       0.58      0.83      0.68      1509\n",
            "\n",
            "    accuracy                           0.61      3552\n",
            "   macro avg       0.62      0.55      0.54      3552\n",
            "weighted avg       0.62      0.61      0.58      3552\n",
            "\n",
            "CPU times: user 5.24 s, sys: 28.1 ms, total: 5.27 s\n",
            "Wall time: 5.24 s\n"
          ]
        }
      ],
      "source": [
        "%%time\n",
        "from numpy.ma.core import count\n",
        "\n",
        "# pipeline creation \n",
        "# 1. CountVectorizer\n",
        "# 2. TfidTransformer\n",
        "# 3. KNN classifier\n",
        "\n",
        "from sklearn.neighbors import KNeighborsClassifier \n",
        "\n",
        "# Fit the pipeline to the data\n",
        "knn_ds=Pipeline([('count_vec',CountVectorizer()),\n",
        "                 ('tfid',TfidfTransformer()),\n",
        "                 ('knn',KNeighborsClassifier(n_neighbors=100))])\n",
        "\n",
        "knn_ds.fit(x_train,y_train)\n",
        "\n",
        "# predict on test data\n",
        "pred=knn_ds.predict(x_test)\n",
        "\n",
        "print(\"MODEL: K NEAREST NEIGHBOR\")\n",
        "\n",
        "#print accuracy\n",
        "print(\"accuracy: \",accuracy_score(y_test,pred)*100,\"%\")\n",
        "\n",
        "#print confusion matrix\n",
        "print(\"confusion matrix: \",confusion_matrix(y_test,pred))\n",
        "\n",
        "# print classification report\n",
        "print(classification_report(y_test,pred))"
      ]
    },
    {
      "cell_type": "code",
      "execution_count": 172,
      "metadata": {
        "id": "MlOKo4d2wkm3"
      },
      "outputs": [],
      "source": [
        "# helper function for comparing models matric\n",
        "\n",
        "def helper(model_objects, model_names, x_test, y_test, enc_test):\n",
        "    \n",
        "    # create a dataframe with column matric and metric name as value\n",
        "    metrics_df = pd.DataFrame(columns=['model_names','accuracy','precision','recall','f1_score'])\n",
        "    metrics_df['model_names'] = model_names\n",
        "   \n",
        "    # then predict on the test set\n",
        "    metrics_df['accuracy'] = [accuracy_score(y_test, model.predict(x_test)) if model != xgb_ds else accuracy_score(enc_test, model.predict(x_test)) for model in model_objects]\n",
        "    metrics_df['precision'] = [precision_score(y_test, model.predict(x_test),average='weighted') if model != xgb_ds else precision_score(enc_test, model.predict(x_test), average='weighted') for model in model_objects]\n",
        "    metrics_df['recall'] = [recall_score(y_test, model.predict(x_test),average='weighted') if model != xgb_ds else recall_score(enc_test, model.predict(x_test),average='weighted') for model in model_objects]\n",
        "    metrics_df['f1_score'] = [f1_score(y_test, model.predict(x_test),average='weighted') if model != xgb_ds else f1_score(enc_test, model.predict(x_test), average='weighted') for model in model_objects]\n",
        "    \n",
        "    return metrics_df\n",
        "    "
      ]
    },
    {
      "cell_type": "code",
      "execution_count": 173,
      "metadata": {
        "colab": {
          "base_uri": "https://localhost:8080/",
          "height": 300
        },
        "id": "4A6ZI1hQwkhO",
        "outputId": "7af37924-9b3a-47a7-e09e-2904f154da0a"
      },
      "outputs": [
        {
          "output_type": "execute_result",
          "data": {
            "text/plain": [
              "     model_names  accuracy  precision    recall  f1_score\n",
              "0      LinearSVM  0.932714   0.933004  0.932714  0.932659\n",
              "1  LogRegression  0.893581   0.894356  0.893581  0.893442\n",
              "2  MultinomialNB  0.639640   0.707324  0.639640  0.587574\n",
              "3    BernoulliNB  0.739583   0.742950  0.739583  0.737226\n",
              "4  GradientBoost  0.837838   0.854754  0.837838  0.837715\n",
              "5        XGBoost  0.805180   0.833190  0.805180  0.805772\n",
              "6   Decisiontree  0.876689   0.876338  0.876689  0.876419\n",
              "7            KNN  0.609516   0.616008  0.609516  0.579832"
            ],
            "text/html": [
              "\n",
              "  <div id=\"df-0ef5818c-caf7-4bc6-a296-6ca6939445c7\">\n",
              "    <div class=\"colab-df-container\">\n",
              "      <div>\n",
              "<style scoped>\n",
              "    .dataframe tbody tr th:only-of-type {\n",
              "        vertical-align: middle;\n",
              "    }\n",
              "\n",
              "    .dataframe tbody tr th {\n",
              "        vertical-align: top;\n",
              "    }\n",
              "\n",
              "    .dataframe thead th {\n",
              "        text-align: right;\n",
              "    }\n",
              "</style>\n",
              "<table border=\"1\" class=\"dataframe\">\n",
              "  <thead>\n",
              "    <tr style=\"text-align: right;\">\n",
              "      <th></th>\n",
              "      <th>model_names</th>\n",
              "      <th>accuracy</th>\n",
              "      <th>precision</th>\n",
              "      <th>recall</th>\n",
              "      <th>f1_score</th>\n",
              "    </tr>\n",
              "  </thead>\n",
              "  <tbody>\n",
              "    <tr>\n",
              "      <th>0</th>\n",
              "      <td>LinearSVM</td>\n",
              "      <td>0.932714</td>\n",
              "      <td>0.933004</td>\n",
              "      <td>0.932714</td>\n",
              "      <td>0.932659</td>\n",
              "    </tr>\n",
              "    <tr>\n",
              "      <th>1</th>\n",
              "      <td>LogRegression</td>\n",
              "      <td>0.893581</td>\n",
              "      <td>0.894356</td>\n",
              "      <td>0.893581</td>\n",
              "      <td>0.893442</td>\n",
              "    </tr>\n",
              "    <tr>\n",
              "      <th>2</th>\n",
              "      <td>MultinomialNB</td>\n",
              "      <td>0.639640</td>\n",
              "      <td>0.707324</td>\n",
              "      <td>0.639640</td>\n",
              "      <td>0.587574</td>\n",
              "    </tr>\n",
              "    <tr>\n",
              "      <th>3</th>\n",
              "      <td>BernoulliNB</td>\n",
              "      <td>0.739583</td>\n",
              "      <td>0.742950</td>\n",
              "      <td>0.739583</td>\n",
              "      <td>0.737226</td>\n",
              "    </tr>\n",
              "    <tr>\n",
              "      <th>4</th>\n",
              "      <td>GradientBoost</td>\n",
              "      <td>0.837838</td>\n",
              "      <td>0.854754</td>\n",
              "      <td>0.837838</td>\n",
              "      <td>0.837715</td>\n",
              "    </tr>\n",
              "    <tr>\n",
              "      <th>5</th>\n",
              "      <td>XGBoost</td>\n",
              "      <td>0.805180</td>\n",
              "      <td>0.833190</td>\n",
              "      <td>0.805180</td>\n",
              "      <td>0.805772</td>\n",
              "    </tr>\n",
              "    <tr>\n",
              "      <th>6</th>\n",
              "      <td>Decisiontree</td>\n",
              "      <td>0.876689</td>\n",
              "      <td>0.876338</td>\n",
              "      <td>0.876689</td>\n",
              "      <td>0.876419</td>\n",
              "    </tr>\n",
              "    <tr>\n",
              "      <th>7</th>\n",
              "      <td>KNN</td>\n",
              "      <td>0.609516</td>\n",
              "      <td>0.616008</td>\n",
              "      <td>0.609516</td>\n",
              "      <td>0.579832</td>\n",
              "    </tr>\n",
              "  </tbody>\n",
              "</table>\n",
              "</div>\n",
              "      <button class=\"colab-df-convert\" onclick=\"convertToInteractive('df-0ef5818c-caf7-4bc6-a296-6ca6939445c7')\"\n",
              "              title=\"Convert this dataframe to an interactive table.\"\n",
              "              style=\"display:none;\">\n",
              "        \n",
              "  <svg xmlns=\"http://www.w3.org/2000/svg\" height=\"24px\"viewBox=\"0 0 24 24\"\n",
              "       width=\"24px\">\n",
              "    <path d=\"M0 0h24v24H0V0z\" fill=\"none\"/>\n",
              "    <path d=\"M18.56 5.44l.94 2.06.94-2.06 2.06-.94-2.06-.94-.94-2.06-.94 2.06-2.06.94zm-11 1L8.5 8.5l.94-2.06 2.06-.94-2.06-.94L8.5 2.5l-.94 2.06-2.06.94zm10 10l.94 2.06.94-2.06 2.06-.94-2.06-.94-.94-2.06-.94 2.06-2.06.94z\"/><path d=\"M17.41 7.96l-1.37-1.37c-.4-.4-.92-.59-1.43-.59-.52 0-1.04.2-1.43.59L10.3 9.45l-7.72 7.72c-.78.78-.78 2.05 0 2.83L4 21.41c.39.39.9.59 1.41.59.51 0 1.02-.2 1.41-.59l7.78-7.78 2.81-2.81c.8-.78.8-2.07 0-2.86zM5.41 20L4 18.59l7.72-7.72 1.47 1.35L5.41 20z\"/>\n",
              "  </svg>\n",
              "      </button>\n",
              "      \n",
              "  <style>\n",
              "    .colab-df-container {\n",
              "      display:flex;\n",
              "      flex-wrap:wrap;\n",
              "      gap: 12px;\n",
              "    }\n",
              "\n",
              "    .colab-df-convert {\n",
              "      background-color: #E8F0FE;\n",
              "      border: none;\n",
              "      border-radius: 50%;\n",
              "      cursor: pointer;\n",
              "      display: none;\n",
              "      fill: #1967D2;\n",
              "      height: 32px;\n",
              "      padding: 0 0 0 0;\n",
              "      width: 32px;\n",
              "    }\n",
              "\n",
              "    .colab-df-convert:hover {\n",
              "      background-color: #E2EBFA;\n",
              "      box-shadow: 0px 1px 2px rgba(60, 64, 67, 0.3), 0px 1px 3px 1px rgba(60, 64, 67, 0.15);\n",
              "      fill: #174EA6;\n",
              "    }\n",
              "\n",
              "    [theme=dark] .colab-df-convert {\n",
              "      background-color: #3B4455;\n",
              "      fill: #D2E3FC;\n",
              "    }\n",
              "\n",
              "    [theme=dark] .colab-df-convert:hover {\n",
              "      background-color: #434B5C;\n",
              "      box-shadow: 0px 1px 3px 1px rgba(0, 0, 0, 0.15);\n",
              "      filter: drop-shadow(0px 1px 2px rgba(0, 0, 0, 0.3));\n",
              "      fill: #FFFFFF;\n",
              "    }\n",
              "  </style>\n",
              "\n",
              "      <script>\n",
              "        const buttonEl =\n",
              "          document.querySelector('#df-0ef5818c-caf7-4bc6-a296-6ca6939445c7 button.colab-df-convert');\n",
              "        buttonEl.style.display =\n",
              "          google.colab.kernel.accessAllowed ? 'block' : 'none';\n",
              "\n",
              "        async function convertToInteractive(key) {\n",
              "          const element = document.querySelector('#df-0ef5818c-caf7-4bc6-a296-6ca6939445c7');\n",
              "          const dataTable =\n",
              "            await google.colab.kernel.invokeFunction('convertToInteractive',\n",
              "                                                     [key], {});\n",
              "          if (!dataTable) return;\n",
              "\n",
              "          const docLinkHtml = 'Like what you see? Visit the ' +\n",
              "            '<a target=\"_blank\" href=https://colab.research.google.com/notebooks/data_table.ipynb>data table notebook</a>'\n",
              "            + ' to learn more about interactive tables.';\n",
              "          element.innerHTML = '';\n",
              "          dataTable['output_type'] = 'display_data';\n",
              "          await google.colab.output.renderOutput(dataTable, element);\n",
              "          const docLink = document.createElement('div');\n",
              "          docLink.innerHTML = docLinkHtml;\n",
              "          element.appendChild(docLink);\n",
              "        }\n",
              "      </script>\n",
              "    </div>\n",
              "  </div>\n",
              "  "
            ]
          },
          "metadata": {},
          "execution_count": 173
        }
      ],
      "source": [
        "# list of model objects\n",
        "model_objects = [lin_svm_ds, log_reg_ds, multi_nb_ds, bern_nb_ds, gbc_ds, xgb_ds,dec_tree_class_ds,knn_ds]\n",
        "\n",
        "# list of model names\n",
        "model_names = ['LinearSVM', 'LogRegression','MultinomialNB','BernoulliNB','GradientBoost','XGBoost','Decisiontree','KNN']\n",
        "\n",
        "# print the comparison of models\n",
        "met_df = helper(model_objects,model_names, x_test, y_test, enc_test)\n",
        "met_df\n",
        "\n"
      ]
    },
    {
      "cell_type": "markdown",
      "source": [
        "From above metrics comparison, we could confirm that Linear SVM(Support Vector Machine) model performs better than all other models"
      ],
      "metadata": {
        "id": "2DEOzLiEIley"
      }
    },
    {
      "cell_type": "markdown",
      "metadata": {
        "id": "YxNC09uekdZH"
      },
      "source": [
        "# working with test dataset"
      ]
    },
    {
      "cell_type": "code",
      "execution_count": 174,
      "metadata": {
        "colab": {
          "base_uri": "https://localhost:8080/"
        },
        "id": "P_XD4m1Fkh3i",
        "outputId": "da3323f4-819d-44d8-8819-c3ae8a7efc3b"
      },
      "outputs": [
        {
          "output_type": "execute_result",
          "data": {
            "text/plain": [
              "array(['Negative', 'Positive', 'Positive', ..., 'Positive', 'Positive',\n",
              "       'Positive'], dtype=object)"
            ]
          },
          "metadata": {},
          "execution_count": 174
        }
      ],
      "source": [
        "# Perforn the prediction on the test dataset\n",
        "pred=lin_svm_ds.predict(x_test)\n",
        "pred"
      ]
    },
    {
      "cell_type": "code",
      "execution_count": 175,
      "metadata": {
        "id": "U4cHKaw6khr_"
      },
      "outputs": [],
      "source": [
        "# creating a dataframe of predicted results \n",
        "pred=pd.DataFrame(pred,columns=['Prediction'])\n"
      ]
    },
    {
      "cell_type": "code",
      "execution_count": 176,
      "metadata": {
        "colab": {
          "base_uri": "https://localhost:8080/",
          "height": 423
        },
        "id": "91noUUWikhD5",
        "outputId": "4a8d9cda-aba3-4cd2-dec6-1efe97c52b7a"
      },
      "outputs": [
        {
          "output_type": "execute_result",
          "data": {
            "text/plain": [
              "     Prediction\n",
              "0      Negative\n",
              "1      Positive\n",
              "2      Positive\n",
              "3      Positive\n",
              "4      Negative\n",
              "...         ...\n",
              "3547   Negative\n",
              "3548   Positive\n",
              "3549   Positive\n",
              "3550   Positive\n",
              "3551   Positive\n",
              "\n",
              "[3552 rows x 1 columns]"
            ],
            "text/html": [
              "\n",
              "  <div id=\"df-9a0e8734-f798-4663-917f-3907c624425e\">\n",
              "    <div class=\"colab-df-container\">\n",
              "      <div>\n",
              "<style scoped>\n",
              "    .dataframe tbody tr th:only-of-type {\n",
              "        vertical-align: middle;\n",
              "    }\n",
              "\n",
              "    .dataframe tbody tr th {\n",
              "        vertical-align: top;\n",
              "    }\n",
              "\n",
              "    .dataframe thead th {\n",
              "        text-align: right;\n",
              "    }\n",
              "</style>\n",
              "<table border=\"1\" class=\"dataframe\">\n",
              "  <thead>\n",
              "    <tr style=\"text-align: right;\">\n",
              "      <th></th>\n",
              "      <th>Prediction</th>\n",
              "    </tr>\n",
              "  </thead>\n",
              "  <tbody>\n",
              "    <tr>\n",
              "      <th>0</th>\n",
              "      <td>Negative</td>\n",
              "    </tr>\n",
              "    <tr>\n",
              "      <th>1</th>\n",
              "      <td>Positive</td>\n",
              "    </tr>\n",
              "    <tr>\n",
              "      <th>2</th>\n",
              "      <td>Positive</td>\n",
              "    </tr>\n",
              "    <tr>\n",
              "      <th>3</th>\n",
              "      <td>Positive</td>\n",
              "    </tr>\n",
              "    <tr>\n",
              "      <th>4</th>\n",
              "      <td>Negative</td>\n",
              "    </tr>\n",
              "    <tr>\n",
              "      <th>...</th>\n",
              "      <td>...</td>\n",
              "    </tr>\n",
              "    <tr>\n",
              "      <th>3547</th>\n",
              "      <td>Negative</td>\n",
              "    </tr>\n",
              "    <tr>\n",
              "      <th>3548</th>\n",
              "      <td>Positive</td>\n",
              "    </tr>\n",
              "    <tr>\n",
              "      <th>3549</th>\n",
              "      <td>Positive</td>\n",
              "    </tr>\n",
              "    <tr>\n",
              "      <th>3550</th>\n",
              "      <td>Positive</td>\n",
              "    </tr>\n",
              "    <tr>\n",
              "      <th>3551</th>\n",
              "      <td>Positive</td>\n",
              "    </tr>\n",
              "  </tbody>\n",
              "</table>\n",
              "<p>3552 rows × 1 columns</p>\n",
              "</div>\n",
              "      <button class=\"colab-df-convert\" onclick=\"convertToInteractive('df-9a0e8734-f798-4663-917f-3907c624425e')\"\n",
              "              title=\"Convert this dataframe to an interactive table.\"\n",
              "              style=\"display:none;\">\n",
              "        \n",
              "  <svg xmlns=\"http://www.w3.org/2000/svg\" height=\"24px\"viewBox=\"0 0 24 24\"\n",
              "       width=\"24px\">\n",
              "    <path d=\"M0 0h24v24H0V0z\" fill=\"none\"/>\n",
              "    <path d=\"M18.56 5.44l.94 2.06.94-2.06 2.06-.94-2.06-.94-.94-2.06-.94 2.06-2.06.94zm-11 1L8.5 8.5l.94-2.06 2.06-.94-2.06-.94L8.5 2.5l-.94 2.06-2.06.94zm10 10l.94 2.06.94-2.06 2.06-.94-2.06-.94-.94-2.06-.94 2.06-2.06.94z\"/><path d=\"M17.41 7.96l-1.37-1.37c-.4-.4-.92-.59-1.43-.59-.52 0-1.04.2-1.43.59L10.3 9.45l-7.72 7.72c-.78.78-.78 2.05 0 2.83L4 21.41c.39.39.9.59 1.41.59.51 0 1.02-.2 1.41-.59l7.78-7.78 2.81-2.81c.8-.78.8-2.07 0-2.86zM5.41 20L4 18.59l7.72-7.72 1.47 1.35L5.41 20z\"/>\n",
              "  </svg>\n",
              "      </button>\n",
              "      \n",
              "  <style>\n",
              "    .colab-df-container {\n",
              "      display:flex;\n",
              "      flex-wrap:wrap;\n",
              "      gap: 12px;\n",
              "    }\n",
              "\n",
              "    .colab-df-convert {\n",
              "      background-color: #E8F0FE;\n",
              "      border: none;\n",
              "      border-radius: 50%;\n",
              "      cursor: pointer;\n",
              "      display: none;\n",
              "      fill: #1967D2;\n",
              "      height: 32px;\n",
              "      padding: 0 0 0 0;\n",
              "      width: 32px;\n",
              "    }\n",
              "\n",
              "    .colab-df-convert:hover {\n",
              "      background-color: #E2EBFA;\n",
              "      box-shadow: 0px 1px 2px rgba(60, 64, 67, 0.3), 0px 1px 3px 1px rgba(60, 64, 67, 0.15);\n",
              "      fill: #174EA6;\n",
              "    }\n",
              "\n",
              "    [theme=dark] .colab-df-convert {\n",
              "      background-color: #3B4455;\n",
              "      fill: #D2E3FC;\n",
              "    }\n",
              "\n",
              "    [theme=dark] .colab-df-convert:hover {\n",
              "      background-color: #434B5C;\n",
              "      box-shadow: 0px 1px 3px 1px rgba(0, 0, 0, 0.15);\n",
              "      filter: drop-shadow(0px 1px 2px rgba(0, 0, 0, 0.3));\n",
              "      fill: #FFFFFF;\n",
              "    }\n",
              "  </style>\n",
              "\n",
              "      <script>\n",
              "        const buttonEl =\n",
              "          document.querySelector('#df-9a0e8734-f798-4663-917f-3907c624425e button.colab-df-convert');\n",
              "        buttonEl.style.display =\n",
              "          google.colab.kernel.accessAllowed ? 'block' : 'none';\n",
              "\n",
              "        async function convertToInteractive(key) {\n",
              "          const element = document.querySelector('#df-9a0e8734-f798-4663-917f-3907c624425e');\n",
              "          const dataTable =\n",
              "            await google.colab.kernel.invokeFunction('convertToInteractive',\n",
              "                                                     [key], {});\n",
              "          if (!dataTable) return;\n",
              "\n",
              "          const docLinkHtml = 'Like what you see? Visit the ' +\n",
              "            '<a target=\"_blank\" href=https://colab.research.google.com/notebooks/data_table.ipynb>data table notebook</a>'\n",
              "            + ' to learn more about interactive tables.';\n",
              "          element.innerHTML = '';\n",
              "          dataTable['output_type'] = 'display_data';\n",
              "          await google.colab.output.renderOutput(dataTable, element);\n",
              "          const docLink = document.createElement('div');\n",
              "          docLink.innerHTML = docLinkHtml;\n",
              "          element.appendChild(docLink);\n",
              "        }\n",
              "      </script>\n",
              "    </div>\n",
              "  </div>\n",
              "  "
            ]
          },
          "metadata": {},
          "execution_count": 176
        }
      ],
      "source": [
        "pred"
      ]
    },
    {
      "cell_type": "markdown",
      "metadata": {
        "id": "LcDOjy2MfkG2"
      },
      "source": [
        "# Now working with headlines + description"
      ]
    },
    {
      "cell_type": "code",
      "execution_count": 177,
      "metadata": {
        "colab": {
          "base_uri": "https://localhost:8080/",
          "height": 423
        },
        "id": "HOSweU4mzTgq",
        "outputId": "35295cf4-e69f-4260-db0b-884161bb7586"
      },
      "outputs": [
        {
          "output_type": "execute_result",
          "data": {
            "text/plain": [
              "                                               Headlines  \\\n",
              "0      Jim Cramer: A better way to invest in the Covi...   \n",
              "1         Cramer's lightning round: I would own Teradyne   \n",
              "3      Cramer's week ahead: Big week for earnings, ev...   \n",
              "4      IQ Capital CEO Keith Bliss says tech and healt...   \n",
              "5      Wall Street delivered the 'kind of pullback I'...   \n",
              "...                                                  ...   \n",
              "32765  Malaysia says never hired British data firm at...   \n",
              "32766  Prosecutors search Volkswagen headquarters in ...   \n",
              "32767   McDonald's sets greenhouse gas reduction targets   \n",
              "32768  Pratt & Whitney to deliver spare A320neo engin...   \n",
              "32769  UK will always consider ways to improve data l...   \n",
              "\n",
              "                                 Time  \\\n",
              "0       7:51  PM ET Fri, 17 July 2020   \n",
              "1       7:33  PM ET Fri, 17 July 2020   \n",
              "3       7:25  PM ET Fri, 17 July 2020   \n",
              "4       4:24  PM ET Fri, 17 July 2020   \n",
              "5       7:36  PM ET Thu, 16 July 2020   \n",
              "...                               ...   \n",
              "32765                     Mar 20 2018   \n",
              "32766                     Mar 20 2018   \n",
              "32767                     Mar 20 2018   \n",
              "32768                     Mar 20 2018   \n",
              "32769                     Mar 20 2018   \n",
              "\n",
              "                                             Description  ds_score  \\\n",
              "0      mad money host jim cramer recommend buy four c...  Positive   \n",
              "1      mad money host jim cramer ring lightn round be...  Negative   \n",
              "3      well pay earn noncovid compani lancet publish ...  Positive   \n",
              "4      keith bliss iq capit ceo join close bell talk ...  Positive   \n",
              "5      look stock highqual compani go lower even thou...  Negative   \n",
              "...                                                  ...       ...   \n",
              "32765  malaysian govern rule parti tuesday deni ever ...   Neutral   \n",
              "32766  german prosecutor said tuesday search volkswag...   Neutral   \n",
              "32767  mcdonald corp tuesday announc approv scienc ba...  Negative   \n",
              "32768  pratt whitney soon begin deliveri spare engin ...  Negative   \n",
              "32769  britain consid suggest give bodi charg uphold ...  Positive   \n",
              "\n",
              "                                                    info  \n",
              "0      Jim Cramer: A better way to invest in the Covi...  \n",
              "1      Cramer's lightning round: I would own Teradyne...  \n",
              "3      Cramer's week ahead: Big week for earnings, ev...  \n",
              "4      IQ Capital CEO Keith Bliss says tech and healt...  \n",
              "5      Wall Street delivered the 'kind of pullback I'...  \n",
              "...                                                  ...  \n",
              "32765  Malaysia says never hired British data firm at...  \n",
              "32766  Prosecutors search Volkswagen headquarters in ...  \n",
              "32767  McDonald's sets greenhouse gas reduction targe...  \n",
              "32768  Pratt & Whitney to deliver spare A320neo engin...  \n",
              "32769  UK will always consider ways to improve data l...  \n",
              "\n",
              "[35515 rows x 5 columns]"
            ],
            "text/html": [
              "\n",
              "  <div id=\"df-0868fb6a-318d-4c8a-9e1c-0cc90250e830\">\n",
              "    <div class=\"colab-df-container\">\n",
              "      <div>\n",
              "<style scoped>\n",
              "    .dataframe tbody tr th:only-of-type {\n",
              "        vertical-align: middle;\n",
              "    }\n",
              "\n",
              "    .dataframe tbody tr th {\n",
              "        vertical-align: top;\n",
              "    }\n",
              "\n",
              "    .dataframe thead th {\n",
              "        text-align: right;\n",
              "    }\n",
              "</style>\n",
              "<table border=\"1\" class=\"dataframe\">\n",
              "  <thead>\n",
              "    <tr style=\"text-align: right;\">\n",
              "      <th></th>\n",
              "      <th>Headlines</th>\n",
              "      <th>Time</th>\n",
              "      <th>Description</th>\n",
              "      <th>ds_score</th>\n",
              "      <th>info</th>\n",
              "    </tr>\n",
              "  </thead>\n",
              "  <tbody>\n",
              "    <tr>\n",
              "      <th>0</th>\n",
              "      <td>Jim Cramer: A better way to invest in the Covi...</td>\n",
              "      <td>7:51  PM ET Fri, 17 July 2020</td>\n",
              "      <td>mad money host jim cramer recommend buy four c...</td>\n",
              "      <td>Positive</td>\n",
              "      <td>Jim Cramer: A better way to invest in the Covi...</td>\n",
              "    </tr>\n",
              "    <tr>\n",
              "      <th>1</th>\n",
              "      <td>Cramer's lightning round: I would own Teradyne</td>\n",
              "      <td>7:33  PM ET Fri, 17 July 2020</td>\n",
              "      <td>mad money host jim cramer ring lightn round be...</td>\n",
              "      <td>Negative</td>\n",
              "      <td>Cramer's lightning round: I would own Teradyne...</td>\n",
              "    </tr>\n",
              "    <tr>\n",
              "      <th>3</th>\n",
              "      <td>Cramer's week ahead: Big week for earnings, ev...</td>\n",
              "      <td>7:25  PM ET Fri, 17 July 2020</td>\n",
              "      <td>well pay earn noncovid compani lancet publish ...</td>\n",
              "      <td>Positive</td>\n",
              "      <td>Cramer's week ahead: Big week for earnings, ev...</td>\n",
              "    </tr>\n",
              "    <tr>\n",
              "      <th>4</th>\n",
              "      <td>IQ Capital CEO Keith Bliss says tech and healt...</td>\n",
              "      <td>4:24  PM ET Fri, 17 July 2020</td>\n",
              "      <td>keith bliss iq capit ceo join close bell talk ...</td>\n",
              "      <td>Positive</td>\n",
              "      <td>IQ Capital CEO Keith Bliss says tech and healt...</td>\n",
              "    </tr>\n",
              "    <tr>\n",
              "      <th>5</th>\n",
              "      <td>Wall Street delivered the 'kind of pullback I'...</td>\n",
              "      <td>7:36  PM ET Thu, 16 July 2020</td>\n",
              "      <td>look stock highqual compani go lower even thou...</td>\n",
              "      <td>Negative</td>\n",
              "      <td>Wall Street delivered the 'kind of pullback I'...</td>\n",
              "    </tr>\n",
              "    <tr>\n",
              "      <th>...</th>\n",
              "      <td>...</td>\n",
              "      <td>...</td>\n",
              "      <td>...</td>\n",
              "      <td>...</td>\n",
              "      <td>...</td>\n",
              "    </tr>\n",
              "    <tr>\n",
              "      <th>32765</th>\n",
              "      <td>Malaysia says never hired British data firm at...</td>\n",
              "      <td>Mar 20 2018</td>\n",
              "      <td>malaysian govern rule parti tuesday deni ever ...</td>\n",
              "      <td>Neutral</td>\n",
              "      <td>Malaysia says never hired British data firm at...</td>\n",
              "    </tr>\n",
              "    <tr>\n",
              "      <th>32766</th>\n",
              "      <td>Prosecutors search Volkswagen headquarters in ...</td>\n",
              "      <td>Mar 20 2018</td>\n",
              "      <td>german prosecutor said tuesday search volkswag...</td>\n",
              "      <td>Neutral</td>\n",
              "      <td>Prosecutors search Volkswagen headquarters in ...</td>\n",
              "    </tr>\n",
              "    <tr>\n",
              "      <th>32767</th>\n",
              "      <td>McDonald's sets greenhouse gas reduction targets</td>\n",
              "      <td>Mar 20 2018</td>\n",
              "      <td>mcdonald corp tuesday announc approv scienc ba...</td>\n",
              "      <td>Negative</td>\n",
              "      <td>McDonald's sets greenhouse gas reduction targe...</td>\n",
              "    </tr>\n",
              "    <tr>\n",
              "      <th>32768</th>\n",
              "      <td>Pratt &amp; Whitney to deliver spare A320neo engin...</td>\n",
              "      <td>Mar 20 2018</td>\n",
              "      <td>pratt whitney soon begin deliveri spare engin ...</td>\n",
              "      <td>Negative</td>\n",
              "      <td>Pratt &amp; Whitney to deliver spare A320neo engin...</td>\n",
              "    </tr>\n",
              "    <tr>\n",
              "      <th>32769</th>\n",
              "      <td>UK will always consider ways to improve data l...</td>\n",
              "      <td>Mar 20 2018</td>\n",
              "      <td>britain consid suggest give bodi charg uphold ...</td>\n",
              "      <td>Positive</td>\n",
              "      <td>UK will always consider ways to improve data l...</td>\n",
              "    </tr>\n",
              "  </tbody>\n",
              "</table>\n",
              "<p>35515 rows × 5 columns</p>\n",
              "</div>\n",
              "      <button class=\"colab-df-convert\" onclick=\"convertToInteractive('df-0868fb6a-318d-4c8a-9e1c-0cc90250e830')\"\n",
              "              title=\"Convert this dataframe to an interactive table.\"\n",
              "              style=\"display:none;\">\n",
              "        \n",
              "  <svg xmlns=\"http://www.w3.org/2000/svg\" height=\"24px\"viewBox=\"0 0 24 24\"\n",
              "       width=\"24px\">\n",
              "    <path d=\"M0 0h24v24H0V0z\" fill=\"none\"/>\n",
              "    <path d=\"M18.56 5.44l.94 2.06.94-2.06 2.06-.94-2.06-.94-.94-2.06-.94 2.06-2.06.94zm-11 1L8.5 8.5l.94-2.06 2.06-.94-2.06-.94L8.5 2.5l-.94 2.06-2.06.94zm10 10l.94 2.06.94-2.06 2.06-.94-2.06-.94-.94-2.06-.94 2.06-2.06.94z\"/><path d=\"M17.41 7.96l-1.37-1.37c-.4-.4-.92-.59-1.43-.59-.52 0-1.04.2-1.43.59L10.3 9.45l-7.72 7.72c-.78.78-.78 2.05 0 2.83L4 21.41c.39.39.9.59 1.41.59.51 0 1.02-.2 1.41-.59l7.78-7.78 2.81-2.81c.8-.78.8-2.07 0-2.86zM5.41 20L4 18.59l7.72-7.72 1.47 1.35L5.41 20z\"/>\n",
              "  </svg>\n",
              "      </button>\n",
              "      \n",
              "  <style>\n",
              "    .colab-df-container {\n",
              "      display:flex;\n",
              "      flex-wrap:wrap;\n",
              "      gap: 12px;\n",
              "    }\n",
              "\n",
              "    .colab-df-convert {\n",
              "      background-color: #E8F0FE;\n",
              "      border: none;\n",
              "      border-radius: 50%;\n",
              "      cursor: pointer;\n",
              "      display: none;\n",
              "      fill: #1967D2;\n",
              "      height: 32px;\n",
              "      padding: 0 0 0 0;\n",
              "      width: 32px;\n",
              "    }\n",
              "\n",
              "    .colab-df-convert:hover {\n",
              "      background-color: #E2EBFA;\n",
              "      box-shadow: 0px 1px 2px rgba(60, 64, 67, 0.3), 0px 1px 3px 1px rgba(60, 64, 67, 0.15);\n",
              "      fill: #174EA6;\n",
              "    }\n",
              "\n",
              "    [theme=dark] .colab-df-convert {\n",
              "      background-color: #3B4455;\n",
              "      fill: #D2E3FC;\n",
              "    }\n",
              "\n",
              "    [theme=dark] .colab-df-convert:hover {\n",
              "      background-color: #434B5C;\n",
              "      box-shadow: 0px 1px 3px 1px rgba(0, 0, 0, 0.15);\n",
              "      filter: drop-shadow(0px 1px 2px rgba(0, 0, 0, 0.3));\n",
              "      fill: #FFFFFF;\n",
              "    }\n",
              "  </style>\n",
              "\n",
              "      <script>\n",
              "        const buttonEl =\n",
              "          document.querySelector('#df-0868fb6a-318d-4c8a-9e1c-0cc90250e830 button.colab-df-convert');\n",
              "        buttonEl.style.display =\n",
              "          google.colab.kernel.accessAllowed ? 'block' : 'none';\n",
              "\n",
              "        async function convertToInteractive(key) {\n",
              "          const element = document.querySelector('#df-0868fb6a-318d-4c8a-9e1c-0cc90250e830');\n",
              "          const dataTable =\n",
              "            await google.colab.kernel.invokeFunction('convertToInteractive',\n",
              "                                                     [key], {});\n",
              "          if (!dataTable) return;\n",
              "\n",
              "          const docLinkHtml = 'Like what you see? Visit the ' +\n",
              "            '<a target=\"_blank\" href=https://colab.research.google.com/notebooks/data_table.ipynb>data table notebook</a>'\n",
              "            + ' to learn more about interactive tables.';\n",
              "          element.innerHTML = '';\n",
              "          dataTable['output_type'] = 'display_data';\n",
              "          await google.colab.output.renderOutput(dataTable, element);\n",
              "          const docLink = document.createElement('div');\n",
              "          docLink.innerHTML = docLinkHtml;\n",
              "          element.appendChild(docLink);\n",
              "        }\n",
              "      </script>\n",
              "    </div>\n",
              "  </div>\n",
              "  "
            ]
          },
          "metadata": {},
          "execution_count": 177
        }
      ],
      "source": [
        "# merge headlines and description of new dataset and name it info\n",
        "cnbc_reuters_1['info']=cnbc_reuters_1['Headlines'] + ' ' + cnbc_reuters_1['Description']\n",
        "cnbc_reuters_1"
      ]
    },
    {
      "cell_type": "code",
      "execution_count": 178,
      "metadata": {
        "colab": {
          "base_uri": "https://localhost:8080/",
          "height": 206
        },
        "id": "_ZTFzLcGzTb3",
        "outputId": "12c83c1f-5c8c-4909-8696-e4cd2e986fdb"
      },
      "outputs": [
        {
          "output_type": "execute_result",
          "data": {
            "text/plain": [
              "                             Time  \\\n",
              "0   7:51  PM ET Fri, 17 July 2020   \n",
              "1   7:33  PM ET Fri, 17 July 2020   \n",
              "3   7:25  PM ET Fri, 17 July 2020   \n",
              "4   4:24  PM ET Fri, 17 July 2020   \n",
              "5   7:36  PM ET Thu, 16 July 2020   \n",
              "\n",
              "                                                info  \n",
              "0  Jim Cramer: A better way to invest in the Covi...  \n",
              "1  Cramer's lightning round: I would own Teradyne...  \n",
              "3  Cramer's week ahead: Big week for earnings, ev...  \n",
              "4  IQ Capital CEO Keith Bliss says tech and healt...  \n",
              "5  Wall Street delivered the 'kind of pullback I'...  "
            ],
            "text/html": [
              "\n",
              "  <div id=\"df-138aeb5e-78ec-4e17-81c9-1932be73a94f\">\n",
              "    <div class=\"colab-df-container\">\n",
              "      <div>\n",
              "<style scoped>\n",
              "    .dataframe tbody tr th:only-of-type {\n",
              "        vertical-align: middle;\n",
              "    }\n",
              "\n",
              "    .dataframe tbody tr th {\n",
              "        vertical-align: top;\n",
              "    }\n",
              "\n",
              "    .dataframe thead th {\n",
              "        text-align: right;\n",
              "    }\n",
              "</style>\n",
              "<table border=\"1\" class=\"dataframe\">\n",
              "  <thead>\n",
              "    <tr style=\"text-align: right;\">\n",
              "      <th></th>\n",
              "      <th>Time</th>\n",
              "      <th>info</th>\n",
              "    </tr>\n",
              "  </thead>\n",
              "  <tbody>\n",
              "    <tr>\n",
              "      <th>0</th>\n",
              "      <td>7:51  PM ET Fri, 17 July 2020</td>\n",
              "      <td>Jim Cramer: A better way to invest in the Covi...</td>\n",
              "    </tr>\n",
              "    <tr>\n",
              "      <th>1</th>\n",
              "      <td>7:33  PM ET Fri, 17 July 2020</td>\n",
              "      <td>Cramer's lightning round: I would own Teradyne...</td>\n",
              "    </tr>\n",
              "    <tr>\n",
              "      <th>3</th>\n",
              "      <td>7:25  PM ET Fri, 17 July 2020</td>\n",
              "      <td>Cramer's week ahead: Big week for earnings, ev...</td>\n",
              "    </tr>\n",
              "    <tr>\n",
              "      <th>4</th>\n",
              "      <td>4:24  PM ET Fri, 17 July 2020</td>\n",
              "      <td>IQ Capital CEO Keith Bliss says tech and healt...</td>\n",
              "    </tr>\n",
              "    <tr>\n",
              "      <th>5</th>\n",
              "      <td>7:36  PM ET Thu, 16 July 2020</td>\n",
              "      <td>Wall Street delivered the 'kind of pullback I'...</td>\n",
              "    </tr>\n",
              "  </tbody>\n",
              "</table>\n",
              "</div>\n",
              "      <button class=\"colab-df-convert\" onclick=\"convertToInteractive('df-138aeb5e-78ec-4e17-81c9-1932be73a94f')\"\n",
              "              title=\"Convert this dataframe to an interactive table.\"\n",
              "              style=\"display:none;\">\n",
              "        \n",
              "  <svg xmlns=\"http://www.w3.org/2000/svg\" height=\"24px\"viewBox=\"0 0 24 24\"\n",
              "       width=\"24px\">\n",
              "    <path d=\"M0 0h24v24H0V0z\" fill=\"none\"/>\n",
              "    <path d=\"M18.56 5.44l.94 2.06.94-2.06 2.06-.94-2.06-.94-.94-2.06-.94 2.06-2.06.94zm-11 1L8.5 8.5l.94-2.06 2.06-.94-2.06-.94L8.5 2.5l-.94 2.06-2.06.94zm10 10l.94 2.06.94-2.06 2.06-.94-2.06-.94-.94-2.06-.94 2.06-2.06.94z\"/><path d=\"M17.41 7.96l-1.37-1.37c-.4-.4-.92-.59-1.43-.59-.52 0-1.04.2-1.43.59L10.3 9.45l-7.72 7.72c-.78.78-.78 2.05 0 2.83L4 21.41c.39.39.9.59 1.41.59.51 0 1.02-.2 1.41-.59l7.78-7.78 2.81-2.81c.8-.78.8-2.07 0-2.86zM5.41 20L4 18.59l7.72-7.72 1.47 1.35L5.41 20z\"/>\n",
              "  </svg>\n",
              "      </button>\n",
              "      \n",
              "  <style>\n",
              "    .colab-df-container {\n",
              "      display:flex;\n",
              "      flex-wrap:wrap;\n",
              "      gap: 12px;\n",
              "    }\n",
              "\n",
              "    .colab-df-convert {\n",
              "      background-color: #E8F0FE;\n",
              "      border: none;\n",
              "      border-radius: 50%;\n",
              "      cursor: pointer;\n",
              "      display: none;\n",
              "      fill: #1967D2;\n",
              "      height: 32px;\n",
              "      padding: 0 0 0 0;\n",
              "      width: 32px;\n",
              "    }\n",
              "\n",
              "    .colab-df-convert:hover {\n",
              "      background-color: #E2EBFA;\n",
              "      box-shadow: 0px 1px 2px rgba(60, 64, 67, 0.3), 0px 1px 3px 1px rgba(60, 64, 67, 0.15);\n",
              "      fill: #174EA6;\n",
              "    }\n",
              "\n",
              "    [theme=dark] .colab-df-convert {\n",
              "      background-color: #3B4455;\n",
              "      fill: #D2E3FC;\n",
              "    }\n",
              "\n",
              "    [theme=dark] .colab-df-convert:hover {\n",
              "      background-color: #434B5C;\n",
              "      box-shadow: 0px 1px 3px 1px rgba(0, 0, 0, 0.15);\n",
              "      filter: drop-shadow(0px 1px 2px rgba(0, 0, 0, 0.3));\n",
              "      fill: #FFFFFF;\n",
              "    }\n",
              "  </style>\n",
              "\n",
              "      <script>\n",
              "        const buttonEl =\n",
              "          document.querySelector('#df-138aeb5e-78ec-4e17-81c9-1932be73a94f button.colab-df-convert');\n",
              "        buttonEl.style.display =\n",
              "          google.colab.kernel.accessAllowed ? 'block' : 'none';\n",
              "\n",
              "        async function convertToInteractive(key) {\n",
              "          const element = document.querySelector('#df-138aeb5e-78ec-4e17-81c9-1932be73a94f');\n",
              "          const dataTable =\n",
              "            await google.colab.kernel.invokeFunction('convertToInteractive',\n",
              "                                                     [key], {});\n",
              "          if (!dataTable) return;\n",
              "\n",
              "          const docLinkHtml = 'Like what you see? Visit the ' +\n",
              "            '<a target=\"_blank\" href=https://colab.research.google.com/notebooks/data_table.ipynb>data table notebook</a>'\n",
              "            + ' to learn more about interactive tables.';\n",
              "          element.innerHTML = '';\n",
              "          dataTable['output_type'] = 'display_data';\n",
              "          await google.colab.output.renderOutput(dataTable, element);\n",
              "          const docLink = document.createElement('div');\n",
              "          docLink.innerHTML = docLinkHtml;\n",
              "          element.appendChild(docLink);\n",
              "        }\n",
              "      </script>\n",
              "    </div>\n",
              "  </div>\n",
              "  "
            ]
          },
          "metadata": {},
          "execution_count": 178
        }
      ],
      "source": [
        "# only keep info and time column . drop all remaining columns\n",
        "cnbc_reuters_2=cnbc_reuters_1.drop(['Headlines','Description','ds_score'],axis=1)\n",
        "cnbc_reuters_2.head()"
      ]
    },
    {
      "cell_type": "code",
      "execution_count": 179,
      "metadata": {
        "colab": {
          "base_uri": "https://localhost:8080/",
          "height": 206
        },
        "id": "iMOW0ljOzTaN",
        "outputId": "a67d5538-b7b6-474e-bfe9-2924b406ebdb"
      },
      "outputs": [
        {
          "output_type": "execute_result",
          "data": {
            "text/plain": [
              "                             Time  \\\n",
              "0   7:51  PM ET Fri, 17 July 2020   \n",
              "1   7:33  PM ET Fri, 17 July 2020   \n",
              "3   7:25  PM ET Fri, 17 July 2020   \n",
              "4   4:24  PM ET Fri, 17 July 2020   \n",
              "5   7:36  PM ET Thu, 16 July 2020   \n",
              "\n",
              "                                                info  \n",
              "0  jim cramer better way invest covid19 vaccin go...  \n",
              "1  cramer lightn round would teradyn mad money ho...  \n",
              "3  cramer week ahead big week earn even bigger we...  \n",
              "4  iq capit ceo keith bliss say tech healthcar ra...  \n",
              "5  wall street deliv kind pullback ive wait jim c...  "
            ],
            "text/html": [
              "\n",
              "  <div id=\"df-331a203d-6c74-4616-bc4e-24b009859c02\">\n",
              "    <div class=\"colab-df-container\">\n",
              "      <div>\n",
              "<style scoped>\n",
              "    .dataframe tbody tr th:only-of-type {\n",
              "        vertical-align: middle;\n",
              "    }\n",
              "\n",
              "    .dataframe tbody tr th {\n",
              "        vertical-align: top;\n",
              "    }\n",
              "\n",
              "    .dataframe thead th {\n",
              "        text-align: right;\n",
              "    }\n",
              "</style>\n",
              "<table border=\"1\" class=\"dataframe\">\n",
              "  <thead>\n",
              "    <tr style=\"text-align: right;\">\n",
              "      <th></th>\n",
              "      <th>Time</th>\n",
              "      <th>info</th>\n",
              "    </tr>\n",
              "  </thead>\n",
              "  <tbody>\n",
              "    <tr>\n",
              "      <th>0</th>\n",
              "      <td>7:51  PM ET Fri, 17 July 2020</td>\n",
              "      <td>jim cramer better way invest covid19 vaccin go...</td>\n",
              "    </tr>\n",
              "    <tr>\n",
              "      <th>1</th>\n",
              "      <td>7:33  PM ET Fri, 17 July 2020</td>\n",
              "      <td>cramer lightn round would teradyn mad money ho...</td>\n",
              "    </tr>\n",
              "    <tr>\n",
              "      <th>3</th>\n",
              "      <td>7:25  PM ET Fri, 17 July 2020</td>\n",
              "      <td>cramer week ahead big week earn even bigger we...</td>\n",
              "    </tr>\n",
              "    <tr>\n",
              "      <th>4</th>\n",
              "      <td>4:24  PM ET Fri, 17 July 2020</td>\n",
              "      <td>iq capit ceo keith bliss say tech healthcar ra...</td>\n",
              "    </tr>\n",
              "    <tr>\n",
              "      <th>5</th>\n",
              "      <td>7:36  PM ET Thu, 16 July 2020</td>\n",
              "      <td>wall street deliv kind pullback ive wait jim c...</td>\n",
              "    </tr>\n",
              "  </tbody>\n",
              "</table>\n",
              "</div>\n",
              "      <button class=\"colab-df-convert\" onclick=\"convertToInteractive('df-331a203d-6c74-4616-bc4e-24b009859c02')\"\n",
              "              title=\"Convert this dataframe to an interactive table.\"\n",
              "              style=\"display:none;\">\n",
              "        \n",
              "  <svg xmlns=\"http://www.w3.org/2000/svg\" height=\"24px\"viewBox=\"0 0 24 24\"\n",
              "       width=\"24px\">\n",
              "    <path d=\"M0 0h24v24H0V0z\" fill=\"none\"/>\n",
              "    <path d=\"M18.56 5.44l.94 2.06.94-2.06 2.06-.94-2.06-.94-.94-2.06-.94 2.06-2.06.94zm-11 1L8.5 8.5l.94-2.06 2.06-.94-2.06-.94L8.5 2.5l-.94 2.06-2.06.94zm10 10l.94 2.06.94-2.06 2.06-.94-2.06-.94-.94-2.06-.94 2.06-2.06.94z\"/><path d=\"M17.41 7.96l-1.37-1.37c-.4-.4-.92-.59-1.43-.59-.52 0-1.04.2-1.43.59L10.3 9.45l-7.72 7.72c-.78.78-.78 2.05 0 2.83L4 21.41c.39.39.9.59 1.41.59.51 0 1.02-.2 1.41-.59l7.78-7.78 2.81-2.81c.8-.78.8-2.07 0-2.86zM5.41 20L4 18.59l7.72-7.72 1.47 1.35L5.41 20z\"/>\n",
              "  </svg>\n",
              "      </button>\n",
              "      \n",
              "  <style>\n",
              "    .colab-df-container {\n",
              "      display:flex;\n",
              "      flex-wrap:wrap;\n",
              "      gap: 12px;\n",
              "    }\n",
              "\n",
              "    .colab-df-convert {\n",
              "      background-color: #E8F0FE;\n",
              "      border: none;\n",
              "      border-radius: 50%;\n",
              "      cursor: pointer;\n",
              "      display: none;\n",
              "      fill: #1967D2;\n",
              "      height: 32px;\n",
              "      padding: 0 0 0 0;\n",
              "      width: 32px;\n",
              "    }\n",
              "\n",
              "    .colab-df-convert:hover {\n",
              "      background-color: #E2EBFA;\n",
              "      box-shadow: 0px 1px 2px rgba(60, 64, 67, 0.3), 0px 1px 3px 1px rgba(60, 64, 67, 0.15);\n",
              "      fill: #174EA6;\n",
              "    }\n",
              "\n",
              "    [theme=dark] .colab-df-convert {\n",
              "      background-color: #3B4455;\n",
              "      fill: #D2E3FC;\n",
              "    }\n",
              "\n",
              "    [theme=dark] .colab-df-convert:hover {\n",
              "      background-color: #434B5C;\n",
              "      box-shadow: 0px 1px 3px 1px rgba(0, 0, 0, 0.15);\n",
              "      filter: drop-shadow(0px 1px 2px rgba(0, 0, 0, 0.3));\n",
              "      fill: #FFFFFF;\n",
              "    }\n",
              "  </style>\n",
              "\n",
              "      <script>\n",
              "        const buttonEl =\n",
              "          document.querySelector('#df-331a203d-6c74-4616-bc4e-24b009859c02 button.colab-df-convert');\n",
              "        buttonEl.style.display =\n",
              "          google.colab.kernel.accessAllowed ? 'block' : 'none';\n",
              "\n",
              "        async function convertToInteractive(key) {\n",
              "          const element = document.querySelector('#df-331a203d-6c74-4616-bc4e-24b009859c02');\n",
              "          const dataTable =\n",
              "            await google.colab.kernel.invokeFunction('convertToInteractive',\n",
              "                                                     [key], {});\n",
              "          if (!dataTable) return;\n",
              "\n",
              "          const docLinkHtml = 'Like what you see? Visit the ' +\n",
              "            '<a target=\"_blank\" href=https://colab.research.google.com/notebooks/data_table.ipynb>data table notebook</a>'\n",
              "            + ' to learn more about interactive tables.';\n",
              "          element.innerHTML = '';\n",
              "          dataTable['output_type'] = 'display_data';\n",
              "          await google.colab.output.renderOutput(dataTable, element);\n",
              "          const docLink = document.createElement('div');\n",
              "          docLink.innerHTML = docLinkHtml;\n",
              "          element.appendChild(docLink);\n",
              "        }\n",
              "      </script>\n",
              "    </div>\n",
              "  </div>\n",
              "  "
            ]
          },
          "metadata": {},
          "execution_count": 179
        }
      ],
      "source": [
        "# apply preprocessing on info column\n",
        "cnbc_reuters_2['info']=cnbc_reuters_2['info'].apply(preprocessing)\n",
        "cnbc_reuters_2.head()"
      ]
    },
    {
      "cell_type": "code",
      "execution_count": 180,
      "metadata": {
        "colab": {
          "base_uri": "https://localhost:8080/",
          "height": 206
        },
        "id": "Bww_M5RQzTXm",
        "outputId": "fef15f1d-0a49-406f-9589-2ed07eb7e1b8"
      },
      "outputs": [
        {
          "output_type": "execute_result",
          "data": {
            "text/plain": [
              "                             Time  \\\n",
              "0   7:51  PM ET Fri, 17 July 2020   \n",
              "1   7:33  PM ET Fri, 17 July 2020   \n",
              "3   7:25  PM ET Fri, 17 July 2020   \n",
              "4   4:24  PM ET Fri, 17 July 2020   \n",
              "5   7:36  PM ET Thu, 16 July 2020   \n",
              "\n",
              "                                                info  ds_score  \n",
              "0  jim cramer better way invest covid19 vaccin go...  Positive  \n",
              "1  cramer lightn round would teradyn mad money ho...  Negative  \n",
              "3  cramer week ahead big week earn even bigger we...  Positive  \n",
              "4  iq capit ceo keith bliss say tech healthcar ra...  Positive  \n",
              "5  wall street deliv kind pullback ive wait jim c...  Negative  "
            ],
            "text/html": [
              "\n",
              "  <div id=\"df-4b5cdc69-1be9-465d-88a5-3d787d73ed87\">\n",
              "    <div class=\"colab-df-container\">\n",
              "      <div>\n",
              "<style scoped>\n",
              "    .dataframe tbody tr th:only-of-type {\n",
              "        vertical-align: middle;\n",
              "    }\n",
              "\n",
              "    .dataframe tbody tr th {\n",
              "        vertical-align: top;\n",
              "    }\n",
              "\n",
              "    .dataframe thead th {\n",
              "        text-align: right;\n",
              "    }\n",
              "</style>\n",
              "<table border=\"1\" class=\"dataframe\">\n",
              "  <thead>\n",
              "    <tr style=\"text-align: right;\">\n",
              "      <th></th>\n",
              "      <th>Time</th>\n",
              "      <th>info</th>\n",
              "      <th>ds_score</th>\n",
              "    </tr>\n",
              "  </thead>\n",
              "  <tbody>\n",
              "    <tr>\n",
              "      <th>0</th>\n",
              "      <td>7:51  PM ET Fri, 17 July 2020</td>\n",
              "      <td>jim cramer better way invest covid19 vaccin go...</td>\n",
              "      <td>Positive</td>\n",
              "    </tr>\n",
              "    <tr>\n",
              "      <th>1</th>\n",
              "      <td>7:33  PM ET Fri, 17 July 2020</td>\n",
              "      <td>cramer lightn round would teradyn mad money ho...</td>\n",
              "      <td>Negative</td>\n",
              "    </tr>\n",
              "    <tr>\n",
              "      <th>3</th>\n",
              "      <td>7:25  PM ET Fri, 17 July 2020</td>\n",
              "      <td>cramer week ahead big week earn even bigger we...</td>\n",
              "      <td>Positive</td>\n",
              "    </tr>\n",
              "    <tr>\n",
              "      <th>4</th>\n",
              "      <td>4:24  PM ET Fri, 17 July 2020</td>\n",
              "      <td>iq capit ceo keith bliss say tech healthcar ra...</td>\n",
              "      <td>Positive</td>\n",
              "    </tr>\n",
              "    <tr>\n",
              "      <th>5</th>\n",
              "      <td>7:36  PM ET Thu, 16 July 2020</td>\n",
              "      <td>wall street deliv kind pullback ive wait jim c...</td>\n",
              "      <td>Negative</td>\n",
              "    </tr>\n",
              "  </tbody>\n",
              "</table>\n",
              "</div>\n",
              "      <button class=\"colab-df-convert\" onclick=\"convertToInteractive('df-4b5cdc69-1be9-465d-88a5-3d787d73ed87')\"\n",
              "              title=\"Convert this dataframe to an interactive table.\"\n",
              "              style=\"display:none;\">\n",
              "        \n",
              "  <svg xmlns=\"http://www.w3.org/2000/svg\" height=\"24px\"viewBox=\"0 0 24 24\"\n",
              "       width=\"24px\">\n",
              "    <path d=\"M0 0h24v24H0V0z\" fill=\"none\"/>\n",
              "    <path d=\"M18.56 5.44l.94 2.06.94-2.06 2.06-.94-2.06-.94-.94-2.06-.94 2.06-2.06.94zm-11 1L8.5 8.5l.94-2.06 2.06-.94-2.06-.94L8.5 2.5l-.94 2.06-2.06.94zm10 10l.94 2.06.94-2.06 2.06-.94-2.06-.94-.94-2.06-.94 2.06-2.06.94z\"/><path d=\"M17.41 7.96l-1.37-1.37c-.4-.4-.92-.59-1.43-.59-.52 0-1.04.2-1.43.59L10.3 9.45l-7.72 7.72c-.78.78-.78 2.05 0 2.83L4 21.41c.39.39.9.59 1.41.59.51 0 1.02-.2 1.41-.59l7.78-7.78 2.81-2.81c.8-.78.8-2.07 0-2.86zM5.41 20L4 18.59l7.72-7.72 1.47 1.35L5.41 20z\"/>\n",
              "  </svg>\n",
              "      </button>\n",
              "      \n",
              "  <style>\n",
              "    .colab-df-container {\n",
              "      display:flex;\n",
              "      flex-wrap:wrap;\n",
              "      gap: 12px;\n",
              "    }\n",
              "\n",
              "    .colab-df-convert {\n",
              "      background-color: #E8F0FE;\n",
              "      border: none;\n",
              "      border-radius: 50%;\n",
              "      cursor: pointer;\n",
              "      display: none;\n",
              "      fill: #1967D2;\n",
              "      height: 32px;\n",
              "      padding: 0 0 0 0;\n",
              "      width: 32px;\n",
              "    }\n",
              "\n",
              "    .colab-df-convert:hover {\n",
              "      background-color: #E2EBFA;\n",
              "      box-shadow: 0px 1px 2px rgba(60, 64, 67, 0.3), 0px 1px 3px 1px rgba(60, 64, 67, 0.15);\n",
              "      fill: #174EA6;\n",
              "    }\n",
              "\n",
              "    [theme=dark] .colab-df-convert {\n",
              "      background-color: #3B4455;\n",
              "      fill: #D2E3FC;\n",
              "    }\n",
              "\n",
              "    [theme=dark] .colab-df-convert:hover {\n",
              "      background-color: #434B5C;\n",
              "      box-shadow: 0px 1px 3px 1px rgba(0, 0, 0, 0.15);\n",
              "      filter: drop-shadow(0px 1px 2px rgba(0, 0, 0, 0.3));\n",
              "      fill: #FFFFFF;\n",
              "    }\n",
              "  </style>\n",
              "\n",
              "      <script>\n",
              "        const buttonEl =\n",
              "          document.querySelector('#df-4b5cdc69-1be9-465d-88a5-3d787d73ed87 button.colab-df-convert');\n",
              "        buttonEl.style.display =\n",
              "          google.colab.kernel.accessAllowed ? 'block' : 'none';\n",
              "\n",
              "        async function convertToInteractive(key) {\n",
              "          const element = document.querySelector('#df-4b5cdc69-1be9-465d-88a5-3d787d73ed87');\n",
              "          const dataTable =\n",
              "            await google.colab.kernel.invokeFunction('convertToInteractive',\n",
              "                                                     [key], {});\n",
              "          if (!dataTable) return;\n",
              "\n",
              "          const docLinkHtml = 'Like what you see? Visit the ' +\n",
              "            '<a target=\"_blank\" href=https://colab.research.google.com/notebooks/data_table.ipynb>data table notebook</a>'\n",
              "            + ' to learn more about interactive tables.';\n",
              "          element.innerHTML = '';\n",
              "          dataTable['output_type'] = 'display_data';\n",
              "          await google.colab.output.renderOutput(dataTable, element);\n",
              "          const docLink = document.createElement('div');\n",
              "          docLink.innerHTML = docLinkHtml;\n",
              "          element.appendChild(docLink);\n",
              "        }\n",
              "      </script>\n",
              "    </div>\n",
              "  </div>\n",
              "  "
            ]
          },
          "metadata": {},
          "execution_count": 180
        }
      ],
      "source": [
        "# analyze polarity score of values in info and  add new column of it in dataset\n",
        "cnbc_reuters_2=sentiment_analysis(cnbc_reuters_2,'info')\n",
        "cnbc_reuters_2.head()"
      ]
    },
    {
      "cell_type": "code",
      "execution_count": 181,
      "metadata": {
        "colab": {
          "base_uri": "https://localhost:8080/",
          "height": 280
        },
        "id": "ohPDx_0glaeM",
        "outputId": "fd941e9d-70c4-46b1-a532-13c9afdca934"
      },
      "outputs": [
        {
          "output_type": "display_data",
          "data": {
            "text/plain": [
              "<Figure size 432x288 with 1 Axes>"
            ],
            "image/png": "[encoded data removed]"
          },
          "metadata": {
            "needs_background": "light"
          }
        }
      ],
      "source": [
        "# perform count plot on ds_score column\n",
        "sns.countplot(x='ds_score',data=cnbc_reuters_2);"
      ]
    },
    {
      "cell_type": "markdown",
      "metadata": {
        "id": "svGQaSfhl6_5"
      },
      "source": [
        "In the info\n",
        "\n",
        "there are approx\n",
        "\n",
        "15900 positive statment\n",
        "\n",
        "13500 negative statment\n",
        "\n",
        "6000 neutral statment"
      ]
    },
    {
      "cell_type": "code",
      "execution_count": 182,
      "metadata": {
        "colab": {
          "base_uri": "https://localhost:8080/",
          "height": 248
        },
        "id": "BNaH0yfFll7Z",
        "outputId": "cc4c7660-edd3-4b33-bd96-9826b1a12236"
      },
      "outputs": [
        {
          "output_type": "display_data",
          "data": {
            "text/plain": [
              "<Figure size 432x288 with 1 Axes>"
            ],
            "image/png": "[encoded data removed]"
          },
          "metadata": {}
        }
      ],
      "source": [
        "# perform pie chart on info_score column\n",
        "plt.pie([15900, 13500, 6000],labels=['Positive','Negative','Neutral'], autopct='%.1f', startangle=90)\n",
        "plt.show()"
      ]
    },
    {
      "cell_type": "markdown",
      "metadata": {
        "id": "e0JsgArfmgi-"
      },
      "source": [
        "In the dataset\n",
        "\n",
        "info contains\n",
        "\n",
        "44.9% positive statments\n",
        "\n",
        "38.1% negtive statements\n",
        "\n",
        "16.9% neutral statments"
      ]
    },
    {
      "cell_type": "markdown",
      "metadata": {
        "id": "FDaguQJMfrML"
      },
      "source": [
        "# modeling on headlines + description"
      ]
    },
    {
      "cell_type": "code",
      "execution_count": 183,
      "metadata": {
        "id": "U-sjg3NEzTRd",
        "colab": {
          "base_uri": "https://localhost:8080/"
        },
        "outputId": "55ab83c8-279b-41e1-c56b-de0e293a1792"
      },
      "outputs": [
        {
          "output_type": "stream",
          "name": "stdout",
          "text": [
            "(31963,) (3552,) (31963,) (3552,)\n"
          ]
        }
      ],
      "source": [
        "# split the dataset  into test and train \n",
        "# 90% train , 10% test and random state 212\n",
        "x=cnbc_reuters_2['info']\n",
        "y=cnbc_reuters_2.ds_score\n",
        "\n",
        "x_train,x_test,y_train,y_test=train_test_split(x,y,test_size=0.1,random_state=212)\n",
        "print(x_train.shape,x_test.shape,y_train.shape,y_test.shape)"
      ]
    },
    {
      "cell_type": "markdown",
      "metadata": {
        "id": "h469Z39Zjjvn"
      },
      "source": [
        "LINEAR SUPPORT VECTOR MACHINE\n"
      ]
    },
    {
      "cell_type": "code",
      "execution_count": 184,
      "metadata": {
        "colab": {
          "base_uri": "https://localhost:8080/"
        },
        "id": "atnWirUQzTQI",
        "outputId": "4ca2d512-bd11-42fe-bab8-6e1d5a5dd6b1"
      },
      "outputs": [
        {
          "output_type": "stream",
          "name": "stdout",
          "text": [
            "MODEL: LINEAR SVM\n",
            "accuracy:  90.1463963963964 %\n",
            "confusion matrix:  [[1212   45   91]\n",
            " [  40  502   52]\n",
            " [  73   49 1488]]\n",
            "              precision    recall  f1-score   support\n",
            "\n",
            "    Negative       0.91      0.90      0.91      1348\n",
            "     Neutral       0.84      0.85      0.84       594\n",
            "    Positive       0.91      0.92      0.92      1610\n",
            "\n",
            "    accuracy                           0.90      3552\n",
            "   macro avg       0.89      0.89      0.89      3552\n",
            "weighted avg       0.90      0.90      0.90      3552\n",
            "\n",
            "CPU times: user 1.69 s, sys: 28.5 ms, total: 1.72 s\n",
            "Wall time: 1.72 s\n"
          ]
        }
      ],
      "source": [
        "\n",
        "%%time\n",
        "# pipeline creation\n",
        "# 1. tfidVectorization\n",
        "# 2. linearSVC model\n",
        "\n",
        "\n",
        "# Fit the pipline to the data\n",
        "lin_svm_info=Pipeline([('tfid',TfidfVectorizer()),\n",
        "                       ('lin_svm',LinearSVC())])\n",
        "\n",
        "lin_svm_info.fit(x_train,y_train)\n",
        "\n",
        "#predict on test dataset\n",
        "pred=lin_svm_info.predict(x_test)\n",
        "\n",
        "print(\"MODEL: LINEAR SVM\")\n",
        "\n",
        "#print accuracy\n",
        "print(\"accuracy: \",accuracy_score(y_test,pred)*100,\"%\")\n",
        "#print confusion matrix\n",
        "print(\"confusion matrix: \",confusion_matrix(y_test,pred))\n",
        "# print classification report\n",
        "print(classification_report(y_test,pred))"
      ]
    },
    {
      "cell_type": "markdown",
      "metadata": {
        "id": "ucmhtCoTjf7H"
      },
      "source": [
        "LOGISTIC REGRESSION\n"
      ]
    },
    {
      "cell_type": "code",
      "execution_count": 185,
      "metadata": {
        "colab": {
          "base_uri": "https://localhost:8080/"
        },
        "id": "UXsbyfc22sXR",
        "outputId": "1a79c405-7d0f-4946-b613-3a85f33ea300"
      },
      "outputs": [
        {
          "output_type": "stream",
          "name": "stderr",
          "text": [
            "/usr/local/lib/python3.7/dist-packages/sklearn/linear_model/_logistic.py:818: ConvergenceWarning: lbfgs failed to converge (status=1):\n",
            "STOP: TOTAL NO. of ITERATIONS REACHED LIMIT.\n",
            "\n",
            "Increase the number of iterations (max_iter) or scale the data as shown in:\n",
            "    https://scikit-learn.org/stable/modules/preprocessing.html\n",
            "Please also refer to the documentation for alternative solver options:\n",
            "    https://scikit-learn.org/stable/modules/linear_model.html#logistic-regression\n",
            "  extra_warning_msg=_LOGISTIC_SOLVER_CONVERGENCE_MSG,\n"
          ]
        },
        {
          "output_type": "stream",
          "name": "stdout",
          "text": [
            "MODEL: LOGISTIC REGRESSION\n",
            "accuracy:  86.93693693693693 %\n",
            "confusion matrix:  [[1187   48  113]\n",
            " [  78  432   84]\n",
            " [  92   49 1469]]\n",
            "              precision    recall  f1-score   support\n",
            "\n",
            "    Negative       0.87      0.88      0.88      1348\n",
            "     Neutral       0.82      0.73      0.77       594\n",
            "    Positive       0.88      0.91      0.90      1610\n",
            "\n",
            "    accuracy                           0.87      3552\n",
            "   macro avg       0.86      0.84      0.85      3552\n",
            "weighted avg       0.87      0.87      0.87      3552\n",
            "\n",
            "CPU times: user 7.49 s, sys: 7.5 s, total: 15 s\n",
            "Wall time: 8.34 s\n"
          ]
        }
      ],
      "source": [
        "%%time\n",
        "# pipeline creation \n",
        "# 1. CountVectorization\n",
        "# 2. TfidTransformer\n",
        "# 3. Logistic Regression\n",
        "\n",
        "# Fit the pipeline to the data\n",
        "log_reg_info=Pipeline([('count_vec',CountVectorizer()),\n",
        "                       ('tfid',TfidfTransformer()),\n",
        "                       ('log_reg',LogisticRegression())])\n",
        "\n",
        "log_reg_info.fit(x_train,y_train)\n",
        "#predict on test data\n",
        "pred=log_reg_info.predict(x_test)\n",
        "print(\"MODEL: LOGISTIC REGRESSION\")\n",
        "#print accuracy\n",
        "print(\"accuracy: \",accuracy_score(y_test,pred)*100,\"%\")\n",
        "#print confusion matrix\n",
        "print(\"confusion matrix: \",confusion_matrix(y_test,pred))\n",
        "# print classification report\n",
        "print(classification_report(y_test,pred))"
      ]
    },
    {
      "cell_type": "markdown",
      "metadata": {
        "id": "ozLeBo9qjdNR"
      },
      "source": [
        "MULTINOMIAL NAIVE BAYES\n"
      ]
    },
    {
      "cell_type": "code",
      "execution_count": 186,
      "metadata": {
        "colab": {
          "base_uri": "https://localhost:8080/"
        },
        "id": "kxTsmokz2sVw",
        "outputId": "0deda00c-e79d-4a6d-95fd-5f8e32b02468"
      },
      "outputs": [
        {
          "output_type": "stream",
          "name": "stdout",
          "text": [
            "MODEL :MULTINOMIAL NAIVE BAYES\n",
            "accuracy:  66.97635135135135 %\n",
            "confusion matrix:  [[ 958    0  390]\n",
            " [ 160   13  421]\n",
            " [ 202    0 1408]]\n",
            "              precision    recall  f1-score   support\n",
            "\n",
            "    Negative       0.73      0.71      0.72      1348\n",
            "     Neutral       1.00      0.02      0.04       594\n",
            "    Positive       0.63      0.87      0.74      1610\n",
            "\n",
            "    accuracy                           0.67      3552\n",
            "   macro avg       0.79      0.54      0.50      3552\n",
            "weighted avg       0.73      0.67      0.61      3552\n",
            "\n",
            "CPU times: user 1.17 s, sys: 26.9 ms, total: 1.2 s\n",
            "Wall time: 1.19 s\n"
          ]
        }
      ],
      "source": [
        "%%time\n",
        "# pipeline creation \n",
        "# 1. CountVectorizer\n",
        "# 2. TfidTransformer\n",
        "# 3. MultinomialNB\n",
        "\n",
        "\n",
        "# Fit the pipeline to the data\n",
        "multi_nb_info=Pipeline([('count_vec',CountVectorizer()),\n",
        "                         ('tfid',TfidfTransformer()),\n",
        "                         ('multi_nb',MultinomialNB())])\n",
        "multi_nb_info.fit(x_train,y_train)\n",
        "#predict on test data\n",
        "pred=multi_nb_info.predict(x_test)\n",
        "print(\"MODEL :MULTINOMIAL NAIVE BAYES\")\n",
        "#print accuracy\n",
        "print(\"accuracy: \",accuracy_score(y_test,pred)*100,\"%\")\n",
        "#print confusion matrix\n",
        "print(\"confusion matrix: \",confusion_matrix(y_test,pred))\n",
        "# print classification report\n",
        "print(classification_report(y_test,pred))"
      ]
    },
    {
      "cell_type": "markdown",
      "metadata": {
        "id": "91Ms-94_jaKm"
      },
      "source": [
        "BERNOULLI NAIVE BAYES\n"
      ]
    },
    {
      "cell_type": "code",
      "execution_count": 187,
      "metadata": {
        "colab": {
          "base_uri": "https://localhost:8080/"
        },
        "id": "Tx_-8y_x2sSO",
        "outputId": "6213ad9e-4cc8-4c35-f570-521d9d261320"
      },
      "outputs": [
        {
          "output_type": "stream",
          "name": "stdout",
          "text": [
            "MODEL :BERNOULLIS NAIVE BAYES\n",
            "accuracy:  72.12837837837837 %\n",
            "confusion matrix:  [[1007   47  294]\n",
            " [ 137  285  172]\n",
            " [ 269   71 1270]]\n",
            "              precision    recall  f1-score   support\n",
            "\n",
            "    Negative       0.71      0.75      0.73      1348\n",
            "     Neutral       0.71      0.48      0.57       594\n",
            "    Positive       0.73      0.79      0.76      1610\n",
            "\n",
            "    accuracy                           0.72      3552\n",
            "   macro avg       0.72      0.67      0.69      3552\n",
            "weighted avg       0.72      0.72      0.72      3552\n",
            "\n",
            "CPU times: user 1.21 s, sys: 26.9 ms, total: 1.23 s\n",
            "Wall time: 1.23 s\n"
          ]
        }
      ],
      "source": [
        "%%time\n",
        "# pipeline creation \n",
        "# 1. CountVectorizer\n",
        "# 2. TfidTransformer\n",
        "# 3. BernoulliNB\n",
        "\n",
        "# Fit the pipeline to the data\n",
        " \n",
        "bern_nb_info=Pipeline([('count_vec',CountVectorizer()),\n",
        "                         ('tfid',TfidfTransformer()),\n",
        "                         ('bern_nb',BernoulliNB())])\n",
        "bern_nb_info.fit(x_train,y_train)\n",
        "#predict on test data\n",
        "pred=bern_nb_info.predict(x_test)\n",
        "print(\"MODEL :BERNOULLIS NAIVE BAYES\")\n",
        "#print accuracy\n",
        "print(\"accuracy: \",accuracy_score(y_test,pred)*100,\"%\")\n",
        "#print confusion matrix\n",
        "print(\"confusion matrix: \",confusion_matrix(y_test,pred))\n",
        "# print classification report\n",
        "print(classification_report(y_test,pred))\n",
        " "
      ]
    },
    {
      "cell_type": "markdown",
      "metadata": {
        "id": "N1OOQeVmjWjx"
      },
      "source": [
        "GRADIENT BOOSTING CLASSIFICATION MODEL\n"
      ]
    },
    {
      "cell_type": "code",
      "execution_count": 188,
      "metadata": {
        "colab": {
          "base_uri": "https://localhost:8080/"
        },
        "id": "K_5dgcgS2sQj",
        "outputId": "7e18c81c-eda6-4da9-9c37-3caf97930c52"
      },
      "outputs": [
        {
          "output_type": "stream",
          "name": "stdout",
          "text": [
            "MODEL :GRADIENT BOOST\n",
            "accuracy:  71.81869369369369 %\n",
            "confusion matrix:  [[ 982   25  341]\n",
            " [   4   96  494]\n",
            " [ 117   20 1473]]\n",
            "              precision    recall  f1-score   support\n",
            "\n",
            "    Negative       0.89      0.73      0.80      1348\n",
            "     Neutral       0.68      0.16      0.26       594\n",
            "    Positive       0.64      0.91      0.75      1610\n",
            "\n",
            "    accuracy                           0.72      3552\n",
            "   macro avg       0.74      0.60      0.60      3552\n",
            "weighted avg       0.74      0.72      0.69      3552\n",
            "\n",
            "CPU times: user 1min 32s, sys: 3.82 s, total: 1min 36s\n",
            "Wall time: 1min 36s\n"
          ]
        }
      ],
      "source": [
        "%%time\n",
        "# pipeline creation \n",
        "# 1. CountVectorizer\n",
        "# 2. TfidTransformer\n",
        "# 3. GradientBoostingClassifier\n",
        "\n",
        "# Fit the pipeline to the data\n",
        "gbc_info=Pipeline([('count_vec',CountVectorizer()),\n",
        "                         ('tfid',TfidfTransformer()),\n",
        "                         ('gbc',GradientBoostingClassifier())])\n",
        "gbc_info.fit(x_train,y_train)\n",
        "#predict on test data\n",
        "pred=gbc_info.predict(x_test)\n",
        "print(\"MODEL :GRADIENT BOOST\")\n",
        "#print accuracy\n",
        "print(\"accuracy: \",accuracy_score(y_test,pred)*100,\"%\")\n",
        "#print confusion matrix\n",
        "print(\"confusion matrix: \",confusion_matrix(y_test,pred))\n",
        "# print classification report\n",
        "print(classification_report(y_test,pred))\n",
        "\n",
        " "
      ]
    },
    {
      "cell_type": "markdown",
      "metadata": {
        "id": "z7l-VmXKjTJP"
      },
      "source": [
        "XGBOOST CLASSIFICATION MODEL\n"
      ]
    },
    {
      "cell_type": "code",
      "execution_count": 189,
      "metadata": {
        "colab": {
          "base_uri": "https://localhost:8080/"
        },
        "id": "6koZzsSv2sM7",
        "outputId": "91ccfe6d-ff1f-4fb5-8037-bd539e388ac5"
      },
      "outputs": [
        {
          "output_type": "stream",
          "name": "stdout",
          "text": [
            "MODEL: XG Boost\n",
            "accuarcy score:  68.58108108108108 %\n",
            "Confusion matrix:  [[ 935    0  413]\n",
            " [   4    4  586]\n",
            " [ 113    0 1497]]\n",
            "              precision    recall  f1-score   support\n",
            "\n",
            "           0       0.89      0.69      0.78      1348\n",
            "           1       1.00      0.01      0.01       594\n",
            "           2       0.60      0.93      0.73      1610\n",
            "\n",
            "    accuracy                           0.69      3552\n",
            "   macro avg       0.83      0.54      0.51      3552\n",
            "weighted avg       0.78      0.69      0.63      3552\n",
            "\n",
            "CPU times: user 37.7 s, sys: 46.8 ms, total: 37.8 s\n",
            "Wall time: 37.6 s\n"
          ]
        }
      ],
      "source": [
        "%%time\n",
        "# pipeline creation \n",
        "# 1. CountVectorizer\n",
        "# 2. TfidTransformer\n",
        "# 3. XGBClassifier\n",
        "\n",
        "# Fit the pipeline to the data\n",
        "xgb_info = Pipeline([('count_vec', CountVectorizer()),\n",
        "                      ('tfidf', TfidfTransformer()),\n",
        "                      ('xgb', XGBClassifier())])\n",
        "\n",
        "encoder = LabelEncoder()\n",
        "enc_train = encoder.fit_transform(y_train)\n",
        "enc_test = encoder.fit_transform(y_test)\n",
        "\n",
        "xgb_info.fit(x_train, enc_train)\n",
        "\n",
        "# predict on test dataset\n",
        "pred = xgb_info.predict(x_test)\n",
        "\n",
        "print(\"MODEL: XG Boost\")\n",
        "\n",
        "# print accuracy score\n",
        "print(\"accuarcy score: \", accuracy_score(enc_test, pred)*100,\"%\")\n",
        "\n",
        "#print confusion matrix\n",
        "print(\"Confusion matrix: \", confusion_matrix(enc_test, pred))\n",
        "\n",
        "#print classification report\n",
        "print(classification_report(enc_test, pred))\n"
      ]
    },
    {
      "cell_type": "markdown",
      "metadata": {
        "id": "2SBHJMuyjPmm"
      },
      "source": [
        "DECISION TREE CLASSIFICATION MODEL\n"
      ]
    },
    {
      "cell_type": "code",
      "execution_count": 190,
      "metadata": {
        "colab": {
          "base_uri": "https://localhost:8080/"
        },
        "id": "EwiF9Pwj2sLZ",
        "outputId": "90170ac1-3053-4db1-bc23-e5a010ede6e8"
      },
      "outputs": [
        {
          "output_type": "stream",
          "name": "stdout",
          "text": [
            "MODEL: DECISION TREE\n",
            "accuracy:  83.13626126126125 %\n",
            "confusion matrix:  [[1053   34  261]\n",
            " [  18  566   10]\n",
            " [ 256   20 1334]]\n",
            "              precision    recall  f1-score   support\n",
            "\n",
            "    Negative       0.79      0.78      0.79      1348\n",
            "     Neutral       0.91      0.95      0.93       594\n",
            "    Positive       0.83      0.83      0.83      1610\n",
            "\n",
            "    accuracy                           0.83      3552\n",
            "   macro avg       0.85      0.85      0.85      3552\n",
            "weighted avg       0.83      0.83      0.83      3552\n",
            "\n",
            "CPU times: user 20.6 s, sys: 17 ms, total: 20.6 s\n",
            "Wall time: 20.5 s\n"
          ]
        }
      ],
      "source": [
        "%%time\n",
        "# pipeline creation \n",
        "# 1. CountVectorizer\n",
        "# 2. TfidTransformer\n",
        "# 3. Decision tree classifier\n",
        "\n",
        "# Fit the pipeline to the data\n",
        "\n",
        "dec_tree_class_info=Pipeline([('count_vec',CountVectorizer()),\n",
        "                         ('tfid',TfidfTransformer()),\n",
        "                         ('dec_tree_class',DecisionTreeClassifier())])\n",
        "\n",
        "\n",
        "# Fit the pipeline to the data\n",
        "dec_tree_class_info.fit(x_train,y_train)\n",
        "\n",
        "# predict on test data\n",
        "pred=dec_tree_class_info.predict(x_test)\n",
        "\n",
        "print(\"MODEL: DECISION TREE\")\n",
        "\n",
        "#print accuracy\n",
        "print(\"accuracy: \",accuracy_score(y_test,pred)*100,\"%\")\n",
        "\n",
        "#print confusion matrix\n",
        "print(\"confusion matrix: \",confusion_matrix(y_test,pred))\n",
        "\n",
        "# print classification report\n",
        "print(classification_report(y_test,pred))"
      ]
    },
    {
      "cell_type": "markdown",
      "metadata": {
        "id": "IPUcodK0jLVr"
      },
      "source": [
        "K- NEAREST NEIGHBOUR CLASSIFIER MODEL\n"
      ]
    },
    {
      "cell_type": "code",
      "execution_count": 191,
      "metadata": {
        "colab": {
          "base_uri": "https://localhost:8080/"
        },
        "id": "_8XjVbty2sIL",
        "outputId": "d2d168e9-4ab5-451a-ae79-0bbbcacf6c85"
      },
      "outputs": [
        {
          "output_type": "stream",
          "name": "stdout",
          "text": [
            "MODEL: K NEAREST NEIGHBOR\n",
            "accuracy:  61.458333333333336 %\n",
            "confusion matrix:  [[ 861    7  480]\n",
            " [ 155   17  422]\n",
            " [ 297    8 1305]]\n",
            "              precision    recall  f1-score   support\n",
            "\n",
            "    Negative       0.66      0.64      0.65      1348\n",
            "     Neutral       0.53      0.03      0.05       594\n",
            "    Positive       0.59      0.81      0.68      1610\n",
            "\n",
            "    accuracy                           0.61      3552\n",
            "   macro avg       0.59      0.49      0.46      3552\n",
            "weighted avg       0.61      0.61      0.56      3552\n",
            "\n",
            "CPU times: user 5.45 s, sys: 28.8 ms, total: 5.48 s\n",
            "Wall time: 5.44 s\n"
          ]
        }
      ],
      "source": [
        "%%time\n",
        "# pipeline creation \n",
        "# 1. CountVectorizer\n",
        "# 2. TfidTransformer\n",
        "# 3. KNN classifier\n",
        "\n",
        "\n",
        "# Fit the pipeline to the data\n",
        "\n",
        "knn_info=Pipeline([('count_vec',CountVectorizer()),\n",
        "                         ('tfid',TfidfTransformer()),\n",
        "                         ('knn',KNeighborsClassifier(n_neighbors=100))])\n",
        "\n",
        "\n",
        "# Fit the pipeline to the data\n",
        "knn_info.fit(x_train,y_train)\n",
        "\n",
        "# predict on test data\n",
        "pred=knn_info.predict(x_test)\n",
        "\n",
        "print(\"MODEL: K NEAREST NEIGHBOR\")\n",
        "\n",
        "#print accuracy\n",
        "print(\"accuracy: \",accuracy_score(y_test,pred)*100,\"%\")\n",
        "\n",
        "#print confusion matrix\n",
        "print(\"confusion matrix: \",confusion_matrix(y_test,pred))\n",
        "\n",
        "# print classification report\n",
        "print(classification_report(y_test,pred))"
      ]
    },
    {
      "cell_type": "code",
      "execution_count": 192,
      "metadata": {
        "id": "yCooDdQ7yFdC"
      },
      "outputs": [],
      "source": [
        "# helper function for comparing models matric\n",
        "def help(model_objects, model_names, x_test, y_test, enc_test):\n",
        "    \n",
        "    # create a dataframe with column matric and metric name as value\n",
        "    metrics_df = pd.DataFrame(columns=['model_names','accuracy','precision','recall','f1_score'])\n",
        "    metrics_df['model_names'] = model_names\n",
        "   \n",
        "    # then predict on the test set\n",
        "    metrics_df['accuracy'] = [accuracy_score(y_test, model.predict(x_test)) if model != xgb_info else accuracy_score(enc_test, model.predict(x_test)) for model in model_objects]\n",
        "    metrics_df['precision'] = [precision_score(y_test, model.predict(x_test),average='weighted') if model != xgb_info else precision_score(enc_test, model.predict(x_test), average='weighted') for model in model_objects]\n",
        "    metrics_df['recall'] = [recall_score(y_test, model.predict(x_test),average='weighted') if model != xgb_info else recall_score(enc_test, model.predict(x_test),average='weighted') for model in model_objects]\n",
        "    metrics_df['f1_score'] = [f1_score(y_test, model.predict(x_test),average='weighted') if model != xgb_info else f1_score(enc_test, model.predict(x_test), average='weighted') for model in model_objects]\n",
        "    \n",
        "    return metrics_df\n",
        "    "
      ]
    },
    {
      "cell_type": "code",
      "execution_count": 193,
      "metadata": {
        "colab": {
          "base_uri": "https://localhost:8080/",
          "height": 300
        },
        "id": "CQyOqutpyFYS",
        "outputId": "2e0d4f36-0994-417f-af8d-52b82a437237"
      },
      "outputs": [
        {
          "output_type": "execute_result",
          "data": {
            "text/plain": [
              "     model_names  accuracy  precision    recall  f1_score\n",
              "0      LinearSVM  0.901464   0.901519  0.901464  0.901448\n",
              "1  LogRegression  0.869369   0.868196  0.869369  0.868227\n",
              "2  MultinomialNB  0.669764   0.730264  0.669764  0.613051\n",
              "3    BernoulliNB  0.721284   0.720319  0.721284  0.716517\n",
              "4  GradientBoost  0.718187   0.741012  0.718187  0.688601\n",
              "5        XGBoost  0.685811   0.776377  0.685811  0.628445\n",
              "6   Decisiontree  0.831363   0.830542  0.831363  0.830861\n",
              "7            KNN  0.614583   0.605717  0.614583  0.564605"
            ],
            "text/html": [
              "\n",
              "  <div id=\"df-e24f8753-6433-48f3-8c51-dd23ba064d14\">\n",
              "    <div class=\"colab-df-container\">\n",
              "      <div>\n",
              "<style scoped>\n",
              "    .dataframe tbody tr th:only-of-type {\n",
              "        vertical-align: middle;\n",
              "    }\n",
              "\n",
              "    .dataframe tbody tr th {\n",
              "        vertical-align: top;\n",
              "    }\n",
              "\n",
              "    .dataframe thead th {\n",
              "        text-align: right;\n",
              "    }\n",
              "</style>\n",
              "<table border=\"1\" class=\"dataframe\">\n",
              "  <thead>\n",
              "    <tr style=\"text-align: right;\">\n",
              "      <th></th>\n",
              "      <th>model_names</th>\n",
              "      <th>accuracy</th>\n",
              "      <th>precision</th>\n",
              "      <th>recall</th>\n",
              "      <th>f1_score</th>\n",
              "    </tr>\n",
              "  </thead>\n",
              "  <tbody>\n",
              "    <tr>\n",
              "      <th>0</th>\n",
              "      <td>LinearSVM</td>\n",
              "      <td>0.901464</td>\n",
              "      <td>0.901519</td>\n",
              "      <td>0.901464</td>\n",
              "      <td>0.901448</td>\n",
              "    </tr>\n",
              "    <tr>\n",
              "      <th>1</th>\n",
              "      <td>LogRegression</td>\n",
              "      <td>0.869369</td>\n",
              "      <td>0.868196</td>\n",
              "      <td>0.869369</td>\n",
              "      <td>0.868227</td>\n",
              "    </tr>\n",
              "    <tr>\n",
              "      <th>2</th>\n",
              "      <td>MultinomialNB</td>\n",
              "      <td>0.669764</td>\n",
              "      <td>0.730264</td>\n",
              "      <td>0.669764</td>\n",
              "      <td>0.613051</td>\n",
              "    </tr>\n",
              "    <tr>\n",
              "      <th>3</th>\n",
              "      <td>BernoulliNB</td>\n",
              "      <td>0.721284</td>\n",
              "      <td>0.720319</td>\n",
              "      <td>0.721284</td>\n",
              "      <td>0.716517</td>\n",
              "    </tr>\n",
              "    <tr>\n",
              "      <th>4</th>\n",
              "      <td>GradientBoost</td>\n",
              "      <td>0.718187</td>\n",
              "      <td>0.741012</td>\n",
              "      <td>0.718187</td>\n",
              "      <td>0.688601</td>\n",
              "    </tr>\n",
              "    <tr>\n",
              "      <th>5</th>\n",
              "      <td>XGBoost</td>\n",
              "      <td>0.685811</td>\n",
              "      <td>0.776377</td>\n",
              "      <td>0.685811</td>\n",
              "      <td>0.628445</td>\n",
              "    </tr>\n",
              "    <tr>\n",
              "      <th>6</th>\n",
              "      <td>Decisiontree</td>\n",
              "      <td>0.831363</td>\n",
              "      <td>0.830542</td>\n",
              "      <td>0.831363</td>\n",
              "      <td>0.830861</td>\n",
              "    </tr>\n",
              "    <tr>\n",
              "      <th>7</th>\n",
              "      <td>KNN</td>\n",
              "      <td>0.614583</td>\n",
              "      <td>0.605717</td>\n",
              "      <td>0.614583</td>\n",
              "      <td>0.564605</td>\n",
              "    </tr>\n",
              "  </tbody>\n",
              "</table>\n",
              "</div>\n",
              "      <button class=\"colab-df-convert\" onclick=\"convertToInteractive('df-e24f8753-6433-48f3-8c51-dd23ba064d14')\"\n",
              "              title=\"Convert this dataframe to an interactive table.\"\n",
              "              style=\"display:none;\">\n",
              "        \n",
              "  <svg xmlns=\"http://www.w3.org/2000/svg\" height=\"24px\"viewBox=\"0 0 24 24\"\n",
              "       width=\"24px\">\n",
              "    <path d=\"M0 0h24v24H0V0z\" fill=\"none\"/>\n",
              "    <path d=\"M18.56 5.44l.94 2.06.94-2.06 2.06-.94-2.06-.94-.94-2.06-.94 2.06-2.06.94zm-11 1L8.5 8.5l.94-2.06 2.06-.94-2.06-.94L8.5 2.5l-.94 2.06-2.06.94zm10 10l.94 2.06.94-2.06 2.06-.94-2.06-.94-.94-2.06-.94 2.06-2.06.94z\"/><path d=\"M17.41 7.96l-1.37-1.37c-.4-.4-.92-.59-1.43-.59-.52 0-1.04.2-1.43.59L10.3 9.45l-7.72 7.72c-.78.78-.78 2.05 0 2.83L4 21.41c.39.39.9.59 1.41.59.51 0 1.02-.2 1.41-.59l7.78-7.78 2.81-2.81c.8-.78.8-2.07 0-2.86zM5.41 20L4 18.59l7.72-7.72 1.47 1.35L5.41 20z\"/>\n",
              "  </svg>\n",
              "      </button>\n",
              "      \n",
              "  <style>\n",
              "    .colab-df-container {\n",
              "      display:flex;\n",
              "      flex-wrap:wrap;\n",
              "      gap: 12px;\n",
              "    }\n",
              "\n",
              "    .colab-df-convert {\n",
              "      background-color: #E8F0FE;\n",
              "      border: none;\n",
              "      border-radius: 50%;\n",
              "      cursor: pointer;\n",
              "      display: none;\n",
              "      fill: #1967D2;\n",
              "      height: 32px;\n",
              "      padding: 0 0 0 0;\n",
              "      width: 32px;\n",
              "    }\n",
              "\n",
              "    .colab-df-convert:hover {\n",
              "      background-color: #E2EBFA;\n",
              "      box-shadow: 0px 1px 2px rgba(60, 64, 67, 0.3), 0px 1px 3px 1px rgba(60, 64, 67, 0.15);\n",
              "      fill: #174EA6;\n",
              "    }\n",
              "\n",
              "    [theme=dark] .colab-df-convert {\n",
              "      background-color: #3B4455;\n",
              "      fill: #D2E3FC;\n",
              "    }\n",
              "\n",
              "    [theme=dark] .colab-df-convert:hover {\n",
              "      background-color: #434B5C;\n",
              "      box-shadow: 0px 1px 3px 1px rgba(0, 0, 0, 0.15);\n",
              "      filter: drop-shadow(0px 1px 2px rgba(0, 0, 0, 0.3));\n",
              "      fill: #FFFFFF;\n",
              "    }\n",
              "  </style>\n",
              "\n",
              "      <script>\n",
              "        const buttonEl =\n",
              "          document.querySelector('#df-e24f8753-6433-48f3-8c51-dd23ba064d14 button.colab-df-convert');\n",
              "        buttonEl.style.display =\n",
              "          google.colab.kernel.accessAllowed ? 'block' : 'none';\n",
              "\n",
              "        async function convertToInteractive(key) {\n",
              "          const element = document.querySelector('#df-e24f8753-6433-48f3-8c51-dd23ba064d14');\n",
              "          const dataTable =\n",
              "            await google.colab.kernel.invokeFunction('convertToInteractive',\n",
              "                                                     [key], {});\n",
              "          if (!dataTable) return;\n",
              "\n",
              "          const docLinkHtml = 'Like what you see? Visit the ' +\n",
              "            '<a target=\"_blank\" href=https://colab.research.google.com/notebooks/data_table.ipynb>data table notebook</a>'\n",
              "            + ' to learn more about interactive tables.';\n",
              "          element.innerHTML = '';\n",
              "          dataTable['output_type'] = 'display_data';\n",
              "          await google.colab.output.renderOutput(dataTable, element);\n",
              "          const docLink = document.createElement('div');\n",
              "          docLink.innerHTML = docLinkHtml;\n",
              "          element.appendChild(docLink);\n",
              "        }\n",
              "      </script>\n",
              "    </div>\n",
              "  </div>\n",
              "  "
            ]
          },
          "metadata": {},
          "execution_count": 193
        }
      ],
      "source": [
        "# list of model objects\n",
        "model_objects = [lin_svm_info, log_reg_info, multi_nb_info, bern_nb_info, gbc_info, xgb_info,dec_tree_class_info,knn_info]\n",
        "\n",
        "# list of model names\n",
        "model_names = ['LinearSVM', 'LogRegression','MultinomialNB','BernoulliNB','GradientBoost','XGBoost','Decisiontree','KNN']\n",
        "\n",
        "# print the comparison of models\n",
        "met_info_df = help(model_objects,model_names, x_test, y_test, enc_test)\n",
        "met_info_df\n"
      ]
    },
    {
      "cell_type": "markdown",
      "metadata": {
        "id": "urk4DVzslAXB"
      },
      "source": [
        "# working with test data"
      ]
    },
    {
      "cell_type": "code",
      "execution_count": 194,
      "metadata": {
        "colab": {
          "base_uri": "https://localhost:8080/"
        },
        "id": "T7HvvBOW2sGj",
        "outputId": "847ae251-7670-4280-bcab-703879d4ed73"
      },
      "outputs": [
        {
          "output_type": "execute_result",
          "data": {
            "text/plain": [
              "array(['Negative', 'Negative', 'Positive', ..., 'Neutral', 'Positive',\n",
              "       'Positive'], dtype=object)"
            ]
          },
          "metadata": {},
          "execution_count": 194
        }
      ],
      "source": [
        "# Perforn the prediction on the test dataset\n",
        "pred=lin_svm_info.predict(x_test)\n",
        "pred"
      ]
    },
    {
      "cell_type": "code",
      "execution_count": 195,
      "metadata": {
        "id": "pOKTBCnPlD5J"
      },
      "outputs": [],
      "source": [
        "# creating a dataframe of predicted results \n",
        "preds=pd.DataFrame(pred,columns=['prediction'])"
      ]
    },
    {
      "cell_type": "code",
      "execution_count": 196,
      "metadata": {
        "colab": {
          "base_uri": "https://localhost:8080/",
          "height": 423
        },
        "id": "XhfTaQoflEwZ",
        "outputId": "de46d184-0100-484e-c7fd-eb4bfec06781"
      },
      "outputs": [
        {
          "output_type": "execute_result",
          "data": {
            "text/plain": [
              "     prediction\n",
              "0      Negative\n",
              "1      Negative\n",
              "2      Positive\n",
              "3      Positive\n",
              "4      Negative\n",
              "...         ...\n",
              "3547   Negative\n",
              "3548   Positive\n",
              "3549    Neutral\n",
              "3550   Positive\n",
              "3551   Positive\n",
              "\n",
              "[3552 rows x 1 columns]"
            ],
            "text/html": [
              "\n",
              "  <div id=\"df-00143243-f7f4-40f2-898c-76776b120abe\">\n",
              "    <div class=\"colab-df-container\">\n",
              "      <div>\n",
              "<style scoped>\n",
              "    .dataframe tbody tr th:only-of-type {\n",
              "        vertical-align: middle;\n",
              "    }\n",
              "\n",
              "    .dataframe tbody tr th {\n",
              "        vertical-align: top;\n",
              "    }\n",
              "\n",
              "    .dataframe thead th {\n",
              "        text-align: right;\n",
              "    }\n",
              "</style>\n",
              "<table border=\"1\" class=\"dataframe\">\n",
              "  <thead>\n",
              "    <tr style=\"text-align: right;\">\n",
              "      <th></th>\n",
              "      <th>prediction</th>\n",
              "    </tr>\n",
              "  </thead>\n",
              "  <tbody>\n",
              "    <tr>\n",
              "      <th>0</th>\n",
              "      <td>Negative</td>\n",
              "    </tr>\n",
              "    <tr>\n",
              "      <th>1</th>\n",
              "      <td>Negative</td>\n",
              "    </tr>\n",
              "    <tr>\n",
              "      <th>2</th>\n",
              "      <td>Positive</td>\n",
              "    </tr>\n",
              "    <tr>\n",
              "      <th>3</th>\n",
              "      <td>Positive</td>\n",
              "    </tr>\n",
              "    <tr>\n",
              "      <th>4</th>\n",
              "      <td>Negative</td>\n",
              "    </tr>\n",
              "    <tr>\n",
              "      <th>...</th>\n",
              "      <td>...</td>\n",
              "    </tr>\n",
              "    <tr>\n",
              "      <th>3547</th>\n",
              "      <td>Negative</td>\n",
              "    </tr>\n",
              "    <tr>\n",
              "      <th>3548</th>\n",
              "      <td>Positive</td>\n",
              "    </tr>\n",
              "    <tr>\n",
              "      <th>3549</th>\n",
              "      <td>Neutral</td>\n",
              "    </tr>\n",
              "    <tr>\n",
              "      <th>3550</th>\n",
              "      <td>Positive</td>\n",
              "    </tr>\n",
              "    <tr>\n",
              "      <th>3551</th>\n",
              "      <td>Positive</td>\n",
              "    </tr>\n",
              "  </tbody>\n",
              "</table>\n",
              "<p>3552 rows × 1 columns</p>\n",
              "</div>\n",
              "      <button class=\"colab-df-convert\" onclick=\"convertToInteractive('df-00143243-f7f4-40f2-898c-76776b120abe')\"\n",
              "              title=\"Convert this dataframe to an interactive table.\"\n",
              "              style=\"display:none;\">\n",
              "        \n",
              "  <svg xmlns=\"http://www.w3.org/2000/svg\" height=\"24px\"viewBox=\"0 0 24 24\"\n",
              "       width=\"24px\">\n",
              "    <path d=\"M0 0h24v24H0V0z\" fill=\"none\"/>\n",
              "    <path d=\"M18.56 5.44l.94 2.06.94-2.06 2.06-.94-2.06-.94-.94-2.06-.94 2.06-2.06.94zm-11 1L8.5 8.5l.94-2.06 2.06-.94-2.06-.94L8.5 2.5l-.94 2.06-2.06.94zm10 10l.94 2.06.94-2.06 2.06-.94-2.06-.94-.94-2.06-.94 2.06-2.06.94z\"/><path d=\"M17.41 7.96l-1.37-1.37c-.4-.4-.92-.59-1.43-.59-.52 0-1.04.2-1.43.59L10.3 9.45l-7.72 7.72c-.78.78-.78 2.05 0 2.83L4 21.41c.39.39.9.59 1.41.59.51 0 1.02-.2 1.41-.59l7.78-7.78 2.81-2.81c.8-.78.8-2.07 0-2.86zM5.41 20L4 18.59l7.72-7.72 1.47 1.35L5.41 20z\"/>\n",
              "  </svg>\n",
              "      </button>\n",
              "      \n",
              "  <style>\n",
              "    .colab-df-container {\n",
              "      display:flex;\n",
              "      flex-wrap:wrap;\n",
              "      gap: 12px;\n",
              "    }\n",
              "\n",
              "    .colab-df-convert {\n",
              "      background-color: #E8F0FE;\n",
              "      border: none;\n",
              "      border-radius: 50%;\n",
              "      cursor: pointer;\n",
              "      display: none;\n",
              "      fill: #1967D2;\n",
              "      height: 32px;\n",
              "      padding: 0 0 0 0;\n",
              "      width: 32px;\n",
              "    }\n",
              "\n",
              "    .colab-df-convert:hover {\n",
              "      background-color: #E2EBFA;\n",
              "      box-shadow: 0px 1px 2px rgba(60, 64, 67, 0.3), 0px 1px 3px 1px rgba(60, 64, 67, 0.15);\n",
              "      fill: #174EA6;\n",
              "    }\n",
              "\n",
              "    [theme=dark] .colab-df-convert {\n",
              "      background-color: #3B4455;\n",
              "      fill: #D2E3FC;\n",
              "    }\n",
              "\n",
              "    [theme=dark] .colab-df-convert:hover {\n",
              "      background-color: #434B5C;\n",
              "      box-shadow: 0px 1px 3px 1px rgba(0, 0, 0, 0.15);\n",
              "      filter: drop-shadow(0px 1px 2px rgba(0, 0, 0, 0.3));\n",
              "      fill: #FFFFFF;\n",
              "    }\n",
              "  </style>\n",
              "\n",
              "      <script>\n",
              "        const buttonEl =\n",
              "          document.querySelector('#df-00143243-f7f4-40f2-898c-76776b120abe button.colab-df-convert');\n",
              "        buttonEl.style.display =\n",
              "          google.colab.kernel.accessAllowed ? 'block' : 'none';\n",
              "\n",
              "        async function convertToInteractive(key) {\n",
              "          const element = document.querySelector('#df-00143243-f7f4-40f2-898c-76776b120abe');\n",
              "          const dataTable =\n",
              "            await google.colab.kernel.invokeFunction('convertToInteractive',\n",
              "                                                     [key], {});\n",
              "          if (!dataTable) return;\n",
              "\n",
              "          const docLinkHtml = 'Like what you see? Visit the ' +\n",
              "            '<a target=\"_blank\" href=https://colab.research.google.com/notebooks/data_table.ipynb>data table notebook</a>'\n",
              "            + ' to learn more about interactive tables.';\n",
              "          element.innerHTML = '';\n",
              "          dataTable['output_type'] = 'display_data';\n",
              "          await google.colab.output.renderOutput(dataTable, element);\n",
              "          const docLink = document.createElement('div');\n",
              "          docLink.innerHTML = docLinkHtml;\n",
              "          element.appendChild(docLink);\n",
              "        }\n",
              "      </script>\n",
              "    </div>\n",
              "  </div>\n",
              "  "
            ]
          },
          "metadata": {},
          "execution_count": 196
        }
      ],
      "source": [
        "preds"
      ]
    },
    {
      "cell_type": "markdown",
      "metadata": {
        "id": "VOS21GT-gOzH"
      },
      "source": [
        "# now working on headlines"
      ]
    },
    {
      "cell_type": "code",
      "execution_count": 197,
      "metadata": {
        "colab": {
          "base_uri": "https://localhost:8080/",
          "height": 206
        },
        "id": "wFmAITs64xzF",
        "outputId": "646a130e-b792-475b-a661-c97c98ee5776"
      },
      "outputs": [
        {
          "output_type": "execute_result",
          "data": {
            "text/plain": [
              "                                           Headlines  \\\n",
              "0  Jim Cramer: A better way to invest in the Covi...   \n",
              "1     Cramer's lightning round: I would own Teradyne   \n",
              "3  Cramer's week ahead: Big week for earnings, ev...   \n",
              "4  IQ Capital CEO Keith Bliss says tech and healt...   \n",
              "5  Wall Street delivered the 'kind of pullback I'...   \n",
              "\n",
              "                             Time  \n",
              "0   7:51  PM ET Fri, 17 July 2020  \n",
              "1   7:33  PM ET Fri, 17 July 2020  \n",
              "3   7:25  PM ET Fri, 17 July 2020  \n",
              "4   4:24  PM ET Fri, 17 July 2020  \n",
              "5   7:36  PM ET Thu, 16 July 2020  "
            ],
            "text/html": [
              "\n",
              "  <div id=\"df-b4d77f1d-8cfe-437d-a3db-ed90d11ed69d\">\n",
              "    <div class=\"colab-df-container\">\n",
              "      <div>\n",
              "<style scoped>\n",
              "    .dataframe tbody tr th:only-of-type {\n",
              "        vertical-align: middle;\n",
              "    }\n",
              "\n",
              "    .dataframe tbody tr th {\n",
              "        vertical-align: top;\n",
              "    }\n",
              "\n",
              "    .dataframe thead th {\n",
              "        text-align: right;\n",
              "    }\n",
              "</style>\n",
              "<table border=\"1\" class=\"dataframe\">\n",
              "  <thead>\n",
              "    <tr style=\"text-align: right;\">\n",
              "      <th></th>\n",
              "      <th>Headlines</th>\n",
              "      <th>Time</th>\n",
              "    </tr>\n",
              "  </thead>\n",
              "  <tbody>\n",
              "    <tr>\n",
              "      <th>0</th>\n",
              "      <td>Jim Cramer: A better way to invest in the Covi...</td>\n",
              "      <td>7:51  PM ET Fri, 17 July 2020</td>\n",
              "    </tr>\n",
              "    <tr>\n",
              "      <th>1</th>\n",
              "      <td>Cramer's lightning round: I would own Teradyne</td>\n",
              "      <td>7:33  PM ET Fri, 17 July 2020</td>\n",
              "    </tr>\n",
              "    <tr>\n",
              "      <th>3</th>\n",
              "      <td>Cramer's week ahead: Big week for earnings, ev...</td>\n",
              "      <td>7:25  PM ET Fri, 17 July 2020</td>\n",
              "    </tr>\n",
              "    <tr>\n",
              "      <th>4</th>\n",
              "      <td>IQ Capital CEO Keith Bliss says tech and healt...</td>\n",
              "      <td>4:24  PM ET Fri, 17 July 2020</td>\n",
              "    </tr>\n",
              "    <tr>\n",
              "      <th>5</th>\n",
              "      <td>Wall Street delivered the 'kind of pullback I'...</td>\n",
              "      <td>7:36  PM ET Thu, 16 July 2020</td>\n",
              "    </tr>\n",
              "  </tbody>\n",
              "</table>\n",
              "</div>\n",
              "      <button class=\"colab-df-convert\" onclick=\"convertToInteractive('df-b4d77f1d-8cfe-437d-a3db-ed90d11ed69d')\"\n",
              "              title=\"Convert this dataframe to an interactive table.\"\n",
              "              style=\"display:none;\">\n",
              "        \n",
              "  <svg xmlns=\"http://www.w3.org/2000/svg\" height=\"24px\"viewBox=\"0 0 24 24\"\n",
              "       width=\"24px\">\n",
              "    <path d=\"M0 0h24v24H0V0z\" fill=\"none\"/>\n",
              "    <path d=\"M18.56 5.44l.94 2.06.94-2.06 2.06-.94-2.06-.94-.94-2.06-.94 2.06-2.06.94zm-11 1L8.5 8.5l.94-2.06 2.06-.94-2.06-.94L8.5 2.5l-.94 2.06-2.06.94zm10 10l.94 2.06.94-2.06 2.06-.94-2.06-.94-.94-2.06-.94 2.06-2.06.94z\"/><path d=\"M17.41 7.96l-1.37-1.37c-.4-.4-.92-.59-1.43-.59-.52 0-1.04.2-1.43.59L10.3 9.45l-7.72 7.72c-.78.78-.78 2.05 0 2.83L4 21.41c.39.39.9.59 1.41.59.51 0 1.02-.2 1.41-.59l7.78-7.78 2.81-2.81c.8-.78.8-2.07 0-2.86zM5.41 20L4 18.59l7.72-7.72 1.47 1.35L5.41 20z\"/>\n",
              "  </svg>\n",
              "      </button>\n",
              "      \n",
              "  <style>\n",
              "    .colab-df-container {\n",
              "      display:flex;\n",
              "      flex-wrap:wrap;\n",
              "      gap: 12px;\n",
              "    }\n",
              "\n",
              "    .colab-df-convert {\n",
              "      background-color: #E8F0FE;\n",
              "      border: none;\n",
              "      border-radius: 50%;\n",
              "      cursor: pointer;\n",
              "      display: none;\n",
              "      fill: #1967D2;\n",
              "      height: 32px;\n",
              "      padding: 0 0 0 0;\n",
              "      width: 32px;\n",
              "    }\n",
              "\n",
              "    .colab-df-convert:hover {\n",
              "      background-color: #E2EBFA;\n",
              "      box-shadow: 0px 1px 2px rgba(60, 64, 67, 0.3), 0px 1px 3px 1px rgba(60, 64, 67, 0.15);\n",
              "      fill: #174EA6;\n",
              "    }\n",
              "\n",
              "    [theme=dark] .colab-df-convert {\n",
              "      background-color: #3B4455;\n",
              "      fill: #D2E3FC;\n",
              "    }\n",
              "\n",
              "    [theme=dark] .colab-df-convert:hover {\n",
              "      background-color: #434B5C;\n",
              "      box-shadow: 0px 1px 3px 1px rgba(0, 0, 0, 0.15);\n",
              "      filter: drop-shadow(0px 1px 2px rgba(0, 0, 0, 0.3));\n",
              "      fill: #FFFFFF;\n",
              "    }\n",
              "  </style>\n",
              "\n",
              "      <script>\n",
              "        const buttonEl =\n",
              "          document.querySelector('#df-b4d77f1d-8cfe-437d-a3db-ed90d11ed69d button.colab-df-convert');\n",
              "        buttonEl.style.display =\n",
              "          google.colab.kernel.accessAllowed ? 'block' : 'none';\n",
              "\n",
              "        async function convertToInteractive(key) {\n",
              "          const element = document.querySelector('#df-b4d77f1d-8cfe-437d-a3db-ed90d11ed69d');\n",
              "          const dataTable =\n",
              "            await google.colab.kernel.invokeFunction('convertToInteractive',\n",
              "                                                     [key], {});\n",
              "          if (!dataTable) return;\n",
              "\n",
              "          const docLinkHtml = 'Like what you see? Visit the ' +\n",
              "            '<a target=\"_blank\" href=https://colab.research.google.com/notebooks/data_table.ipynb>data table notebook</a>'\n",
              "            + ' to learn more about interactive tables.';\n",
              "          element.innerHTML = '';\n",
              "          dataTable['output_type'] = 'display_data';\n",
              "          await google.colab.output.renderOutput(dataTable, element);\n",
              "          const docLink = document.createElement('div');\n",
              "          docLink.innerHTML = docLinkHtml;\n",
              "          element.appendChild(docLink);\n",
              "        }\n",
              "      </script>\n",
              "    </div>\n",
              "  </div>\n",
              "  "
            ]
          },
          "metadata": {},
          "execution_count": 197
        }
      ],
      "source": [
        "# from the dataset you have copied before delete the column of description\n",
        "c_r=cnbc_reuters.drop(['Description'],axis=1)\n",
        "c_r.head(5)"
      ]
    },
    {
      "cell_type": "code",
      "execution_count": 198,
      "metadata": {
        "id": "7PmKhFHl4xs-"
      },
      "outputs": [],
      "source": [
        "# cancatenate the gaurdian headlines dataset and  copy of datasetto get all headlines together\n",
        "head_df=pd.concat([guardian,c_r],axis=0)"
      ]
    },
    {
      "cell_type": "code",
      "execution_count": 199,
      "metadata": {
        "colab": {
          "base_uri": "https://localhost:8080/",
          "height": 206
        },
        "id": "2WSYMgUm4xps",
        "outputId": "6d4157cd-f5d7-4472-9d89-e52d9c75e047"
      },
      "outputs": [
        {
          "output_type": "execute_result",
          "data": {
            "text/plain": [
              "        Time                                          Headlines\n",
              "0  18-Jul-20   Johnson is asking Santa for a Christmas recovery\n",
              "1  18-Jul-20  ‘I now fear the worst’: four grim tales of wor...\n",
              "2  18-Jul-20  Five key areas Sunak must tackle to serve up e...\n",
              "3  18-Jul-20  Covid-19 leaves firms ‘fatally ill-prepared’ f...\n",
              "4  18-Jul-20  The Week in Patriarchy  \\n\\n\\n  Bacardi's 'lad..."
            ],
            "text/html": [
              "\n",
              "  <div id=\"df-9acdc1f8-9833-4f11-ac20-17b6fe72d863\">\n",
              "    <div class=\"colab-df-container\">\n",
              "      <div>\n",
              "<style scoped>\n",
              "    .dataframe tbody tr th:only-of-type {\n",
              "        vertical-align: middle;\n",
              "    }\n",
              "\n",
              "    .dataframe tbody tr th {\n",
              "        vertical-align: top;\n",
              "    }\n",
              "\n",
              "    .dataframe thead th {\n",
              "        text-align: right;\n",
              "    }\n",
              "</style>\n",
              "<table border=\"1\" class=\"dataframe\">\n",
              "  <thead>\n",
              "    <tr style=\"text-align: right;\">\n",
              "      <th></th>\n",
              "      <th>Time</th>\n",
              "      <th>Headlines</th>\n",
              "    </tr>\n",
              "  </thead>\n",
              "  <tbody>\n",
              "    <tr>\n",
              "      <th>0</th>\n",
              "      <td>18-Jul-20</td>\n",
              "      <td>Johnson is asking Santa for a Christmas recovery</td>\n",
              "    </tr>\n",
              "    <tr>\n",
              "      <th>1</th>\n",
              "      <td>18-Jul-20</td>\n",
              "      <td>‘I now fear the worst’: four grim tales of wor...</td>\n",
              "    </tr>\n",
              "    <tr>\n",
              "      <th>2</th>\n",
              "      <td>18-Jul-20</td>\n",
              "      <td>Five key areas Sunak must tackle to serve up e...</td>\n",
              "    </tr>\n",
              "    <tr>\n",
              "      <th>3</th>\n",
              "      <td>18-Jul-20</td>\n",
              "      <td>Covid-19 leaves firms ‘fatally ill-prepared’ f...</td>\n",
              "    </tr>\n",
              "    <tr>\n",
              "      <th>4</th>\n",
              "      <td>18-Jul-20</td>\n",
              "      <td>The Week in Patriarchy  \\n\\n\\n  Bacardi's 'lad...</td>\n",
              "    </tr>\n",
              "  </tbody>\n",
              "</table>\n",
              "</div>\n",
              "      <button class=\"colab-df-convert\" onclick=\"convertToInteractive('df-9acdc1f8-9833-4f11-ac20-17b6fe72d863')\"\n",
              "              title=\"Convert this dataframe to an interactive table.\"\n",
              "              style=\"display:none;\">\n",
              "        \n",
              "  <svg xmlns=\"http://www.w3.org/2000/svg\" height=\"24px\"viewBox=\"0 0 24 24\"\n",
              "       width=\"24px\">\n",
              "    <path d=\"M0 0h24v24H0V0z\" fill=\"none\"/>\n",
              "    <path d=\"M18.56 5.44l.94 2.06.94-2.06 2.06-.94-2.06-.94-.94-2.06-.94 2.06-2.06.94zm-11 1L8.5 8.5l.94-2.06 2.06-.94-2.06-.94L8.5 2.5l-.94 2.06-2.06.94zm10 10l.94 2.06.94-2.06 2.06-.94-2.06-.94-.94-2.06-.94 2.06-2.06.94z\"/><path d=\"M17.41 7.96l-1.37-1.37c-.4-.4-.92-.59-1.43-.59-.52 0-1.04.2-1.43.59L10.3 9.45l-7.72 7.72c-.78.78-.78 2.05 0 2.83L4 21.41c.39.39.9.59 1.41.59.51 0 1.02-.2 1.41-.59l7.78-7.78 2.81-2.81c.8-.78.8-2.07 0-2.86zM5.41 20L4 18.59l7.72-7.72 1.47 1.35L5.41 20z\"/>\n",
              "  </svg>\n",
              "      </button>\n",
              "      \n",
              "  <style>\n",
              "    .colab-df-container {\n",
              "      display:flex;\n",
              "      flex-wrap:wrap;\n",
              "      gap: 12px;\n",
              "    }\n",
              "\n",
              "    .colab-df-convert {\n",
              "      background-color: #E8F0FE;\n",
              "      border: none;\n",
              "      border-radius: 50%;\n",
              "      cursor: pointer;\n",
              "      display: none;\n",
              "      fill: #1967D2;\n",
              "      height: 32px;\n",
              "      padding: 0 0 0 0;\n",
              "      width: 32px;\n",
              "    }\n",
              "\n",
              "    .colab-df-convert:hover {\n",
              "      background-color: #E2EBFA;\n",
              "      box-shadow: 0px 1px 2px rgba(60, 64, 67, 0.3), 0px 1px 3px 1px rgba(60, 64, 67, 0.15);\n",
              "      fill: #174EA6;\n",
              "    }\n",
              "\n",
              "    [theme=dark] .colab-df-convert {\n",
              "      background-color: #3B4455;\n",
              "      fill: #D2E3FC;\n",
              "    }\n",
              "\n",
              "    [theme=dark] .colab-df-convert:hover {\n",
              "      background-color: #434B5C;\n",
              "      box-shadow: 0px 1px 3px 1px rgba(0, 0, 0, 0.15);\n",
              "      filter: drop-shadow(0px 1px 2px rgba(0, 0, 0, 0.3));\n",
              "      fill: #FFFFFF;\n",
              "    }\n",
              "  </style>\n",
              "\n",
              "      <script>\n",
              "        const buttonEl =\n",
              "          document.querySelector('#df-9acdc1f8-9833-4f11-ac20-17b6fe72d863 button.colab-df-convert');\n",
              "        buttonEl.style.display =\n",
              "          google.colab.kernel.accessAllowed ? 'block' : 'none';\n",
              "\n",
              "        async function convertToInteractive(key) {\n",
              "          const element = document.querySelector('#df-9acdc1f8-9833-4f11-ac20-17b6fe72d863');\n",
              "          const dataTable =\n",
              "            await google.colab.kernel.invokeFunction('convertToInteractive',\n",
              "                                                     [key], {});\n",
              "          if (!dataTable) return;\n",
              "\n",
              "          const docLinkHtml = 'Like what you see? Visit the ' +\n",
              "            '<a target=\"_blank\" href=https://colab.research.google.com/notebooks/data_table.ipynb>data table notebook</a>'\n",
              "            + ' to learn more about interactive tables.';\n",
              "          element.innerHTML = '';\n",
              "          dataTable['output_type'] = 'display_data';\n",
              "          await google.colab.output.renderOutput(dataTable, element);\n",
              "          const docLink = document.createElement('div');\n",
              "          docLink.innerHTML = docLinkHtml;\n",
              "          element.appendChild(docLink);\n",
              "        }\n",
              "      </script>\n",
              "    </div>\n",
              "  </div>\n",
              "  "
            ]
          },
          "metadata": {},
          "execution_count": 199
        }
      ],
      "source": [
        "head_df.head(5)"
      ]
    },
    {
      "cell_type": "code",
      "execution_count": 200,
      "metadata": {
        "colab": {
          "base_uri": "https://localhost:8080/"
        },
        "id": "4b_DReQJ4xnw",
        "outputId": "2afcc944-60f1-4f7a-b968-c61e6d5fd838"
      },
      "outputs": [
        {
          "output_type": "execute_result",
          "data": {
            "text/plain": [
              "(53315, 2)"
            ]
          },
          "metadata": {},
          "execution_count": 200
        }
      ],
      "source": [
        "# check the shape of all headlines dataset\n",
        "head_df.shape"
      ]
    },
    {
      "cell_type": "code",
      "execution_count": 201,
      "metadata": {
        "id": "Xn2AN-6MAgQE"
      },
      "outputs": [],
      "source": [
        "#apply preprocessin to the headlines column in the new dataset\n",
        "head_df['Headlines']=head_df['Headlines'].apply(preprocessing)"
      ]
    },
    {
      "cell_type": "code",
      "execution_count": 202,
      "metadata": {
        "id": "EBdenfoGAgOL"
      },
      "outputs": [],
      "source": [
        "# analyze polarity score of values in headlines and  add new column of it in dataset\n",
        "headlines_df=sentiment_analysis(head_df,'Headlines')\n"
      ]
    },
    {
      "cell_type": "code",
      "execution_count": 203,
      "metadata": {
        "colab": {
          "base_uri": "https://localhost:8080/",
          "height": 206
        },
        "id": "OexQKGBxAgKb",
        "outputId": "82f4a1b8-8099-4d5b-ef36-d6e8e9fcb855"
      },
      "outputs": [
        {
          "output_type": "execute_result",
          "data": {
            "text/plain": [
              "        Time                                          Headlines  ds_score\n",
              "0  18-Jul-20                johnson ask santa christma recoveri   Neutral\n",
              "1  18-Jul-20  fear worst four grim tale work life upend covid19  Negative\n",
              "2  18-Jul-20  five key area sunak must tackl serv econom rec...   Neutral\n",
              "3  18-Jul-20    covid19 leav firm fatal illprepar nodeal brexit  Negative\n",
              "4  18-Jul-20  week patriarchi bacardi ladi vodka latest long...  Negative"
            ],
            "text/html": [
              "\n",
              "  <div id=\"df-514d4e9c-a2b0-4a0c-991d-3ad1c3531121\">\n",
              "    <div class=\"colab-df-container\">\n",
              "      <div>\n",
              "<style scoped>\n",
              "    .dataframe tbody tr th:only-of-type {\n",
              "        vertical-align: middle;\n",
              "    }\n",
              "\n",
              "    .dataframe tbody tr th {\n",
              "        vertical-align: top;\n",
              "    }\n",
              "\n",
              "    .dataframe thead th {\n",
              "        text-align: right;\n",
              "    }\n",
              "</style>\n",
              "<table border=\"1\" class=\"dataframe\">\n",
              "  <thead>\n",
              "    <tr style=\"text-align: right;\">\n",
              "      <th></th>\n",
              "      <th>Time</th>\n",
              "      <th>Headlines</th>\n",
              "      <th>ds_score</th>\n",
              "    </tr>\n",
              "  </thead>\n",
              "  <tbody>\n",
              "    <tr>\n",
              "      <th>0</th>\n",
              "      <td>18-Jul-20</td>\n",
              "      <td>johnson ask santa christma recoveri</td>\n",
              "      <td>Neutral</td>\n",
              "    </tr>\n",
              "    <tr>\n",
              "      <th>1</th>\n",
              "      <td>18-Jul-20</td>\n",
              "      <td>fear worst four grim tale work life upend covid19</td>\n",
              "      <td>Negative</td>\n",
              "    </tr>\n",
              "    <tr>\n",
              "      <th>2</th>\n",
              "      <td>18-Jul-20</td>\n",
              "      <td>five key area sunak must tackl serv econom rec...</td>\n",
              "      <td>Neutral</td>\n",
              "    </tr>\n",
              "    <tr>\n",
              "      <th>3</th>\n",
              "      <td>18-Jul-20</td>\n",
              "      <td>covid19 leav firm fatal illprepar nodeal brexit</td>\n",
              "      <td>Negative</td>\n",
              "    </tr>\n",
              "    <tr>\n",
              "      <th>4</th>\n",
              "      <td>18-Jul-20</td>\n",
              "      <td>week patriarchi bacardi ladi vodka latest long...</td>\n",
              "      <td>Negative</td>\n",
              "    </tr>\n",
              "  </tbody>\n",
              "</table>\n",
              "</div>\n",
              "      <button class=\"colab-df-convert\" onclick=\"convertToInteractive('df-514d4e9c-a2b0-4a0c-991d-3ad1c3531121')\"\n",
              "              title=\"Convert this dataframe to an interactive table.\"\n",
              "              style=\"display:none;\">\n",
              "        \n",
              "  <svg xmlns=\"http://www.w3.org/2000/svg\" height=\"24px\"viewBox=\"0 0 24 24\"\n",
              "       width=\"24px\">\n",
              "    <path d=\"M0 0h24v24H0V0z\" fill=\"none\"/>\n",
              "    <path d=\"M18.56 5.44l.94 2.06.94-2.06 2.06-.94-2.06-.94-.94-2.06-.94 2.06-2.06.94zm-11 1L8.5 8.5l.94-2.06 2.06-.94-2.06-.94L8.5 2.5l-.94 2.06-2.06.94zm10 10l.94 2.06.94-2.06 2.06-.94-2.06-.94-.94-2.06-.94 2.06-2.06.94z\"/><path d=\"M17.41 7.96l-1.37-1.37c-.4-.4-.92-.59-1.43-.59-.52 0-1.04.2-1.43.59L10.3 9.45l-7.72 7.72c-.78.78-.78 2.05 0 2.83L4 21.41c.39.39.9.59 1.41.59.51 0 1.02-.2 1.41-.59l7.78-7.78 2.81-2.81c.8-.78.8-2.07 0-2.86zM5.41 20L4 18.59l7.72-7.72 1.47 1.35L5.41 20z\"/>\n",
              "  </svg>\n",
              "      </button>\n",
              "      \n",
              "  <style>\n",
              "    .colab-df-container {\n",
              "      display:flex;\n",
              "      flex-wrap:wrap;\n",
              "      gap: 12px;\n",
              "    }\n",
              "\n",
              "    .colab-df-convert {\n",
              "      background-color: #E8F0FE;\n",
              "      border: none;\n",
              "      border-radius: 50%;\n",
              "      cursor: pointer;\n",
              "      display: none;\n",
              "      fill: #1967D2;\n",
              "      height: 32px;\n",
              "      padding: 0 0 0 0;\n",
              "      width: 32px;\n",
              "    }\n",
              "\n",
              "    .colab-df-convert:hover {\n",
              "      background-color: #E2EBFA;\n",
              "      box-shadow: 0px 1px 2px rgba(60, 64, 67, 0.3), 0px 1px 3px 1px rgba(60, 64, 67, 0.15);\n",
              "      fill: #174EA6;\n",
              "    }\n",
              "\n",
              "    [theme=dark] .colab-df-convert {\n",
              "      background-color: #3B4455;\n",
              "      fill: #D2E3FC;\n",
              "    }\n",
              "\n",
              "    [theme=dark] .colab-df-convert:hover {\n",
              "      background-color: #434B5C;\n",
              "      box-shadow: 0px 1px 3px 1px rgba(0, 0, 0, 0.15);\n",
              "      filter: drop-shadow(0px 1px 2px rgba(0, 0, 0, 0.3));\n",
              "      fill: #FFFFFF;\n",
              "    }\n",
              "  </style>\n",
              "\n",
              "      <script>\n",
              "        const buttonEl =\n",
              "          document.querySelector('#df-514d4e9c-a2b0-4a0c-991d-3ad1c3531121 button.colab-df-convert');\n",
              "        buttonEl.style.display =\n",
              "          google.colab.kernel.accessAllowed ? 'block' : 'none';\n",
              "\n",
              "        async function convertToInteractive(key) {\n",
              "          const element = document.querySelector('#df-514d4e9c-a2b0-4a0c-991d-3ad1c3531121');\n",
              "          const dataTable =\n",
              "            await google.colab.kernel.invokeFunction('convertToInteractive',\n",
              "                                                     [key], {});\n",
              "          if (!dataTable) return;\n",
              "\n",
              "          const docLinkHtml = 'Like what you see? Visit the ' +\n",
              "            '<a target=\"_blank\" href=https://colab.research.google.com/notebooks/data_table.ipynb>data table notebook</a>'\n",
              "            + ' to learn more about interactive tables.';\n",
              "          element.innerHTML = '';\n",
              "          dataTable['output_type'] = 'display_data';\n",
              "          await google.colab.output.renderOutput(dataTable, element);\n",
              "          const docLink = document.createElement('div');\n",
              "          docLink.innerHTML = docLinkHtml;\n",
              "          element.appendChild(docLink);\n",
              "        }\n",
              "      </script>\n",
              "    </div>\n",
              "  </div>\n",
              "  "
            ]
          },
          "metadata": {},
          "execution_count": 203
        }
      ],
      "source": [
        "headlines_df.head(5)\n"
      ]
    },
    {
      "cell_type": "code",
      "execution_count": 204,
      "metadata": {
        "colab": {
          "base_uri": "https://localhost:8080/",
          "height": 301
        },
        "id": "NiIoQpS1AgIg",
        "outputId": "ee1a098e-1917-49a2-d0b2-e357fcf94f6c"
      },
      "outputs": [
        {
          "output_type": "execute_result",
          "data": {
            "text/plain": [
              "<matplotlib.axes._subplots.AxesSubplot at 0x7f31f6296550>"
            ]
          },
          "metadata": {},
          "execution_count": 204
        },
        {
          "output_type": "display_data",
          "data": {
            "text/plain": [
              "<Figure size 432x288 with 1 Axes>"
            ],
            "image/png": "[encoded data removed]"
          },
          "metadata": {
            "needs_background": "light"
          }
        }
      ],
      "source": [
        "#perform countplot on headline score column\n",
        "sns.countplot(x='ds_score',data=headlines_df)\n"
      ]
    },
    {
      "cell_type": "code",
      "source": [
        "headlines_df['ds_score'].value_counts()"
      ],
      "metadata": {
        "colab": {
          "base_uri": "https://localhost:8080/"
        },
        "id": "GkLIz9tseAiO",
        "outputId": "84525dbf-cebb-42f5-ff6d-d77ca7de67dc"
      },
      "execution_count": 205,
      "outputs": [
        {
          "output_type": "execute_result",
          "data": {
            "text/plain": [
              "Neutral     23986\n",
              "Negative    16115\n",
              "Positive    13214\n",
              "Name: ds_score, dtype: int64"
            ]
          },
          "metadata": {},
          "execution_count": 205
        }
      ]
    },
    {
      "cell_type": "markdown",
      "metadata": {
        "id": "LDnyTYgCzzOs"
      },
      "source": [
        "In the headlines\n",
        "\n",
        "there are approx\n",
        "\n",
        "13214 positive statment\n",
        "\n",
        "16115 negative statment\n",
        "\n",
        "23986 neutral statment"
      ]
    },
    {
      "cell_type": "code",
      "execution_count": 206,
      "metadata": {
        "colab": {
          "base_uri": "https://localhost:8080/",
          "height": 248
        },
        "id": "0do52B-enPVe",
        "outputId": "2a8570f1-00cf-43f6-91c5-c4e2727ba15c"
      },
      "outputs": [
        {
          "output_type": "display_data",
          "data": {
            "text/plain": [
              "<Figure size 432x288 with 1 Axes>"
            ],
            "image/png": "[encoded data removed]"
          },
          "metadata": {}
        }
      ],
      "source": [
        "#perform pie digram on headline score column\n",
        "plt.pie([13214, 16115, 23986],labels=['Positive','Negative','Neutral'], autopct='%.1f', startangle=90)\n",
        "plt.show()\n"
      ]
    },
    {
      "cell_type": "markdown",
      "metadata": {
        "id": "8kckcYtg0DW6"
      },
      "source": [
        "In the dataset\n",
        "\n",
        "headlines contains\n",
        "\n",
        "24.8% positive statments\n",
        "\n",
        "30.3% negtive statements\n",
        "\n",
        "44.9% neutral statments"
      ]
    },
    {
      "cell_type": "markdown",
      "metadata": {
        "id": "xldbLpNQgfG-"
      },
      "source": [
        "# Modeling on headlines"
      ]
    },
    {
      "cell_type": "code",
      "execution_count": 207,
      "metadata": {
        "id": "T1v5tZHj4xk7",
        "colab": {
          "base_uri": "https://localhost:8080/"
        },
        "outputId": "a3642e2c-bc52-4f58-a8f0-4d02a93e815e"
      },
      "outputs": [
        {
          "output_type": "stream",
          "name": "stdout",
          "text": [
            "(47983,) (5332,) (47983,) (5332,)\n"
          ]
        }
      ],
      "source": [
        "# split the dataset  into test and train \n",
        "# 90% train , 10% test and random state 212\n",
        "\n",
        "x = headlines_df['Headlines']\n",
        "y = headlines_df.ds_score\n",
        "\n",
        "x_train, x_test, y_train, y_test = train_test_split(x, y, test_size=0.1, random_state=212)\n",
        "print(x_train.shape, x_test.shape, y_train.shape, y_test.shape)"
      ]
    },
    {
      "cell_type": "markdown",
      "metadata": {
        "id": "x4bzS8ZiiZ5I"
      },
      "source": [
        "LINEAR SUPPORT VECTOR MACHINE"
      ]
    },
    {
      "cell_type": "code",
      "execution_count": 208,
      "metadata": {
        "colab": {
          "base_uri": "https://localhost:8080/"
        },
        "id": "ajb1LxXxhsKS",
        "outputId": "d3365435-c618-472e-9588-e50f6a75e091"
      },
      "outputs": [
        {
          "output_type": "stream",
          "name": "stdout",
          "text": [
            "MODEL: LINEAR SVM\n",
            "accuracy:  97.03675918979745 %\n",
            "confusion matrix:  [[1510   29   53]\n",
            " [   5 2341    9]\n",
            " [  42   20 1323]]\n",
            "              precision    recall  f1-score   support\n",
            "\n",
            "    Negative       0.97      0.95      0.96      1592\n",
            "     Neutral       0.98      0.99      0.99      2355\n",
            "    Positive       0.96      0.96      0.96      1385\n",
            "\n",
            "    accuracy                           0.97      5332\n",
            "   macro avg       0.97      0.97      0.97      5332\n",
            "weighted avg       0.97      0.97      0.97      5332\n",
            "\n",
            "CPU times: user 1.4 s, sys: 2.93 ms, total: 1.4 s\n",
            "Wall time: 1.4 s\n"
          ]
        }
      ],
      "source": [
        "%%time\n",
        "# pipeline creation\n",
        "# 1. tfidVectorization\n",
        "# 2. linearSVC model\n",
        "\n",
        "\n",
        "# Fit the pipeline to the data\n",
        "lin_svm_head=Pipeline([('tfid',TfidfVectorizer()),\n",
        "                       ('lin_svm',LinearSVC())])\n",
        "\n",
        "lin_svm_head.fit(x_train,y_train)\n",
        "\n",
        "#predict on test dataset\n",
        "pred=lin_svm_head.predict(x_test)\n",
        "\n",
        "print(\"MODEL: LINEAR SVM\")\n",
        "\n",
        "#print accuracy\n",
        "print(\"accuracy: \",accuracy_score(y_test,pred)*100,\"%\")\n",
        "#print confusion matrix\n",
        "print(\"confusion matrix: \",confusion_matrix(y_test,pred))\n",
        "# print classification report\n",
        "print(classification_report(y_test,pred))\n",
        "\n"
      ]
    },
    {
      "cell_type": "markdown",
      "metadata": {
        "id": "MSeXO8a1iePB"
      },
      "source": [
        "LOGISTIC REGRESSION"
      ]
    },
    {
      "cell_type": "code",
      "execution_count": 209,
      "metadata": {
        "colab": {
          "base_uri": "https://localhost:8080/"
        },
        "id": "nU4V-w3vhsHi",
        "outputId": "db3c577e-dccc-4035-f586-59ecc49182c8"
      },
      "outputs": [
        {
          "output_type": "stream",
          "name": "stderr",
          "text": [
            "/usr/local/lib/python3.7/dist-packages/sklearn/linear_model/_logistic.py:818: ConvergenceWarning: lbfgs failed to converge (status=1):\n",
            "STOP: TOTAL NO. of ITERATIONS REACHED LIMIT.\n",
            "\n",
            "Increase the number of iterations (max_iter) or scale the data as shown in:\n",
            "    https://scikit-learn.org/stable/modules/preprocessing.html\n",
            "Please also refer to the documentation for alternative solver options:\n",
            "    https://scikit-learn.org/stable/modules/linear_model.html#logistic-regression\n",
            "  extra_warning_msg=_LOGISTIC_SOLVER_CONVERGENCE_MSG,\n"
          ]
        },
        {
          "output_type": "stream",
          "name": "stdout",
          "text": [
            "MODEL: LOGISTIC REGRESSION\n",
            "accuracy:  93.21080270067516 %\n",
            "confusion matrix:  [[1412  118   62]\n",
            " [   5 2341    9]\n",
            " [  57  111 1217]]\n",
            "              precision    recall  f1-score   support\n",
            "\n",
            "    Negative       0.96      0.89      0.92      1592\n",
            "     Neutral       0.91      0.99      0.95      2355\n",
            "    Positive       0.94      0.88      0.91      1385\n",
            "\n",
            "    accuracy                           0.93      5332\n",
            "   macro avg       0.94      0.92      0.93      5332\n",
            "weighted avg       0.93      0.93      0.93      5332\n",
            "\n",
            "CPU times: user 6.46 s, sys: 6.03 s, total: 12.5 s\n",
            "Wall time: 6.88 s\n"
          ]
        }
      ],
      "source": [
        "%%time\n",
        "# pipeline creation \n",
        "# 1. CountVectorization\n",
        "# 2. TfidTransformer\n",
        "# 3. Logistic Regression\n",
        "\n",
        "# Fit the pipeline to the data\n",
        "log_reg_head=Pipeline([('count_vec',CountVectorizer()),\n",
        "                       ('tfid',TfidfTransformer()),\n",
        "                       ('log_reg',LogisticRegression())])\n",
        "\n",
        "log_reg_head.fit(x_train,y_train)\n",
        "#predict on test data\n",
        "pred=log_reg_head.predict(x_test)\n",
        "print(\"MODEL: LOGISTIC REGRESSION\")\n",
        "#print accuracy\n",
        "print(\"accuracy: \",accuracy_score(y_test,pred)*100,\"%\")\n",
        "#print confusion matrix\n",
        "print(\"confusion matrix: \",confusion_matrix(y_test,pred))\n",
        "# print classification report\n",
        "print(classification_report(y_test,pred))\n"
      ]
    },
    {
      "cell_type": "markdown",
      "metadata": {
        "id": "uX2i2JIwiiAk"
      },
      "source": [
        "MULTINOMIAL NAIVE BAYES\n"
      ]
    },
    {
      "cell_type": "code",
      "execution_count": 210,
      "metadata": {
        "colab": {
          "base_uri": "https://localhost:8080/"
        },
        "id": "yaq-D8-qhsFH",
        "outputId": "077488bc-7066-472e-d6c0-dafaafd303c2"
      },
      "outputs": [
        {
          "output_type": "stream",
          "name": "stdout",
          "text": [
            "MODEL :MULTINOMIAL NAIVE BAYES\n",
            "accuracy:  83.70217554388597 %\n",
            "confusion matrix:  [[1331  198   63]\n",
            " [  56 2272   27]\n",
            " [ 205  320  860]]\n",
            "              precision    recall  f1-score   support\n",
            "\n",
            "    Negative       0.84      0.84      0.84      1592\n",
            "     Neutral       0.81      0.96      0.88      2355\n",
            "    Positive       0.91      0.62      0.74      1385\n",
            "\n",
            "    accuracy                           0.84      5332\n",
            "   macro avg       0.85      0.81      0.82      5332\n",
            "weighted avg       0.84      0.84      0.83      5332\n",
            "\n",
            "CPU times: user 849 ms, sys: 4.18 ms, total: 853 ms\n",
            "Wall time: 850 ms\n"
          ]
        }
      ],
      "source": [
        "%%time\n",
        "# pipeline creation \n",
        "# 1. CountVectorizer\n",
        "# 2. TfidTransformer\n",
        "# 3. MultinomialNB\n",
        "\n",
        "# Fit the pipeline to the data\n",
        "multi_nb_head=Pipeline([('count_vec',CountVectorizer()),\n",
        "                         ('tfid',TfidfTransformer()),\n",
        "                         ('multi_nb',MultinomialNB())])\n",
        "multi_nb_head.fit(x_train,y_train)\n",
        "#predict on test data\n",
        "pred=multi_nb_head.predict(x_test)\n",
        "print(\"MODEL :MULTINOMIAL NAIVE BAYES\")\n",
        "#print accuracy\n",
        "print(\"accuracy: \",accuracy_score(y_test,pred)*100,\"%\")\n",
        "#print confusion matrix\n",
        "print(\"confusion matrix: \",confusion_matrix(y_test,pred))\n",
        "# print classification report\n",
        "print(classification_report(y_test,pred))\n",
        "\n"
      ]
    },
    {
      "cell_type": "markdown",
      "metadata": {
        "id": "67D7-TNXil6t"
      },
      "source": [
        "BERNOULLI NAIVE BAYES\n"
      ]
    },
    {
      "cell_type": "code",
      "execution_count": 211,
      "metadata": {
        "colab": {
          "base_uri": "https://localhost:8080/"
        },
        "id": "I-RnJCDxhsB6",
        "outputId": "23bb0a51-7cb9-4a4a-f7d0-ae6bbe14cfb6"
      },
      "outputs": [
        {
          "output_type": "stream",
          "name": "stdout",
          "text": [
            "MODEL :BERNOULLIS NAIVE BAYES\n",
            "accuracy:  88.63465866466616 %\n",
            "confusion matrix:  [[1415   60  117]\n",
            " [ 120 2164   71]\n",
            " [ 176   62 1147]]\n",
            "              precision    recall  f1-score   support\n",
            "\n",
            "    Negative       0.83      0.89      0.86      1592\n",
            "     Neutral       0.95      0.92      0.93      2355\n",
            "    Positive       0.86      0.83      0.84      1385\n",
            "\n",
            "    accuracy                           0.89      5332\n",
            "   macro avg       0.88      0.88      0.88      5332\n",
            "weighted avg       0.89      0.89      0.89      5332\n",
            "\n",
            "CPU times: user 848 ms, sys: 5.04 ms, total: 853 ms\n",
            "Wall time: 850 ms\n"
          ]
        }
      ],
      "source": [
        "%%time\n",
        "# pipeline creation \n",
        "# 1. CountVectorizer\n",
        "# 2. TfidTransformer\n",
        "# 3. BernoulliNB\n",
        "\n",
        "# fit the pipeline to the train data\n",
        "bern_nb_head=Pipeline([('count_vec',CountVectorizer()),\n",
        "                         ('tfid',TfidfTransformer()),\n",
        "                         ('bern_nb',BernoulliNB())])\n",
        "bern_nb_head.fit(x_train,y_train)\n",
        "#predict on test data\n",
        "pred=bern_nb_head.predict(x_test)\n",
        "print(\"MODEL :BERNOULLIS NAIVE BAYES\")\n",
        "#print accuracy\n",
        "print(\"accuracy: \",accuracy_score(y_test,pred)*100,\"%\")\n",
        "#print confusion matrix\n",
        "print(\"confusion matrix: \",confusion_matrix(y_test,pred))\n",
        "# print classification report\n",
        "print(classification_report(y_test,pred))\n",
        " \n"
      ]
    },
    {
      "cell_type": "markdown",
      "metadata": {
        "id": "8GUtphU3i5fP"
      },
      "source": [
        "GRADIENT BOOSTING CLASSIFICATION MODEL\n"
      ]
    },
    {
      "cell_type": "code",
      "execution_count": 212,
      "metadata": {
        "colab": {
          "base_uri": "https://localhost:8080/"
        },
        "id": "KSfng2DphsAG",
        "outputId": "7bfff7b1-aecc-46f8-a071-b9e296c89dff"
      },
      "outputs": [
        {
          "output_type": "stream",
          "name": "stdout",
          "text": [
            "MODEL :GRADIENT BOOST\n",
            "accuracy:  79.12603150787697 %\n",
            "confusion matrix:  [[ 989  522   81]\n",
            " [   3 2346    6]\n",
            " [  70  431  884]]\n",
            "              precision    recall  f1-score   support\n",
            "\n",
            "    Negative       0.93      0.62      0.75      1592\n",
            "     Neutral       0.71      1.00      0.83      2355\n",
            "    Positive       0.91      0.64      0.75      1385\n",
            "\n",
            "    accuracy                           0.79      5332\n",
            "   macro avg       0.85      0.75      0.78      5332\n",
            "weighted avg       0.83      0.79      0.78      5332\n",
            "\n",
            "CPU times: user 48.2 s, sys: 144 ms, total: 48.4 s\n",
            "Wall time: 48.2 s\n"
          ]
        }
      ],
      "source": [
        "%%time\n",
        "# pipeline creation \n",
        "# 1. CountVectorizer\n",
        "# 2. TfidTransformer\n",
        "# 3. GradientBoostingClassifier\n",
        "\n",
        "\n",
        "# Fit the pipeline to the data\n",
        "\n",
        "gbc_head=Pipeline([('count_vec',CountVectorizer()),\n",
        "                         ('tfid',TfidfTransformer()),\n",
        "                         ('gbc',GradientBoostingClassifier())])\n",
        "gbc_head.fit(x_train,y_train)\n",
        "#predict on test data\n",
        "pred=gbc_head.predict(x_test)\n",
        "print(\"MODEL :GRADIENT BOOST\")\n",
        "#print accuracy\n",
        "print(\"accuracy: \",accuracy_score(y_test,pred)*100,\"%\")\n",
        "#print confusion matrix\n",
        "print(\"confusion matrix: \",confusion_matrix(y_test,pred))\n",
        "# print classification report\n",
        "print(classification_report(y_test,pred))\n"
      ]
    },
    {
      "cell_type": "markdown",
      "metadata": {
        "id": "N-ucxwSqixk7"
      },
      "source": [
        "XGBOOST CLASSIFICATION MODEL\n"
      ]
    },
    {
      "cell_type": "code",
      "execution_count": 213,
      "metadata": {
        "colab": {
          "base_uri": "https://localhost:8080/"
        },
        "id": "nQg5zgOi4xid",
        "outputId": "a9c6ba70-cbcb-4f7f-a474-32e7323952df"
      },
      "outputs": [
        {
          "output_type": "stream",
          "name": "stdout",
          "text": [
            "MODEL: XG Boost\n",
            "accuarcy score:  74.84996249062266 %\n",
            "Confusion matrix:  [[ 877  643   72]\n",
            " [   3 2346    6]\n",
            " [  64  553  768]]\n",
            "              precision    recall  f1-score   support\n",
            "\n",
            "           0       0.93      0.55      0.69      1592\n",
            "           1       0.66      1.00      0.80      2355\n",
            "           2       0.91      0.55      0.69      1385\n",
            "\n",
            "    accuracy                           0.75      5332\n",
            "   macro avg       0.83      0.70      0.73      5332\n",
            "weighted avg       0.81      0.75      0.74      5332\n",
            "\n",
            "CPU times: user 22.3 s, sys: 30.1 ms, total: 22.3 s\n",
            "Wall time: 22.2 s\n"
          ]
        }
      ],
      "source": [
        "%%time\n",
        "# pipeline creation \n",
        "# 1. CountVectorizer\n",
        "# 2. TfidTransformer\n",
        "# 3. XGBClassifier\n",
        "\n",
        "\n",
        "# Fit the model to the data\n",
        "\n",
        "xgb_head = Pipeline([('count_vec', CountVectorizer()),\n",
        "                      ('tfidf', TfidfTransformer()),\n",
        "                      ('xgb', XGBClassifier())])\n",
        "\n",
        "encoder = LabelEncoder()\n",
        "enc_train = encoder.fit_transform(y_train)\n",
        "enc_test = encoder.fit_transform(y_test)\n",
        "\n",
        "xgb_head.fit(x_train, enc_train)\n",
        "\n",
        "# predict on test dataset\n",
        "pred = xgb_head.predict(x_test)\n",
        "\n",
        "print(\"MODEL: XG Boost\")\n",
        "\n",
        "# print accuracy score\n",
        "print(\"accuarcy score: \", accuracy_score(enc_test, pred)*100,\"%\")\n",
        "\n",
        "#print confusion matrix\n",
        "print(\"Confusion matrix: \", confusion_matrix(enc_test, pred))\n",
        "\n",
        "#print classification report\n",
        "print(classification_report(enc_test, pred))\n",
        "\n"
      ]
    },
    {
      "cell_type": "markdown",
      "metadata": {
        "id": "u_N_BrWyjABA"
      },
      "source": [
        "DECISION TREE CLASSIFICATION MODEL\n"
      ]
    },
    {
      "cell_type": "code",
      "execution_count": 214,
      "metadata": {
        "colab": {
          "base_uri": "https://localhost:8080/"
        },
        "id": "IvA6LRen4xeh",
        "outputId": "27a97e5d-5257-426a-f595-98d869ddd1d7"
      },
      "outputs": [
        {
          "output_type": "stream",
          "name": "stdout",
          "text": [
            "MODEL: DECISION TREE\n",
            "accuracy:  95.12378094523632 %\n",
            "confusion matrix:  [[1460   19  113]\n",
            " [   5 2348    2]\n",
            " [ 107   14 1264]]\n",
            "              precision    recall  f1-score   support\n",
            "\n",
            "    Negative       0.93      0.92      0.92      1592\n",
            "     Neutral       0.99      1.00      0.99      2355\n",
            "    Positive       0.92      0.91      0.91      1385\n",
            "\n",
            "    accuracy                           0.95      5332\n",
            "   macro avg       0.94      0.94      0.94      5332\n",
            "weighted avg       0.95      0.95      0.95      5332\n",
            "\n",
            "CPU times: user 19.2 s, sys: 15.4 ms, total: 19.2 s\n",
            "Wall time: 19.2 s\n"
          ]
        }
      ],
      "source": [
        "%%time\n",
        "# pipeline creation \n",
        "# 1. CountVectorizer\n",
        "# 2. TfidTransformer\n",
        "# 3. Decision tree classifier\n",
        "\n",
        "\n",
        "\n",
        "# Fit the pipeline to the data\n",
        "\n",
        "dec_tree_class_head=Pipeline([('count_vec',CountVectorizer()),\n",
        "                         ('tfid',TfidfTransformer()),\n",
        "                         ('dec_tree_class',DecisionTreeClassifier())])\n",
        "\n",
        "\n",
        "# Fit the pipeline to the data\n",
        "dec_tree_class_head.fit(x_train,y_train)\n",
        "\n",
        "# predict on test data\n",
        "pred=dec_tree_class_head.predict(x_test)\n",
        "\n",
        "print(\"MODEL: DECISION TREE\")\n",
        "\n",
        "#print accuracy\n",
        "print(\"accuracy: \",accuracy_score(y_test,pred)*100,\"%\")\n",
        "\n",
        "#print confusion matrix\n",
        "print(\"confusion matrix: \",confusion_matrix(y_test,pred))\n",
        "\n",
        "# print classification report\n",
        "print(classification_report(y_test,pred))"
      ]
    },
    {
      "cell_type": "markdown",
      "metadata": {
        "id": "ez0xd3SmjDAU"
      },
      "source": [
        "K- NEAREST NEIGHBOUR CLASSIFIER MODEL\n"
      ]
    },
    {
      "cell_type": "code",
      "execution_count": 215,
      "metadata": {
        "colab": {
          "base_uri": "https://localhost:8080/"
        },
        "id": "G7Y6zavB4xcc",
        "outputId": "e0bc7ec9-291e-47ef-8331-50ca3c88658b"
      },
      "outputs": [
        {
          "output_type": "stream",
          "name": "stdout",
          "text": [
            "MODEL: K NEAREST NEIGHBOR\n",
            "accuracy:  69.33608402100525 %\n",
            "confusion matrix:  [[ 896  647   49]\n",
            " [  78 2255   22]\n",
            " [ 104  735  546]]\n",
            "              precision    recall  f1-score   support\n",
            "\n",
            "    Negative       0.83      0.56      0.67      1592\n",
            "     Neutral       0.62      0.96      0.75      2355\n",
            "    Positive       0.88      0.39      0.55      1385\n",
            "\n",
            "    accuracy                           0.69      5332\n",
            "   macro avg       0.78      0.64      0.66      5332\n",
            "weighted avg       0.75      0.69      0.67      5332\n",
            "\n",
            "CPU times: user 5.32 s, sys: 33.8 ms, total: 5.36 s\n",
            "Wall time: 5.37 s\n"
          ]
        }
      ],
      "source": [
        "%%time\n",
        "# pipeline creation \n",
        "# 1. CountVectorizer\n",
        "# 2. TfidTransformer\n",
        "# 3. KNN classifier\n",
        "\n",
        "# Fit the pipeline to the data\n",
        "\n",
        "knn_head=Pipeline([('count_vec',CountVectorizer()),\n",
        "                         ('tfid',TfidfTransformer()),\n",
        "                         ('knn',KNeighborsClassifier(n_neighbors=100))])\n",
        "\n",
        "\n",
        "# Fit the pipeline to the data\n",
        "knn_head.fit(x_train,y_train)\n",
        "\n",
        "# predict on test data\n",
        "pred=knn_head.predict(x_test)\n",
        "\n",
        "print(\"MODEL: K NEAREST NEIGHBOR\")\n",
        "\n",
        "#print accuracy\n",
        "print(\"accuracy: \",accuracy_score(y_test,pred)*100,\"%\")\n",
        "\n",
        "#print confusion matrix\n",
        "print(\"confusion matrix: \",confusion_matrix(y_test,pred))\n",
        "\n",
        "# print classification report\n",
        "print(classification_report(y_test,pred))\n",
        "\n"
      ]
    },
    {
      "cell_type": "code",
      "execution_count": 216,
      "metadata": {
        "id": "ncLiLHw6rNFP"
      },
      "outputs": [],
      "source": [
        "# helper function for comparing models matric\n",
        "def testhelp(model_objects, model_names, x_test, y_test, enc_test):\n",
        "    \n",
        "    # create a dataframe with column matric and metric name as value\n",
        "    metrics_df = pd.DataFrame(columns=['model_names','accuracy','precision','recall','f1_score'])\n",
        "    metrics_df['model_names'] = model_names\n",
        "   \n",
        "    # then predict on the test set\n",
        "    metrics_df['accuracy'] = [accuracy_score(y_test, model.predict(x_test)) if model != xgb_head else accuracy_score(enc_test, model.predict(x_test)) for model in model_objects]\n",
        "    metrics_df['precision'] = [precision_score(y_test, model.predict(x_test),average='weighted') if model != xgb_head else precision_score(enc_test, model.predict(x_test), average='weighted') for model in model_objects]\n",
        "    metrics_df['recall'] = [recall_score(y_test, model.predict(x_test),average='weighted') if model != xgb_head else recall_score(enc_test, model.predict(x_test),average='weighted') for model in model_objects]\n",
        "    metrics_df['f1_score'] = [f1_score(y_test, model.predict(x_test),average='weighted') if model != xgb_head else f1_score(enc_test, model.predict(x_test), average='weighted') for model in model_objects]\n",
        "    \n",
        "    return metrics_df\n",
        "\n",
        "     "
      ]
    },
    {
      "cell_type": "code",
      "execution_count": 217,
      "metadata": {
        "id": "FspHXt4ZrdWV",
        "colab": {
          "base_uri": "https://localhost:8080/",
          "height": 300
        },
        "outputId": "4ddc62e0-77dc-4940-c25e-3d3cef29df87"
      },
      "outputs": [
        {
          "output_type": "execute_result",
          "data": {
            "text/plain": [
              "     model_names  accuracy  precision    recall  f1_score\n",
              "0      LinearSVM  0.970368   0.970304  0.970368  0.970277\n",
              "1  LogRegression  0.932108   0.933767  0.932108  0.931416\n",
              "2  MultinomialNB  0.837022   0.844440  0.837022  0.831043\n",
              "3    BernoulliNB  0.886347   0.888196  0.886347  0.886774\n",
              "4  GradientBoost  0.791260   0.828615  0.791260  0.783974\n",
              "5        XGBoost  0.748500   0.805724  0.748500  0.736762\n",
              "6   Decisiontree  0.951238   0.950944  0.951238  0.951066\n",
              "7            KNN  0.693361   0.751872  0.693361  0.674509"
            ],
            "text/html": [
              "\n",
              "  <div id=\"df-fb756cdb-b873-425b-9049-99be5179616c\">\n",
              "    <div class=\"colab-df-container\">\n",
              "      <div>\n",
              "<style scoped>\n",
              "    .dataframe tbody tr th:only-of-type {\n",
              "        vertical-align: middle;\n",
              "    }\n",
              "\n",
              "    .dataframe tbody tr th {\n",
              "        vertical-align: top;\n",
              "    }\n",
              "\n",
              "    .dataframe thead th {\n",
              "        text-align: right;\n",
              "    }\n",
              "</style>\n",
              "<table border=\"1\" class=\"dataframe\">\n",
              "  <thead>\n",
              "    <tr style=\"text-align: right;\">\n",
              "      <th></th>\n",
              "      <th>model_names</th>\n",
              "      <th>accuracy</th>\n",
              "      <th>precision</th>\n",
              "      <th>recall</th>\n",
              "      <th>f1_score</th>\n",
              "    </tr>\n",
              "  </thead>\n",
              "  <tbody>\n",
              "    <tr>\n",
              "      <th>0</th>\n",
              "      <td>LinearSVM</td>\n",
              "      <td>0.970368</td>\n",
              "      <td>0.970304</td>\n",
              "      <td>0.970368</td>\n",
              "      <td>0.970277</td>\n",
              "    </tr>\n",
              "    <tr>\n",
              "      <th>1</th>\n",
              "      <td>LogRegression</td>\n",
              "      <td>0.932108</td>\n",
              "      <td>0.933767</td>\n",
              "      <td>0.932108</td>\n",
              "      <td>0.931416</td>\n",
              "    </tr>\n",
              "    <tr>\n",
              "      <th>2</th>\n",
              "      <td>MultinomialNB</td>\n",
              "      <td>0.837022</td>\n",
              "      <td>0.844440</td>\n",
              "      <td>0.837022</td>\n",
              "      <td>0.831043</td>\n",
              "    </tr>\n",
              "    <tr>\n",
              "      <th>3</th>\n",
              "      <td>BernoulliNB</td>\n",
              "      <td>0.886347</td>\n",
              "      <td>0.888196</td>\n",
              "      <td>0.886347</td>\n",
              "      <td>0.886774</td>\n",
              "    </tr>\n",
              "    <tr>\n",
              "      <th>4</th>\n",
              "      <td>GradientBoost</td>\n",
              "      <td>0.791260</td>\n",
              "      <td>0.828615</td>\n",
              "      <td>0.791260</td>\n",
              "      <td>0.783974</td>\n",
              "    </tr>\n",
              "    <tr>\n",
              "      <th>5</th>\n",
              "      <td>XGBoost</td>\n",
              "      <td>0.748500</td>\n",
              "      <td>0.805724</td>\n",
              "      <td>0.748500</td>\n",
              "      <td>0.736762</td>\n",
              "    </tr>\n",
              "    <tr>\n",
              "      <th>6</th>\n",
              "      <td>Decisiontree</td>\n",
              "      <td>0.951238</td>\n",
              "      <td>0.950944</td>\n",
              "      <td>0.951238</td>\n",
              "      <td>0.951066</td>\n",
              "    </tr>\n",
              "    <tr>\n",
              "      <th>7</th>\n",
              "      <td>KNN</td>\n",
              "      <td>0.693361</td>\n",
              "      <td>0.751872</td>\n",
              "      <td>0.693361</td>\n",
              "      <td>0.674509</td>\n",
              "    </tr>\n",
              "  </tbody>\n",
              "</table>\n",
              "</div>\n",
              "      <button class=\"colab-df-convert\" onclick=\"convertToInteractive('df-fb756cdb-b873-425b-9049-99be5179616c')\"\n",
              "              title=\"Convert this dataframe to an interactive table.\"\n",
              "              style=\"display:none;\">\n",
              "        \n",
              "  <svg xmlns=\"http://www.w3.org/2000/svg\" height=\"24px\"viewBox=\"0 0 24 24\"\n",
              "       width=\"24px\">\n",
              "    <path d=\"M0 0h24v24H0V0z\" fill=\"none\"/>\n",
              "    <path d=\"M18.56 5.44l.94 2.06.94-2.06 2.06-.94-2.06-.94-.94-2.06-.94 2.06-2.06.94zm-11 1L8.5 8.5l.94-2.06 2.06-.94-2.06-.94L8.5 2.5l-.94 2.06-2.06.94zm10 10l.94 2.06.94-2.06 2.06-.94-2.06-.94-.94-2.06-.94 2.06-2.06.94z\"/><path d=\"M17.41 7.96l-1.37-1.37c-.4-.4-.92-.59-1.43-.59-.52 0-1.04.2-1.43.59L10.3 9.45l-7.72 7.72c-.78.78-.78 2.05 0 2.83L4 21.41c.39.39.9.59 1.41.59.51 0 1.02-.2 1.41-.59l7.78-7.78 2.81-2.81c.8-.78.8-2.07 0-2.86zM5.41 20L4 18.59l7.72-7.72 1.47 1.35L5.41 20z\"/>\n",
              "  </svg>\n",
              "      </button>\n",
              "      \n",
              "  <style>\n",
              "    .colab-df-container {\n",
              "      display:flex;\n",
              "      flex-wrap:wrap;\n",
              "      gap: 12px;\n",
              "    }\n",
              "\n",
              "    .colab-df-convert {\n",
              "      background-color: #E8F0FE;\n",
              "      border: none;\n",
              "      border-radius: 50%;\n",
              "      cursor: pointer;\n",
              "      display: none;\n",
              "      fill: #1967D2;\n",
              "      height: 32px;\n",
              "      padding: 0 0 0 0;\n",
              "      width: 32px;\n",
              "    }\n",
              "\n",
              "    .colab-df-convert:hover {\n",
              "      background-color: #E2EBFA;\n",
              "      box-shadow: 0px 1px 2px rgba(60, 64, 67, 0.3), 0px 1px 3px 1px rgba(60, 64, 67, 0.15);\n",
              "      fill: #174EA6;\n",
              "    }\n",
              "\n",
              "    [theme=dark] .colab-df-convert {\n",
              "      background-color: #3B4455;\n",
              "      fill: #D2E3FC;\n",
              "    }\n",
              "\n",
              "    [theme=dark] .colab-df-convert:hover {\n",
              "      background-color: #434B5C;\n",
              "      box-shadow: 0px 1px 3px 1px rgba(0, 0, 0, 0.15);\n",
              "      filter: drop-shadow(0px 1px 2px rgba(0, 0, 0, 0.3));\n",
              "      fill: #FFFFFF;\n",
              "    }\n",
              "  </style>\n",
              "\n",
              "      <script>\n",
              "        const buttonEl =\n",
              "          document.querySelector('#df-fb756cdb-b873-425b-9049-99be5179616c button.colab-df-convert');\n",
              "        buttonEl.style.display =\n",
              "          google.colab.kernel.accessAllowed ? 'block' : 'none';\n",
              "\n",
              "        async function convertToInteractive(key) {\n",
              "          const element = document.querySelector('#df-fb756cdb-b873-425b-9049-99be5179616c');\n",
              "          const dataTable =\n",
              "            await google.colab.kernel.invokeFunction('convertToInteractive',\n",
              "                                                     [key], {});\n",
              "          if (!dataTable) return;\n",
              "\n",
              "          const docLinkHtml = 'Like what you see? Visit the ' +\n",
              "            '<a target=\"_blank\" href=https://colab.research.google.com/notebooks/data_table.ipynb>data table notebook</a>'\n",
              "            + ' to learn more about interactive tables.';\n",
              "          element.innerHTML = '';\n",
              "          dataTable['output_type'] = 'display_data';\n",
              "          await google.colab.output.renderOutput(dataTable, element);\n",
              "          const docLink = document.createElement('div');\n",
              "          docLink.innerHTML = docLinkHtml;\n",
              "          element.appendChild(docLink);\n",
              "        }\n",
              "      </script>\n",
              "    </div>\n",
              "  </div>\n",
              "  "
            ]
          },
          "metadata": {},
          "execution_count": 217
        }
      ],
      "source": [
        "# list of model objects\n",
        "model_objects = [lin_svm_head, log_reg_head, multi_nb_head, bern_nb_head, gbc_head, xgb_head,dec_tree_class_head,knn_head]\n",
        "\n",
        "# list of model names\n",
        "model_names = ['LinearSVM', 'LogRegression','MultinomialNB','BernoulliNB','GradientBoost','XGBoost','Decisiontree','KNN']\n",
        "\n",
        "# print the comparison of models\n",
        "met_info_df = testhelp(model_objects,model_names, x_test, y_test, enc_test)\n",
        "met_info_df\n"
      ]
    },
    {
      "cell_type": "markdown",
      "metadata": {
        "id": "gsQKs2r_lSaz"
      },
      "source": [
        "# now working with test data"
      ]
    },
    {
      "cell_type": "code",
      "execution_count": 218,
      "metadata": {
        "id": "VSSPcY-VjFyc",
        "colab": {
          "base_uri": "https://localhost:8080/"
        },
        "outputId": "39db794a-301e-4ec0-af23-8b1958b0aaf1"
      },
      "outputs": [
        {
          "output_type": "execute_result",
          "data": {
            "text/plain": [
              "array(['Positive', 'Positive', 'Negative', ..., 'Positive', 'Neutral',\n",
              "       'Neutral'], dtype=object)"
            ]
          },
          "metadata": {},
          "execution_count": 218
        }
      ],
      "source": [
        "# Perforn the prediction on the test dataset\n",
        "pred=lin_svm_head.predict(x_test)\n",
        "pred"
      ]
    },
    {
      "cell_type": "code",
      "execution_count": 219,
      "metadata": {
        "id": "HZH2_2KZjFwO"
      },
      "outputs": [],
      "source": [
        "# creating a dataframe of predicted results \n",
        "preds_1=pd.DataFrame(pred,columns=['prediction'])"
      ]
    },
    {
      "cell_type": "code",
      "execution_count": 220,
      "metadata": {
        "id": "kw5ac2WWjFta",
        "colab": {
          "base_uri": "https://localhost:8080/",
          "height": 423
        },
        "outputId": "9da59fd4-738f-4069-a699-05ae839a42a9"
      },
      "outputs": [
        {
          "output_type": "execute_result",
          "data": {
            "text/plain": [
              "     prediction\n",
              "0      Positive\n",
              "1      Positive\n",
              "2      Negative\n",
              "3       Neutral\n",
              "4      Negative\n",
              "...         ...\n",
              "5327    Neutral\n",
              "5328   Negative\n",
              "5329   Positive\n",
              "5330    Neutral\n",
              "5331    Neutral\n",
              "\n",
              "[5332 rows x 1 columns]"
            ],
            "text/html": [
              "\n",
              "  <div id=\"df-bbc26c4b-61b8-4b78-9a09-db4732de531d\">\n",
              "    <div class=\"colab-df-container\">\n",
              "      <div>\n",
              "<style scoped>\n",
              "    .dataframe tbody tr th:only-of-type {\n",
              "        vertical-align: middle;\n",
              "    }\n",
              "\n",
              "    .dataframe tbody tr th {\n",
              "        vertical-align: top;\n",
              "    }\n",
              "\n",
              "    .dataframe thead th {\n",
              "        text-align: right;\n",
              "    }\n",
              "</style>\n",
              "<table border=\"1\" class=\"dataframe\">\n",
              "  <thead>\n",
              "    <tr style=\"text-align: right;\">\n",
              "      <th></th>\n",
              "      <th>prediction</th>\n",
              "    </tr>\n",
              "  </thead>\n",
              "  <tbody>\n",
              "    <tr>\n",
              "      <th>0</th>\n",
              "      <td>Positive</td>\n",
              "    </tr>\n",
              "    <tr>\n",
              "      <th>1</th>\n",
              "      <td>Positive</td>\n",
              "    </tr>\n",
              "    <tr>\n",
              "      <th>2</th>\n",
              "      <td>Negative</td>\n",
              "    </tr>\n",
              "    <tr>\n",
              "      <th>3</th>\n",
              "      <td>Neutral</td>\n",
              "    </tr>\n",
              "    <tr>\n",
              "      <th>4</th>\n",
              "      <td>Negative</td>\n",
              "    </tr>\n",
              "    <tr>\n",
              "      <th>...</th>\n",
              "      <td>...</td>\n",
              "    </tr>\n",
              "    <tr>\n",
              "      <th>5327</th>\n",
              "      <td>Neutral</td>\n",
              "    </tr>\n",
              "    <tr>\n",
              "      <th>5328</th>\n",
              "      <td>Negative</td>\n",
              "    </tr>\n",
              "    <tr>\n",
              "      <th>5329</th>\n",
              "      <td>Positive</td>\n",
              "    </tr>\n",
              "    <tr>\n",
              "      <th>5330</th>\n",
              "      <td>Neutral</td>\n",
              "    </tr>\n",
              "    <tr>\n",
              "      <th>5331</th>\n",
              "      <td>Neutral</td>\n",
              "    </tr>\n",
              "  </tbody>\n",
              "</table>\n",
              "<p>5332 rows × 1 columns</p>\n",
              "</div>\n",
              "      <button class=\"colab-df-convert\" onclick=\"convertToInteractive('df-bbc26c4b-61b8-4b78-9a09-db4732de531d')\"\n",
              "              title=\"Convert this dataframe to an interactive table.\"\n",
              "              style=\"display:none;\">\n",
              "        \n",
              "  <svg xmlns=\"http://www.w3.org/2000/svg\" height=\"24px\"viewBox=\"0 0 24 24\"\n",
              "       width=\"24px\">\n",
              "    <path d=\"M0 0h24v24H0V0z\" fill=\"none\"/>\n",
              "    <path d=\"M18.56 5.44l.94 2.06.94-2.06 2.06-.94-2.06-.94-.94-2.06-.94 2.06-2.06.94zm-11 1L8.5 8.5l.94-2.06 2.06-.94-2.06-.94L8.5 2.5l-.94 2.06-2.06.94zm10 10l.94 2.06.94-2.06 2.06-.94-2.06-.94-.94-2.06-.94 2.06-2.06.94z\"/><path d=\"M17.41 7.96l-1.37-1.37c-.4-.4-.92-.59-1.43-.59-.52 0-1.04.2-1.43.59L10.3 9.45l-7.72 7.72c-.78.78-.78 2.05 0 2.83L4 21.41c.39.39.9.59 1.41.59.51 0 1.02-.2 1.41-.59l7.78-7.78 2.81-2.81c.8-.78.8-2.07 0-2.86zM5.41 20L4 18.59l7.72-7.72 1.47 1.35L5.41 20z\"/>\n",
              "  </svg>\n",
              "      </button>\n",
              "      \n",
              "  <style>\n",
              "    .colab-df-container {\n",
              "      display:flex;\n",
              "      flex-wrap:wrap;\n",
              "      gap: 12px;\n",
              "    }\n",
              "\n",
              "    .colab-df-convert {\n",
              "      background-color: #E8F0FE;\n",
              "      border: none;\n",
              "      border-radius: 50%;\n",
              "      cursor: pointer;\n",
              "      display: none;\n",
              "      fill: #1967D2;\n",
              "      height: 32px;\n",
              "      padding: 0 0 0 0;\n",
              "      width: 32px;\n",
              "    }\n",
              "\n",
              "    .colab-df-convert:hover {\n",
              "      background-color: #E2EBFA;\n",
              "      box-shadow: 0px 1px 2px rgba(60, 64, 67, 0.3), 0px 1px 3px 1px rgba(60, 64, 67, 0.15);\n",
              "      fill: #174EA6;\n",
              "    }\n",
              "\n",
              "    [theme=dark] .colab-df-convert {\n",
              "      background-color: #3B4455;\n",
              "      fill: #D2E3FC;\n",
              "    }\n",
              "\n",
              "    [theme=dark] .colab-df-convert:hover {\n",
              "      background-color: #434B5C;\n",
              "      box-shadow: 0px 1px 3px 1px rgba(0, 0, 0, 0.15);\n",
              "      filter: drop-shadow(0px 1px 2px rgba(0, 0, 0, 0.3));\n",
              "      fill: #FFFFFF;\n",
              "    }\n",
              "  </style>\n",
              "\n",
              "      <script>\n",
              "        const buttonEl =\n",
              "          document.querySelector('#df-bbc26c4b-61b8-4b78-9a09-db4732de531d button.colab-df-convert');\n",
              "        buttonEl.style.display =\n",
              "          google.colab.kernel.accessAllowed ? 'block' : 'none';\n",
              "\n",
              "        async function convertToInteractive(key) {\n",
              "          const element = document.querySelector('#df-bbc26c4b-61b8-4b78-9a09-db4732de531d');\n",
              "          const dataTable =\n",
              "            await google.colab.kernel.invokeFunction('convertToInteractive',\n",
              "                                                     [key], {});\n",
              "          if (!dataTable) return;\n",
              "\n",
              "          const docLinkHtml = 'Like what you see? Visit the ' +\n",
              "            '<a target=\"_blank\" href=https://colab.research.google.com/notebooks/data_table.ipynb>data table notebook</a>'\n",
              "            + ' to learn more about interactive tables.';\n",
              "          element.innerHTML = '';\n",
              "          dataTable['output_type'] = 'display_data';\n",
              "          await google.colab.output.renderOutput(dataTable, element);\n",
              "          const docLink = document.createElement('div');\n",
              "          docLink.innerHTML = docLinkHtml;\n",
              "          element.appendChild(docLink);\n",
              "        }\n",
              "      </script>\n",
              "    </div>\n",
              "  </div>\n",
              "  "
            ]
          },
          "metadata": {},
          "execution_count": 220
        }
      ],
      "source": [
        "preds_1"
      ]
    },
    {
      "cell_type": "markdown",
      "metadata": {
        "id": "6ffMQY_00ufo"
      },
      "source": [
        "# Prediction"
      ]
    },
    {
      "cell_type": "markdown",
      "metadata": {
        "id": "BrQATukn0x2u"
      },
      "source": [
        "You can check the result on real time news headlines\n"
      ]
    },
    {
      "cell_type": "code",
      "execution_count": 225,
      "metadata": {
        "colab": {
          "base_uri": "https://localhost:8080/"
        },
        "id": "uRUtaAhZ0wwU",
        "outputId": "9f8a2af1-3fd0-4b0a-9e07-06483e0e0a14"
      },
      "outputs": [
        {
          "output_type": "stream",
          "name": "stdout",
          "text": [
            "['Negative']\n"
          ]
        }
      ],
      "source": [
        "sent1 = ['Covid death in Akola, first for district in 4th wave']\n",
        "y_predict = lin_svm_head.predict(sent1)\n",
        "print(y_predict)"
      ]
    },
    {
      "cell_type": "code",
      "execution_count": 226,
      "metadata": {
        "id": "_YJqDGt71DGn",
        "colab": {
          "base_uri": "https://localhost:8080/"
        },
        "outputId": "5070020a-6503-4239-dbc0-137689c0836d"
      },
      "outputs": [
        {
          "output_type": "stream",
          "name": "stdout",
          "text": [
            "['Positive']\n"
          ]
        }
      ],
      "source": [
        "sent2 = [\"EV Stock Minda Industries Gains 3% Post Bonus Issue\"]\n",
        "y_predict = lin_svm_head.predict(sent2)\n",
        "print(y_predict)"
      ]
    },
    {
      "cell_type": "markdown",
      "metadata": {
        "id": "No7lHSthFvmj"
      },
      "source": [
        " **Thank** **You**"
      ]
    }
  ],
  "metadata": {
    "colab": {
      "collapsed_sections": [],
      "name": "sentiment_analysis_of_financial_news_project.ipynb",
      "provenance": [],
      "include_colab_link": true
    },
    "kernelspec": {
      "display_name": "Python 3",
      "language": "python",
      "name": "python3"
    },
    "language_info": {
      "codemirror_mode": {
        "name": "ipython",
        "version": 3
      },
      "file_extension": ".py",
      "mimetype": "text/x-python",
      "name": "python",
      "nbconvert_exporter": "python",
      "pygments_lexer": "ipython3",
      "version": "3.7.6"
    }
  },
  "nbformat": 4,
  "nbformat_minor": 0
}